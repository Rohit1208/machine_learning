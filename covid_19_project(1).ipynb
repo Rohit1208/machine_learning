{
  "nbformat": 4,
  "nbformat_minor": 0,
  "metadata": {
    "colab": {
      "name": "covid 19 project.ipynb",
      "provenance": [],
      "collapsed_sections": []
    },
    "kernelspec": {
      "name": "python3",
      "display_name": "Python 3"
    },
    "language_info": {
      "name": "python"
    }
  },
  "cells": [
    {
      "cell_type": "code",
      "metadata": {
        "id": "maoqGus9pPSn"
      },
      "source": [
        "import pandas as pd\n",
        "import  numpy as np"
      ],
      "execution_count": 222,
      "outputs": []
    },
    {
      "cell_type": "code",
      "metadata": {
        "id": "jrBPUuN4prWZ"
      },
      "source": [
        "df =pd.read_excel(\"/content/world covid transmissio calssification.xlsx\")"
      ],
      "execution_count": 223,
      "outputs": []
    },
    {
      "cell_type": "code",
      "metadata": {
        "colab": {
          "base_uri": "https://localhost:8080/",
          "height": 739
        },
        "id": "__OKOMJHwfEE",
        "outputId": "369f0505-7a34-4a19-8132-90b0f581d897"
      },
      "source": [
        "df"
      ],
      "execution_count": 224,
      "outputs": [
        {
          "output_type": "execute_result",
          "data": {
            "text/html": [
              "<div>\n",
              "<style scoped>\n",
              "    .dataframe tbody tr th:only-of-type {\n",
              "        vertical-align: middle;\n",
              "    }\n",
              "\n",
              "    .dataframe tbody tr th {\n",
              "        vertical-align: top;\n",
              "    }\n",
              "\n",
              "    .dataframe thead th {\n",
              "        text-align: right;\n",
              "    }\n",
              "</style>\n",
              "<table border=\"1\" class=\"dataframe\">\n",
              "  <thead>\n",
              "    <tr style=\"text-align: right;\">\n",
              "      <th></th>\n",
              "      <th>Name</th>\n",
              "      <th>WHO Region</th>\n",
              "      <th>Cases - cumulative total</th>\n",
              "      <th>Cases - cumulative total per 100000 population</th>\n",
              "      <th>Cases - newly reported in last 7 days</th>\n",
              "      <th>Cases - newly reported in last 7 days per 100000 population</th>\n",
              "      <th>Cases - newly reported in last 24 hours</th>\n",
              "      <th>Deaths - cumulative total</th>\n",
              "      <th>Deaths - cumulative total per 100000 population</th>\n",
              "      <th>Deaths - newly reported in last 7 days</th>\n",
              "      <th>Deaths - newly reported in last 7 days per 100000 population</th>\n",
              "      <th>Deaths - newly reported in last 24 hours</th>\n",
              "      <th>Transmission Classification</th>\n",
              "    </tr>\n",
              "  </thead>\n",
              "  <tbody>\n",
              "    <tr>\n",
              "      <th>0</th>\n",
              "      <td>Global</td>\n",
              "      <td>NaN</td>\n",
              "      <td>177108695</td>\n",
              "      <td>2268.788711</td>\n",
              "      <td>2577991</td>\n",
              "      <td>33.024448</td>\n",
              "      <td>408990</td>\n",
              "      <td>3840223</td>\n",
              "      <td>49.193827</td>\n",
              "      <td>68758</td>\n",
              "      <td>0.8808</td>\n",
              "      <td>9749</td>\n",
              "      <td>NaN</td>\n",
              "    </tr>\n",
              "    <tr>\n",
              "      <th>1</th>\n",
              "      <td>United States of America</td>\n",
              "      <td>Americas</td>\n",
              "      <td>33175399</td>\n",
              "      <td>10022.700000</td>\n",
              "      <td>80434</td>\n",
              "      <td>24.300000</td>\n",
              "      <td>11767</td>\n",
              "      <td>595591</td>\n",
              "      <td>179.940000</td>\n",
              "      <td>2226</td>\n",
              "      <td>0.6700</td>\n",
              "      <td>335</td>\n",
              "      <td>Community transmission</td>\n",
              "    </tr>\n",
              "    <tr>\n",
              "      <th>2</th>\n",
              "      <td>India</td>\n",
              "      <td>South-East Asia</td>\n",
              "      <td>29762793</td>\n",
              "      <td>2156.720000</td>\n",
              "      <td>487970</td>\n",
              "      <td>35.360000</td>\n",
              "      <td>62480</td>\n",
              "      <td>383490</td>\n",
              "      <td>27.790000</td>\n",
              "      <td>20411</td>\n",
              "      <td>1.4800</td>\n",
              "      <td>1587</td>\n",
              "      <td>Clusters of cases</td>\n",
              "    </tr>\n",
              "    <tr>\n",
              "      <th>3</th>\n",
              "      <td>Brazil</td>\n",
              "      <td>Americas</td>\n",
              "      <td>17628588</td>\n",
              "      <td>8293.490000</td>\n",
              "      <td>505711</td>\n",
              "      <td>237.920000</td>\n",
              "      <td>95367</td>\n",
              "      <td>493693</td>\n",
              "      <td>232.260000</td>\n",
              "      <td>14178</td>\n",
              "      <td>6.6700</td>\n",
              "      <td>2997</td>\n",
              "      <td>Community transmission</td>\n",
              "    </tr>\n",
              "    <tr>\n",
              "      <th>4</th>\n",
              "      <td>France</td>\n",
              "      <td>Europe</td>\n",
              "      <td>5643756</td>\n",
              "      <td>8677.450000</td>\n",
              "      <td>18006</td>\n",
              "      <td>27.680000</td>\n",
              "      <td>2775</td>\n",
              "      <td>109743</td>\n",
              "      <td>168.730000</td>\n",
              "      <td>339</td>\n",
              "      <td>0.5200</td>\n",
              "      <td>55</td>\n",
              "      <td>Community transmission</td>\n",
              "    </tr>\n",
              "    <tr>\n",
              "      <th>...</th>\n",
              "      <td>...</td>\n",
              "      <td>...</td>\n",
              "      <td>...</td>\n",
              "      <td>...</td>\n",
              "      <td>...</td>\n",
              "      <td>...</td>\n",
              "      <td>...</td>\n",
              "      <td>...</td>\n",
              "      <td>...</td>\n",
              "      <td>...</td>\n",
              "      <td>...</td>\n",
              "      <td>...</td>\n",
              "      <td>...</td>\n",
              "    </tr>\n",
              "    <tr>\n",
              "      <th>219</th>\n",
              "      <td>Solomon Islands</td>\n",
              "      <td>Western Pacific</td>\n",
              "      <td>20</td>\n",
              "      <td>2.910000</td>\n",
              "      <td>0</td>\n",
              "      <td>0.000000</td>\n",
              "      <td>0</td>\n",
              "      <td>0</td>\n",
              "      <td>0.000000</td>\n",
              "      <td>0</td>\n",
              "      <td>0.0000</td>\n",
              "      <td>0</td>\n",
              "      <td>No cases</td>\n",
              "    </tr>\n",
              "    <tr>\n",
              "      <th>220</th>\n",
              "      <td>Saba</td>\n",
              "      <td>Americas</td>\n",
              "      <td>7</td>\n",
              "      <td>362.130000</td>\n",
              "      <td>0</td>\n",
              "      <td>0.000000</td>\n",
              "      <td>0</td>\n",
              "      <td>0</td>\n",
              "      <td>0.000000</td>\n",
              "      <td>0</td>\n",
              "      <td>0.0000</td>\n",
              "      <td>0</td>\n",
              "      <td>No cases</td>\n",
              "    </tr>\n",
              "    <tr>\n",
              "      <th>221</th>\n",
              "      <td>Marshall Islands</td>\n",
              "      <td>Western Pacific</td>\n",
              "      <td>4</td>\n",
              "      <td>6.760000</td>\n",
              "      <td>0</td>\n",
              "      <td>0.000000</td>\n",
              "      <td>0</td>\n",
              "      <td>0</td>\n",
              "      <td>0.000000</td>\n",
              "      <td>0</td>\n",
              "      <td>0.0000</td>\n",
              "      <td>0</td>\n",
              "      <td>No cases</td>\n",
              "    </tr>\n",
              "    <tr>\n",
              "      <th>222</th>\n",
              "      <td>Vanuatu</td>\n",
              "      <td>Western Pacific</td>\n",
              "      <td>3</td>\n",
              "      <td>0.980000</td>\n",
              "      <td>0</td>\n",
              "      <td>0.000000</td>\n",
              "      <td>0</td>\n",
              "      <td>0</td>\n",
              "      <td>0.000000</td>\n",
              "      <td>0</td>\n",
              "      <td>0.0000</td>\n",
              "      <td>0</td>\n",
              "      <td>No cases</td>\n",
              "    </tr>\n",
              "    <tr>\n",
              "      <th>223</th>\n",
              "      <td>Samoa</td>\n",
              "      <td>Western Pacific</td>\n",
              "      <td>1</td>\n",
              "      <td>0.500000</td>\n",
              "      <td>0</td>\n",
              "      <td>0.000000</td>\n",
              "      <td>0</td>\n",
              "      <td>0</td>\n",
              "      <td>0.000000</td>\n",
              "      <td>0</td>\n",
              "      <td>0.0000</td>\n",
              "      <td>0</td>\n",
              "      <td>No cases</td>\n",
              "    </tr>\n",
              "  </tbody>\n",
              "</table>\n",
              "<p>224 rows × 13 columns</p>\n",
              "</div>"
            ],
            "text/plain": [
              "                         Name  ... Transmission Classification\n",
              "0                      Global  ...                         NaN\n",
              "1    United States of America  ...      Community transmission\n",
              "2                       India  ...           Clusters of cases\n",
              "3                      Brazil  ...      Community transmission\n",
              "4                      France  ...      Community transmission\n",
              "..                        ...  ...                         ...\n",
              "219           Solomon Islands  ...                    No cases\n",
              "220                      Saba  ...                    No cases\n",
              "221          Marshall Islands  ...                    No cases\n",
              "222                   Vanuatu  ...                    No cases\n",
              "223                     Samoa  ...                    No cases\n",
              "\n",
              "[224 rows x 13 columns]"
            ]
          },
          "metadata": {
            "tags": []
          },
          "execution_count": 224
        }
      ]
    },
    {
      "cell_type": "code",
      "metadata": {
        "colab": {
          "base_uri": "https://localhost:8080/",
          "height": 661
        },
        "id": "vcl6kJtc1Him",
        "outputId": "90ef84aa-922a-4d62-a9c6-9a5993f1f510"
      },
      "source": [
        "df.head(10)\n"
      ],
      "execution_count": 275,
      "outputs": [
        {
          "output_type": "execute_result",
          "data": {
            "text/html": [
              "<div>\n",
              "<style scoped>\n",
              "    .dataframe tbody tr th:only-of-type {\n",
              "        vertical-align: middle;\n",
              "    }\n",
              "\n",
              "    .dataframe tbody tr th {\n",
              "        vertical-align: top;\n",
              "    }\n",
              "\n",
              "    .dataframe thead th {\n",
              "        text-align: right;\n",
              "    }\n",
              "</style>\n",
              "<table border=\"1\" class=\"dataframe\">\n",
              "  <thead>\n",
              "    <tr style=\"text-align: right;\">\n",
              "      <th></th>\n",
              "      <th>Name</th>\n",
              "      <th>WHO Region</th>\n",
              "      <th>Cases - cumulative total</th>\n",
              "      <th>Cases - cumulative total per 100000 population</th>\n",
              "      <th>Cases - newly reported in last 7 days</th>\n",
              "      <th>Cases - newly reported in last 7 days per 100000 population</th>\n",
              "      <th>Cases - newly reported in last 24 hours</th>\n",
              "      <th>Deaths - cumulative total</th>\n",
              "      <th>Deaths - cumulative total per 100000 population</th>\n",
              "      <th>Deaths - newly reported in last 7 days</th>\n",
              "      <th>Deaths - newly reported in last 7 days per 100000 population</th>\n",
              "      <th>Deaths - newly reported in last 24 hours</th>\n",
              "      <th>Transmission Classification</th>\n",
              "    </tr>\n",
              "  </thead>\n",
              "  <tbody>\n",
              "    <tr>\n",
              "      <th>0</th>\n",
              "      <td>Global</td>\n",
              "      <td>NaN</td>\n",
              "      <td>177108695</td>\n",
              "      <td>2268.788711</td>\n",
              "      <td>2577991</td>\n",
              "      <td>33.024448</td>\n",
              "      <td>408990</td>\n",
              "      <td>3840223</td>\n",
              "      <td>49.193827</td>\n",
              "      <td>68758</td>\n",
              "      <td>0.8808</td>\n",
              "      <td>9749</td>\n",
              "      <td>NaN</td>\n",
              "    </tr>\n",
              "    <tr>\n",
              "      <th>1</th>\n",
              "      <td>United States of America</td>\n",
              "      <td>Americas</td>\n",
              "      <td>33175399</td>\n",
              "      <td>10022.700000</td>\n",
              "      <td>80434</td>\n",
              "      <td>24.300000</td>\n",
              "      <td>11767</td>\n",
              "      <td>595591</td>\n",
              "      <td>179.940000</td>\n",
              "      <td>2226</td>\n",
              "      <td>0.6700</td>\n",
              "      <td>335</td>\n",
              "      <td>Community transmission</td>\n",
              "    </tr>\n",
              "    <tr>\n",
              "      <th>2</th>\n",
              "      <td>India</td>\n",
              "      <td>South-East Asia</td>\n",
              "      <td>29762793</td>\n",
              "      <td>2156.720000</td>\n",
              "      <td>487970</td>\n",
              "      <td>35.360000</td>\n",
              "      <td>62480</td>\n",
              "      <td>383490</td>\n",
              "      <td>27.790000</td>\n",
              "      <td>20411</td>\n",
              "      <td>1.4800</td>\n",
              "      <td>1587</td>\n",
              "      <td>Clusters of cases</td>\n",
              "    </tr>\n",
              "    <tr>\n",
              "      <th>3</th>\n",
              "      <td>Brazil</td>\n",
              "      <td>Americas</td>\n",
              "      <td>17628588</td>\n",
              "      <td>8293.490000</td>\n",
              "      <td>505711</td>\n",
              "      <td>237.920000</td>\n",
              "      <td>95367</td>\n",
              "      <td>493693</td>\n",
              "      <td>232.260000</td>\n",
              "      <td>14178</td>\n",
              "      <td>6.6700</td>\n",
              "      <td>2997</td>\n",
              "      <td>Community transmission</td>\n",
              "    </tr>\n",
              "    <tr>\n",
              "      <th>4</th>\n",
              "      <td>France</td>\n",
              "      <td>Europe</td>\n",
              "      <td>5643756</td>\n",
              "      <td>8677.450000</td>\n",
              "      <td>18006</td>\n",
              "      <td>27.680000</td>\n",
              "      <td>2775</td>\n",
              "      <td>109743</td>\n",
              "      <td>168.730000</td>\n",
              "      <td>339</td>\n",
              "      <td>0.5200</td>\n",
              "      <td>55</td>\n",
              "      <td>Community transmission</td>\n",
              "    </tr>\n",
              "    <tr>\n",
              "      <th>5</th>\n",
              "      <td>Turkey</td>\n",
              "      <td>Europe</td>\n",
              "      <td>5354153</td>\n",
              "      <td>6348.370000</td>\n",
              "      <td>41055</td>\n",
              "      <td>48.680000</td>\n",
              "      <td>5904</td>\n",
              "      <td>49012</td>\n",
              "      <td>58.110000</td>\n",
              "      <td>488</td>\n",
              "      <td>0.5800</td>\n",
              "      <td>62</td>\n",
              "      <td>Community transmission</td>\n",
              "    </tr>\n",
              "    <tr>\n",
              "      <th>6</th>\n",
              "      <td>Russian Federation</td>\n",
              "      <td>Europe</td>\n",
              "      <td>5281309</td>\n",
              "      <td>3618.960000</td>\n",
              "      <td>100855</td>\n",
              "      <td>69.110000</td>\n",
              "      <td>17262</td>\n",
              "      <td>128445</td>\n",
              "      <td>88.020000</td>\n",
              "      <td>2771</td>\n",
              "      <td>1.9000</td>\n",
              "      <td>453</td>\n",
              "      <td>Clusters of cases</td>\n",
              "    </tr>\n",
              "    <tr>\n",
              "      <th>7</th>\n",
              "      <td>The United Kingdom</td>\n",
              "      <td>Europe</td>\n",
              "      <td>4600627</td>\n",
              "      <td>6776.990000</td>\n",
              "      <td>57637</td>\n",
              "      <td>84.900000</td>\n",
              "      <td>10809</td>\n",
              "      <td>127945</td>\n",
              "      <td>188.470000</td>\n",
              "      <td>78</td>\n",
              "      <td>0.1100</td>\n",
              "      <td>19</td>\n",
              "      <td>Community transmission</td>\n",
              "    </tr>\n",
              "    <tr>\n",
              "      <th>8</th>\n",
              "      <td>Italy</td>\n",
              "      <td>Europe</td>\n",
              "      <td>4249755</td>\n",
              "      <td>7125.500000</td>\n",
              "      <td>9887</td>\n",
              "      <td>16.580000</td>\n",
              "      <td>1323</td>\n",
              "      <td>127190</td>\n",
              "      <td>213.260000</td>\n",
              "      <td>335</td>\n",
              "      <td>0.5600</td>\n",
              "      <td>37</td>\n",
              "      <td>Clusters of cases</td>\n",
              "    </tr>\n",
              "    <tr>\n",
              "      <th>9</th>\n",
              "      <td>Argentina</td>\n",
              "      <td>Americas</td>\n",
              "      <td>4198620</td>\n",
              "      <td>9289.850000</td>\n",
              "      <td>160092</td>\n",
              "      <td>354.220000</td>\n",
              "      <td>25878</td>\n",
              "      <td>87261</td>\n",
              "      <td>193.070000</td>\n",
              "      <td>3989</td>\n",
              "      <td>8.8300</td>\n",
              "      <td>646</td>\n",
              "      <td>Community transmission</td>\n",
              "    </tr>\n",
              "  </tbody>\n",
              "</table>\n",
              "</div>"
            ],
            "text/plain": [
              "                       Name  ... Transmission Classification\n",
              "0                    Global  ...                         NaN\n",
              "1  United States of America  ...      Community transmission\n",
              "2                     India  ...           Clusters of cases\n",
              "3                    Brazil  ...      Community transmission\n",
              "4                    France  ...      Community transmission\n",
              "5                    Turkey  ...      Community transmission\n",
              "6        Russian Federation  ...           Clusters of cases\n",
              "7        The United Kingdom  ...      Community transmission\n",
              "8                     Italy  ...           Clusters of cases\n",
              "9                 Argentina  ...      Community transmission\n",
              "\n",
              "[10 rows x 13 columns]"
            ]
          },
          "metadata": {
            "tags": []
          },
          "execution_count": 275
        }
      ]
    },
    {
      "cell_type": "code",
      "metadata": {
        "colab": {
          "base_uri": "https://localhost:8080/"
        },
        "id": "PkzuL3bi6b3t",
        "outputId": "d100f785-af60-40b9-f541-b00a85a56bcb"
      },
      "source": [
        "df.shape"
      ],
      "execution_count": 226,
      "outputs": [
        {
          "output_type": "execute_result",
          "data": {
            "text/plain": [
              "(224, 13)"
            ]
          },
          "metadata": {
            "tags": []
          },
          "execution_count": 226
        }
      ]
    },
    {
      "cell_type": "code",
      "metadata": {
        "colab": {
          "base_uri": "https://localhost:8080/"
        },
        "id": "uQvNJlRDJFQA",
        "outputId": "9353c47a-4adf-4786-d757-98be9b083d17"
      },
      "source": [
        "df.iloc[5,2:11].values"
      ],
      "execution_count": 279,
      "outputs": [
        {
          "output_type": "execute_result",
          "data": {
            "text/plain": [
              "array([5354153, 6348.37, 41055, 48.68, 5904, 49012, 58.11, 488, 0.58],\n",
              "      dtype=object)"
            ]
          },
          "metadata": {
            "tags": []
          },
          "execution_count": 279
        }
      ]
    },
    {
      "cell_type": "code",
      "metadata": {
        "id": "Xh1XYfV52ceq"
      },
      "source": [
        "x = df.iloc[1:,2:11].values\n",
        "y = df.iloc[1:,-1].values"
      ],
      "execution_count": 227,
      "outputs": []
    },
    {
      "cell_type": "code",
      "metadata": {
        "colab": {
          "base_uri": "https://localhost:8080/"
        },
        "id": "mRA_JHIq28D7",
        "outputId": "250ffee7-24be-4b0c-d449-7d2c38b4cd59"
      },
      "source": [
        "x"
      ],
      "execution_count": 228,
      "outputs": [
        {
          "output_type": "execute_result",
          "data": {
            "text/plain": [
              "array([[3.3175399e+07, 1.0022700e+04, 8.0434000e+04, ..., 1.7994000e+02,\n",
              "        2.2260000e+03, 6.7000000e-01],\n",
              "       [2.9762793e+07, 2.1567200e+03, 4.8797000e+05, ..., 2.7790000e+01,\n",
              "        2.0411000e+04, 1.4800000e+00],\n",
              "       [1.7628588e+07, 8.2934900e+03, 5.0571100e+05, ..., 2.3226000e+02,\n",
              "        1.4178000e+04, 6.6700000e+00],\n",
              "       ...,\n",
              "       [4.0000000e+00, 6.7600000e+00, 0.0000000e+00, ..., 0.0000000e+00,\n",
              "        0.0000000e+00, 0.0000000e+00],\n",
              "       [3.0000000e+00, 9.8000000e-01, 0.0000000e+00, ..., 0.0000000e+00,\n",
              "        0.0000000e+00, 0.0000000e+00],\n",
              "       [1.0000000e+00, 5.0000000e-01, 0.0000000e+00, ..., 0.0000000e+00,\n",
              "        0.0000000e+00, 0.0000000e+00]])"
            ]
          },
          "metadata": {
            "tags": []
          },
          "execution_count": 228
        }
      ]
    },
    {
      "cell_type": "code",
      "metadata": {
        "colab": {
          "base_uri": "https://localhost:8080/"
        },
        "id": "Qy89100a3hmL",
        "outputId": "f170b8b2-5cd6-4f4a-dfbd-cc0fb4389143"
      },
      "source": [
        "y"
      ],
      "execution_count": 229,
      "outputs": [
        {
          "output_type": "execute_result",
          "data": {
            "text/plain": [
              "array(['Community transmission', 'Clusters of cases',\n",
              "       'Community transmission', 'Community transmission',\n",
              "       'Community transmission', 'Clusters of cases',\n",
              "       'Community transmission', 'Clusters of cases',\n",
              "       'Community transmission', 'Community transmission',\n",
              "       'Community transmission', 'Community transmission',\n",
              "       'Community transmission', 'Community transmission',\n",
              "       'Community transmission', 'Community transmission',\n",
              "       'Community transmission', 'Community transmission',\n",
              "       'Community transmission', 'Community transmission',\n",
              "       'Community transmission', 'Community transmission',\n",
              "       'Community transmission', 'Community transmission',\n",
              "       'Community transmission', 'Community transmission',\n",
              "       'Community transmission', 'Community transmission',\n",
              "       'Community transmission', 'Clusters of cases',\n",
              "       'Community transmission', 'Community transmission',\n",
              "       'Community transmission', 'Clusters of cases',\n",
              "       'Community transmission', 'Community transmission',\n",
              "       'Community transmission', 'Community transmission',\n",
              "       'Community transmission', 'Community transmission',\n",
              "       'Community transmission', 'Community transmission',\n",
              "       'Community transmission', 'Community transmission',\n",
              "       'Clusters of cases', 'Community transmission', 'Clusters of cases',\n",
              "       'Community transmission', 'Community transmission',\n",
              "       'Community transmission', 'Community transmission',\n",
              "       'Clusters of cases', 'Community transmission',\n",
              "       'Community transmission', 'Community transmission',\n",
              "       'Community transmission', 'Community transmission',\n",
              "       'Community transmission', 'Community transmission',\n",
              "       'Clusters of cases', 'Community transmission',\n",
              "       'Community transmission', 'Community transmission',\n",
              "       'Community transmission', 'Community transmission',\n",
              "       'Clusters of cases', 'Community transmission',\n",
              "       'Community transmission', 'Community transmission',\n",
              "       'Clusters of cases', 'Community transmission',\n",
              "       'Community transmission', 'Community transmission',\n",
              "       'Community transmission', 'Clusters of cases',\n",
              "       'Community transmission', 'Community transmission',\n",
              "       'Clusters of cases', 'Community transmission',\n",
              "       'Community transmission', 'Community transmission',\n",
              "       'Community transmission', 'Community transmission',\n",
              "       'Sporadic cases', 'Clusters of cases', 'Clusters of cases',\n",
              "       'Community transmission', 'Community transmission',\n",
              "       'Community transmission', 'Clusters of cases', 'Clusters of cases',\n",
              "       'Clusters of cases', 'Community transmission', 'Clusters of cases',\n",
              "       'Clusters of cases', 'Community transmission', 'Clusters of cases',\n",
              "       'Clusters of cases', 'Community transmission',\n",
              "       'Community transmission', 'Clusters of cases', 'Clusters of cases',\n",
              "       'Community transmission', 'Community transmission',\n",
              "       'Clusters of cases', 'Community transmission', 'Clusters of cases',\n",
              "       'Community transmission', 'Community transmission',\n",
              "       'Community transmission', 'Community transmission',\n",
              "       'Sporadic cases', 'Community transmission',\n",
              "       'Community transmission', 'Community transmission',\n",
              "       'Community transmission', 'Community transmission',\n",
              "       'Sporadic cases', 'Community transmission',\n",
              "       'Community transmission', 'Clusters of cases',\n",
              "       'Community transmission', 'Community transmission',\n",
              "       'Clusters of cases', 'Clusters of cases', 'Community transmission',\n",
              "       'Community transmission', 'Community transmission',\n",
              "       'Community transmission', 'Community transmission',\n",
              "       'Community transmission', 'Community transmission',\n",
              "       'Community transmission', 'Community transmission',\n",
              "       'Community transmission', 'Sporadic cases',\n",
              "       'Community transmission', 'Community transmission',\n",
              "       'Community transmission', 'Community transmission',\n",
              "       'Community transmission', 'Community transmission',\n",
              "       'Community transmission', 'Community transmission',\n",
              "       'Community transmission', 'Pending', 'Community transmission',\n",
              "       'Community transmission', 'Community transmission',\n",
              "       'Community transmission', 'Community transmission',\n",
              "       'Clusters of cases', 'Clusters of cases', 'Community transmission',\n",
              "       'Clusters of cases', 'Community transmission',\n",
              "       'Community transmission', 'Community transmission',\n",
              "       'Community transmission', 'Community transmission',\n",
              "       'Community transmission', 'Clusters of cases',\n",
              "       'Community transmission', 'Community transmission',\n",
              "       'Community transmission', 'Community transmission',\n",
              "       'Community transmission', 'Community transmission',\n",
              "       'Community transmission', 'Community transmission',\n",
              "       'Community transmission', 'Community transmission',\n",
              "       'Community transmission', 'Community transmission',\n",
              "       'Clusters of cases', 'Community transmission',\n",
              "       'Community transmission', 'Community transmission',\n",
              "       'Community transmission', 'Community transmission',\n",
              "       'Sporadic cases', 'Community transmission',\n",
              "       'Community transmission', 'Sporadic cases', 'Sporadic cases',\n",
              "       'Clusters of cases', 'Community transmission', 'Sporadic cases',\n",
              "       'Community transmission', 'Community transmission',\n",
              "       'Sporadic cases', 'Clusters of cases', 'Clusters of cases',\n",
              "       'Community transmission', 'No cases', 'Sporadic cases',\n",
              "       'Clusters of cases', 'Clusters of cases', 'Community transmission',\n",
              "       'Not applicable', 'Sporadic cases', 'Sporadic cases', 'Pending',\n",
              "       'Sporadic cases', 'Clusters of cases', 'Sporadic cases',\n",
              "       'Clusters of cases', 'Clusters of cases', 'Pending', 'No cases',\n",
              "       'Sporadic cases', 'Clusters of cases', 'Sporadic cases',\n",
              "       'No cases', 'Sporadic cases', 'Sporadic cases', 'No cases',\n",
              "       'No cases', 'No cases', 'No cases', 'No cases', 'No cases',\n",
              "       'No cases'], dtype=object)"
            ]
          },
          "metadata": {
            "tags": []
          },
          "execution_count": 229
        }
      ]
    },
    {
      "cell_type": "code",
      "metadata": {
        "id": "hZTvRIwR3n5c"
      },
      "source": [
        "from sklearn.preprocessing import LabelEncoder"
      ],
      "execution_count": 230,
      "outputs": []
    },
    {
      "cell_type": "code",
      "metadata": {
        "id": "KvkVDzDn4GUv"
      },
      "source": [
        "le = LabelEncoder()"
      ],
      "execution_count": 231,
      "outputs": []
    },
    {
      "cell_type": "code",
      "metadata": {
        "id": "E3CgkaFC4Rwg"
      },
      "source": [
        "y=le.fit_transform(y)"
      ],
      "execution_count": 232,
      "outputs": []
    },
    {
      "cell_type": "code",
      "metadata": {
        "colab": {
          "base_uri": "https://localhost:8080/"
        },
        "id": "sKyOBVMm4bBC",
        "outputId": "8984a31d-5b83-4d64-be59-9e07bf386a37"
      },
      "source": [
        "y"
      ],
      "execution_count": 233,
      "outputs": [
        {
          "output_type": "execute_result",
          "data": {
            "text/plain": [
              "array([1, 0, 1, 1, 1, 0, 1, 0, 1, 1, 1, 1, 1, 1, 1, 1, 1, 1, 1, 1, 1, 1,\n",
              "       1, 1, 1, 1, 1, 1, 1, 0, 1, 1, 1, 0, 1, 1, 1, 1, 1, 1, 1, 1, 1, 1,\n",
              "       0, 1, 0, 1, 1, 1, 1, 0, 1, 1, 1, 1, 1, 1, 1, 0, 1, 1, 1, 1, 1, 0,\n",
              "       1, 1, 1, 0, 1, 1, 1, 1, 0, 1, 1, 0, 1, 1, 1, 1, 1, 5, 0, 0, 1, 1,\n",
              "       1, 0, 0, 0, 1, 0, 0, 1, 0, 0, 1, 1, 0, 0, 1, 1, 0, 1, 0, 1, 1, 1,\n",
              "       1, 5, 1, 1, 1, 1, 1, 5, 1, 1, 0, 1, 1, 0, 0, 1, 1, 1, 1, 1, 1, 1,\n",
              "       1, 1, 1, 5, 1, 1, 1, 1, 1, 1, 1, 1, 1, 4, 1, 1, 1, 1, 1, 0, 0, 1,\n",
              "       0, 1, 1, 1, 1, 1, 1, 0, 1, 1, 1, 1, 1, 1, 1, 1, 1, 1, 1, 1, 0, 1,\n",
              "       1, 1, 1, 1, 5, 1, 1, 5, 5, 0, 1, 5, 1, 1, 5, 0, 0, 1, 2, 5, 0, 0,\n",
              "       1, 3, 5, 5, 4, 5, 0, 5, 0, 0, 4, 2, 5, 0, 5, 2, 5, 5, 2, 2, 2, 2,\n",
              "       2, 2, 2])"
            ]
          },
          "metadata": {
            "tags": []
          },
          "execution_count": 233
        }
      ]
    },
    {
      "cell_type": "code",
      "metadata": {
        "id": "rlA-b4Gh4izl"
      },
      "source": [
        "from sklearn.model_selection import train_test_split"
      ],
      "execution_count": 234,
      "outputs": []
    },
    {
      "cell_type": "code",
      "metadata": {
        "id": "LwE6BhKk4ipy"
      },
      "source": [
        "x_train,x_test,y_train,y_test = train_test_split(x,y,test_size=0.2)"
      ],
      "execution_count": 235,
      "outputs": []
    },
    {
      "cell_type": "code",
      "metadata": {
        "colab": {
          "base_uri": "https://localhost:8080/"
        },
        "id": "zxtmon2s6N6X",
        "outputId": "f065f03b-65a3-472f-88a4-47bc625e5cca"
      },
      "source": [
        "x_test.shape"
      ],
      "execution_count": 236,
      "outputs": [
        {
          "output_type": "execute_result",
          "data": {
            "text/plain": [
              "(45, 9)"
            ]
          },
          "metadata": {
            "tags": []
          },
          "execution_count": 236
        }
      ]
    },
    {
      "cell_type": "code",
      "metadata": {
        "id": "0MjNtOqy6w5g"
      },
      "source": [
        "from sklearn.preprocessing import StandardScaler"
      ],
      "execution_count": 237,
      "outputs": []
    },
    {
      "cell_type": "code",
      "metadata": {
        "id": "ZhukMge965Tu"
      },
      "source": [
        "sc = StandardScaler()"
      ],
      "execution_count": 238,
      "outputs": []
    },
    {
      "cell_type": "code",
      "metadata": {
        "id": "QGRSNjJI69zS"
      },
      "source": [
        "x_train=sc.fit_transform(x_train)\n",
        "x_test = sc.fit_transform(x_test)"
      ],
      "execution_count": 239,
      "outputs": []
    },
    {
      "cell_type": "code",
      "metadata": {
        "colab": {
          "base_uri": "https://localhost:8080/"
        },
        "id": "Vov_A4b67NwW",
        "outputId": "05fcdacd-5843-46e5-f169-e47a4ff413d6"
      },
      "source": [
        "x_test"
      ],
      "execution_count": 240,
      "outputs": [
        {
          "output_type": "execute_result",
          "data": {
            "text/plain": [
              "array([[-3.26971545e-01, -5.30627737e-01, -2.97272702e-01,\n",
              "        -6.57679082e-01, -2.83516366e-01, -3.41211199e-01,\n",
              "        -8.67178181e-01, -2.59057006e-01, -4.97348267e-01],\n",
              "       [-3.23306818e-01, -3.75439609e-01, -2.89054136e-01,\n",
              "         5.61419404e-01, -2.75932581e-01, -3.36470408e-01,\n",
              "        -8.45958945e-02, -2.53008269e-01,  9.15129984e-01],\n",
              "       [-2.61116232e-01,  1.12699325e+00, -1.92647375e-01,\n",
              "         2.20071062e+00, -1.85993635e-01, -3.21273898e-01,\n",
              "        -2.61094970e-01, -2.50258844e-01, -1.19005879e-01],\n",
              "       [-3.26519046e-01, -7.32388280e-01, -2.97234163e-01,\n",
              "        -6.37107849e-01, -2.83457118e-01, -3.40810722e-01,\n",
              "        -6.29972417e-01, -2.59057006e-01, -4.97348267e-01],\n",
              "       [-3.25974708e-01, -1.01704585e+00, -2.95866007e-01,\n",
              "        -6.43852515e-01, -2.82153655e-01, -3.41124610e-01,\n",
              "        -8.66194508e-01, -2.59057006e-01, -4.97348267e-01],\n",
              "       [-3.26544864e-01,  5.58730438e-01, -2.96164689e-01,\n",
              "         2.68621420e+00, -2.83516366e-01, -3.40940606e-01,\n",
              "         4.15953236e-02, -2.58232178e-01,  3.41723431e+00],\n",
              "       [-3.05782544e-01,  6.21459675e-01, -2.96540450e-01,\n",
              "        -6.10129182e-01, -2.82923883e-01, -3.16966055e-01,\n",
              "         8.85727447e-01, -2.58507121e-01, -4.41858050e-01],\n",
              "       [-3.26200563e-01, -9.02986681e-01, -2.97166718e-01,\n",
              "        -6.43515282e-01, -2.83397869e-01, -3.39630936e-01,\n",
              "        -6.31237140e-01, -2.59057006e-01, -4.97348267e-01],\n",
              "       [-2.81051401e-01, -7.29077027e-01, -1.61025649e-01,\n",
              "         8.46838877e-02, -2.83516366e-01, -3.15580618e-01,\n",
              "        -7.11757817e-01, -1.77948946e-01,  1.98801728e-01],\n",
              "       [-3.26482389e-01,  7.57587436e-01, -2.96993290e-01,\n",
              "         1.73039020e-01, -2.83160876e-01, -3.40854017e-01,\n",
              "         3.14494372e-01, -2.59057006e-01, -4.97348267e-01],\n",
              "       [-2.36022656e-01, -3.51767731e-01, -2.47209787e-01,\n",
              "        -3.46637541e-01, -2.83516366e-01, -2.59102421e-01,\n",
              "        -2.99458225e-01, -2.25788954e-01, -1.74496096e-01],\n",
              "       [ 1.12151050e-01,  3.74625320e-01, -2.32092636e-01,\n",
              "        -4.83779095e-01, -2.26223243e-01,  2.21102968e-01,\n",
              "         8.02115226e-01, -1.55953540e-01, -6.35156616e-02],\n",
              "       [-3.26934494e-01, -8.98917862e-01, -2.96000896e-01,\n",
              "         2.13191502e+00, -2.83101628e-01, -3.41211199e-01,\n",
              "        -8.67178181e-01, -2.59057006e-01, -4.97348267e-01],\n",
              "       [ 2.78139634e-01, -2.18765713e-02,  3.51290635e-01,\n",
              "         2.43183553e-01,  3.26208070e-01,  5.53034146e-01,\n",
              "         5.15023178e-01,  1.31361454e-03,  7.26875983e-02],\n",
              "       [ 7.28219556e-01,  7.19929509e-01,  9.82879214e-02,\n",
              "        -1.10461799e-01,  6.62857011e-02,  1.89281216e-01,\n",
              "        -5.05889070e-02, -1.24885028e-01, -2.04763487e-01],\n",
              "       [-3.18946591e-01, -9.61713214e-01, -2.57615473e-01,\n",
              "        -3.80922929e-01, -2.46486167e-01, -3.37098184e-01,\n",
              "        -8.35279065e-01, -2.37061600e-01, -2.55209139e-01],\n",
              "       [-3.24560255e-01, -9.67514794e-01, -2.93630712e-01,\n",
              "        -5.80677471e-01, -2.83516366e-01, -3.39468580e-01,\n",
              "        -8.26144957e-01, -2.57407351e-01, -4.41858050e-01],\n",
              "       [-3.25404748e-01,  2.78990161e-01, -2.96935481e-01,\n",
              "        -4.24538440e-01, -2.83279373e-01, -3.39706702e-01,\n",
              "         2.90183592e-01, -2.59057006e-01, -4.97348267e-01],\n",
              "       [-3.26780573e-01,  1.84710263e+00, -2.97243797e-01,\n",
              "        -3.16511363e-01, -2.83516366e-01, -3.41200376e-01,\n",
              "        -7.24967143e-01, -2.59057006e-01, -4.97348267e-01],\n",
              "       [-3.26974304e-01, -1.00513415e+00, -2.97214893e-01,\n",
              "        -5.38860539e-01, -2.83516366e-01, -3.41211199e-01,\n",
              "        -8.67178181e-01, -2.59057006e-01, -4.97348267e-01],\n",
              "       [-2.60894910e-01, -1.17803737e-01, -2.93929393e-01,\n",
              "        -6.19234482e-01, -2.80672447e-01, -2.87536347e-01,\n",
              "        -1.79871669e-01, -2.56857465e-01, -4.56991746e-01],\n",
              "       [ 5.00485592e-01,  1.53024437e+00,  1.24519694e+00,\n",
              "         3.32414725e+00,  1.24971160e+00,  6.03277878e-01,\n",
              "         1.84593301e+00,  8.37688934e-01,  3.95700279e+00],\n",
              "       [-3.03915396e-01, -1.02671790e+00, -2.82309710e-01,\n",
              "        -6.56442559e-01, -2.71785199e-01, -2.83380036e-01,\n",
              "        -8.62119291e-01, -2.21664816e-01, -4.92303702e-01],\n",
              "       [-2.58565803e-01,  8.48437531e-01, -1.89843620e-01,\n",
              "         1.80277529e+00, -1.74203220e-01, -2.93186331e-01,\n",
              "         3.56792319e-01, -2.15341136e-01,  1.07655607e+00],\n",
              "       [-3.26833391e-01,             nan, -2.97272702e-01,\n",
              "                    nan, -2.83516366e-01, -3.41070491e-01,\n",
              "                    nan, -2.59057006e-01,             nan],\n",
              "       [-7.57784009e-02, -1.55932733e-01,  1.19014508e-02,\n",
              "         2.39136753e-01,  2.39231540e-02, -1.59253557e-01,\n",
              "        -2.79784761e-01, -2.14241366e-01, -2.90521095e-01],\n",
              "       [-3.26865909e-01, -7.77828479e-01, -2.97205258e-01,\n",
              "        -5.37961250e-01, -2.83516366e-01, -3.41189552e-01,\n",
              "        -8.24458660e-01, -2.59057006e-01, -4.97348267e-01],\n",
              "       [ 3.14728135e+00,  1.25576849e+00,  4.57519980e+00,\n",
              "         2.01680604e+00,  5.36681794e+00,  5.00238612e+00,\n",
              "         2.39664947e+00,  3.63907885e+00,  2.86737671e+00],\n",
              "       [-3.01215382e-01,  1.68138020e+00, -2.94064282e-01,\n",
              "        -3.75976840e-01, -2.80198460e-01, -3.27497540e-01,\n",
              "         4.72584706e-01, -2.58782063e-01, -4.56991746e-01],\n",
              "       [-3.25961503e-01, -2.50603717e-01, -2.96964385e-01,\n",
              "        -4.61746517e-01, -2.83397869e-01, -3.40345301e-01,\n",
              "        -2.54911882e-01, -2.59057006e-01, -4.97348267e-01],\n",
              "       [ 5.10563345e-01,  9.34012211e-01, -2.02012493e-01,\n",
              "        -4.71301462e-01, -2.05130842e-01,  1.03545840e+00,\n",
              "         2.12965246e+00, -1.66951243e-01, -2.14852617e-01],\n",
              "       [-3.08295922e-01, -9.44842903e-01, -2.92888825e-01,\n",
              "        -6.41267060e-01, -2.83516366e-01, -3.32660457e-01,\n",
              "        -8.31484897e-01, -2.58782063e-01, -4.97348267e-01],\n",
              "       [ 1.31764188e-03,  3.26228039e+00, -2.87840140e-01,\n",
              "        -5.54822916e-01, -2.74155132e-01, -1.35229216e-02,\n",
              "         3.11107726e+00, -2.43660222e-01, -2.35030878e-01],\n",
              "       [-3.19820646e-01, -1.00607629e+00, -2.96511545e-01,\n",
              "        -6.55655682e-01, -2.83516366e-01, -3.11586664e-01,\n",
              "        -7.79490742e-01, -2.56032638e-01, -4.82214572e-01],\n",
              "       [-3.00073690e-01,  9.42857829e-01, -2.88023203e-01,\n",
              "        -9.20263770e-02, -2.75162353e-01, -3.14346714e-01,\n",
              "         9.61189233e-01, -2.48334246e-01,  5.31743030e-01],\n",
              "       [-3.26668828e-01, -5.10881429e-01, -2.97272702e-01,\n",
              "        -6.57679082e-01, -2.83516366e-01, -3.40897311e-01,\n",
              "        -3.87988812e-01, -2.59057006e-01, -4.97348267e-01],\n",
              "       [-3.26821369e-01, -6.76380721e-01, -2.97253432e-01,\n",
              "        -6.22831638e-01, -2.83516366e-01, -3.41027196e-01,\n",
              "        -4.96614437e-01, -2.59057006e-01, -4.97348267e-01],\n",
              "       [-2.05198153e-01, -4.44661878e-01, -1.66710237e-01,\n",
              "        -1.34855010e-01, -1.67211918e-01, -2.47683391e-01,\n",
              "        -4.50381797e-01, -1.66676300e-01,  8.27767287e-02],\n",
              "       [-2.98058731e-01, -9.54600356e-01, -2.80854841e-01,\n",
              "        -6.22494404e-01, -2.83516366e-01, -3.06034093e-01,\n",
              "        -7.83284910e-01, -2.56032638e-01, -4.87259137e-01],\n",
              "       [-2.44751191e-01,  4.34752223e-02, -2.57933425e-01,\n",
              "        -2.29505164e-01, -2.53181227e-01, -2.05979578e-01,\n",
              "         7.70778208e-01, -2.24964126e-01,  8.78212939e-02],\n",
              "       [-3.26980019e-01, -9.18697227e-01, -2.97272702e-01,\n",
              "        -6.57679082e-01, -2.83516366e-01, -3.41200376e-01,\n",
              "        -5.86128698e-01, -2.59057006e-01, -4.97348267e-01],\n",
              "       [-3.26681835e-01, -9.81801115e-01, -2.91356876e-01,\n",
              "         1.12224610e-01, -2.78124769e-01, -3.41146257e-01,\n",
              "        -8.57763024e-01, -2.58507121e-01, -3.86367833e-01],\n",
              "       [ 5.53870644e+00, -4.34780460e-01,  4.40426712e+00,\n",
              "        -2.60193397e-01,  3.41831852e+00,  3.80957914e+00,\n",
              "        -4.76659924e-01,  5.35279594e+00,  2.49247380e-01],\n",
              "       [-1.14480835e-01,  1.54897416e+00, -2.69244792e-01,\n",
              "        -3.73841029e-01, -2.83397869e-01, -6.93516958e-02,\n",
              "         2.19598014e+00, -2.49159073e-01, -3.40966747e-01],\n",
              "       [-2.23428963e-01, -6.36750366e-01, -2.71470453e-01,\n",
              "        -5.76068616e-01, -2.55788153e-01, -2.41362335e-01,\n",
              "        -5.16006852e-01, -2.49983901e-01, -4.51947181e-01]])"
            ]
          },
          "metadata": {
            "tags": []
          },
          "execution_count": 240
        }
      ]
    },
    {
      "cell_type": "code",
      "metadata": {
        "id": "SvY5L1C57UCg"
      },
      "source": [
        "import tensorflow as tf"
      ],
      "execution_count": 241,
      "outputs": []
    },
    {
      "cell_type": "code",
      "metadata": {
        "id": "lNgjRJtG8EpY"
      },
      "source": [
        "ann= tf.keras.models.Sequential()"
      ],
      "execution_count": 261,
      "outputs": []
    },
    {
      "cell_type": "code",
      "metadata": {
        "id": "LVpJNIPL8h4V"
      },
      "source": [
        "ann.add(tf.keras.layers.Dense(units=6, activation='relu'))"
      ],
      "execution_count": 259,
      "outputs": []
    },
    {
      "cell_type": "code",
      "metadata": {
        "id": "A-mwJD3k8q_2"
      },
      "source": [
        "ann.add(tf.keras.layers.Dense(units=6,activation=\"relu\"))"
      ],
      "execution_count": 260,
      "outputs": []
    },
    {
      "cell_type": "code",
      "metadata": {
        "id": "bYw7Y99DDeuS"
      },
      "source": [
        "ann.add(tf.keras.layers.Dense(units=6,activation=\"relu\"))"
      ],
      "execution_count": 262,
      "outputs": []
    },
    {
      "cell_type": "code",
      "metadata": {
        "id": "P_xPB6ZD8-g-"
      },
      "source": [
        "ann.add(tf.keras.layers.Dense(units=1, activation='sigmoid'))"
      ],
      "execution_count": 264,
      "outputs": []
    },
    {
      "cell_type": "code",
      "metadata": {
        "id": "n96jZM6Q9hGu"
      },
      "source": [
        "ann.compile?"
      ],
      "execution_count": 256,
      "outputs": []
    },
    {
      "cell_type": "code",
      "metadata": {
        "id": "Sk8oQxRx9vYD"
      },
      "source": [
        "ann.compile(optimizer=\"rmsprop\",loss=\"categorical_crossentropy\",metrics=['accuracy', 'mse'])"
      ],
      "execution_count": 268,
      "outputs": []
    },
    {
      "cell_type": "code",
      "metadata": {
        "colab": {
          "base_uri": "https://localhost:8080/"
        },
        "id": "L_lLUuzT_Ivd",
        "outputId": "042b91c9-d4eb-4939-89a3-fb5947850ead"
      },
      "source": [
        "\n",
        "ann.fit(x_train, y_train, batch_size= 32, epochs= 200)"
      ],
      "execution_count": 269,
      "outputs": [
        {
          "output_type": "stream",
          "text": [
            "Epoch 1/200\n",
            "6/6 [==============================] - 1s 3ms/step - loss: 0.0000e+00 - accuracy: 0.6966 - mse: 1.5776\n",
            "Epoch 2/200\n",
            "6/6 [==============================] - 0s 2ms/step - loss: 0.0000e+00 - accuracy: 0.6966 - mse: 1.5725\n",
            "Epoch 3/200\n",
            "6/6 [==============================] - 0s 2ms/step - loss: 0.0000e+00 - accuracy: 0.6966 - mse: 1.5694\n",
            "Epoch 4/200\n",
            "6/6 [==============================] - 0s 2ms/step - loss: 0.0000e+00 - accuracy: 0.6966 - mse: 1.5671\n",
            "Epoch 5/200\n",
            "6/6 [==============================] - 0s 2ms/step - loss: 0.0000e+00 - accuracy: 0.6966 - mse: 1.5647\n",
            "Epoch 6/200\n",
            "6/6 [==============================] - 0s 2ms/step - loss: 0.0000e+00 - accuracy: 0.6966 - mse: 1.5624\n",
            "Epoch 7/200\n",
            "6/6 [==============================] - 0s 3ms/step - loss: 0.0000e+00 - accuracy: 0.6966 - mse: 1.5605\n",
            "Epoch 8/200\n",
            "6/6 [==============================] - 0s 2ms/step - loss: 0.0000e+00 - accuracy: 0.6966 - mse: 1.5587\n",
            "Epoch 9/200\n",
            "6/6 [==============================] - 0s 2ms/step - loss: 0.0000e+00 - accuracy: 0.6966 - mse: 1.5567\n",
            "Epoch 10/200\n",
            "6/6 [==============================] - 0s 2ms/step - loss: 0.0000e+00 - accuracy: 0.6966 - mse: 1.5552\n",
            "Epoch 11/200\n",
            "6/6 [==============================] - 0s 2ms/step - loss: 0.0000e+00 - accuracy: 0.6966 - mse: 1.5538\n",
            "Epoch 12/200\n",
            "6/6 [==============================] - 0s 2ms/step - loss: 0.0000e+00 - accuracy: 0.6966 - mse: 1.5523\n",
            "Epoch 13/200\n",
            "6/6 [==============================] - 0s 2ms/step - loss: 0.0000e+00 - accuracy: 0.6966 - mse: 1.5508\n",
            "Epoch 14/200\n",
            "6/6 [==============================] - 0s 3ms/step - loss: 0.0000e+00 - accuracy: 0.6966 - mse: 1.5492\n",
            "Epoch 15/200\n",
            "6/6 [==============================] - 0s 2ms/step - loss: 0.0000e+00 - accuracy: 0.6966 - mse: 1.5480\n",
            "Epoch 16/200\n",
            "6/6 [==============================] - 0s 2ms/step - loss: 0.0000e+00 - accuracy: 0.6966 - mse: 1.5468\n",
            "Epoch 17/200\n",
            "6/6 [==============================] - 0s 2ms/step - loss: 0.0000e+00 - accuracy: 0.6966 - mse: 1.5457\n",
            "Epoch 18/200\n",
            "6/6 [==============================] - 0s 2ms/step - loss: 0.0000e+00 - accuracy: 0.6966 - mse: 1.5447\n",
            "Epoch 19/200\n",
            "6/6 [==============================] - 0s 2ms/step - loss: 0.0000e+00 - accuracy: 0.6966 - mse: 1.5438\n",
            "Epoch 20/200\n",
            "6/6 [==============================] - 0s 4ms/step - loss: 0.0000e+00 - accuracy: 0.6966 - mse: 1.5430\n",
            "Epoch 21/200\n",
            "6/6 [==============================] - 0s 2ms/step - loss: 0.0000e+00 - accuracy: 0.6966 - mse: 1.5421\n",
            "Epoch 22/200\n",
            "6/6 [==============================] - 0s 2ms/step - loss: 0.0000e+00 - accuracy: 0.6966 - mse: 1.5413\n",
            "Epoch 23/200\n",
            "6/6 [==============================] - 0s 3ms/step - loss: 0.0000e+00 - accuracy: 0.6966 - mse: 1.5406\n",
            "Epoch 24/200\n",
            "6/6 [==============================] - 0s 2ms/step - loss: 0.0000e+00 - accuracy: 0.6966 - mse: 1.5401\n",
            "Epoch 25/200\n",
            "6/6 [==============================] - 0s 2ms/step - loss: 0.0000e+00 - accuracy: 0.6966 - mse: 1.5396\n",
            "Epoch 26/200\n",
            "6/6 [==============================] - 0s 2ms/step - loss: 0.0000e+00 - accuracy: 0.6966 - mse: 1.5391\n",
            "Epoch 27/200\n",
            "6/6 [==============================] - 0s 3ms/step - loss: 0.0000e+00 - accuracy: 0.6966 - mse: 1.5385\n",
            "Epoch 28/200\n",
            "6/6 [==============================] - 0s 2ms/step - loss: 0.0000e+00 - accuracy: 0.6966 - mse: 1.5380\n",
            "Epoch 29/200\n",
            "6/6 [==============================] - 0s 2ms/step - loss: 0.0000e+00 - accuracy: 0.6966 - mse: 1.5375\n",
            "Epoch 30/200\n",
            "6/6 [==============================] - 0s 2ms/step - loss: 0.0000e+00 - accuracy: 0.6966 - mse: 1.5370\n",
            "Epoch 31/200\n",
            "6/6 [==============================] - 0s 3ms/step - loss: 0.0000e+00 - accuracy: 0.6966 - mse: 1.5366\n",
            "Epoch 32/200\n",
            "6/6 [==============================] - 0s 2ms/step - loss: 0.0000e+00 - accuracy: 0.6966 - mse: 1.5363\n",
            "Epoch 33/200\n",
            "6/6 [==============================] - 0s 3ms/step - loss: 0.0000e+00 - accuracy: 0.6966 - mse: 1.5360\n",
            "Epoch 34/200\n",
            "6/6 [==============================] - 0s 3ms/step - loss: 0.0000e+00 - accuracy: 0.6966 - mse: 1.5357\n",
            "Epoch 35/200\n",
            "6/6 [==============================] - 0s 2ms/step - loss: 0.0000e+00 - accuracy: 0.6966 - mse: 1.5354\n",
            "Epoch 36/200\n",
            "6/6 [==============================] - 0s 3ms/step - loss: 0.0000e+00 - accuracy: 0.6966 - mse: 1.5351\n",
            "Epoch 37/200\n",
            "6/6 [==============================] - 0s 3ms/step - loss: 0.0000e+00 - accuracy: 0.6966 - mse: 1.5350\n",
            "Epoch 38/200\n",
            "6/6 [==============================] - 0s 3ms/step - loss: 0.0000e+00 - accuracy: 0.6966 - mse: 1.5347\n",
            "Epoch 39/200\n",
            "6/6 [==============================] - 0s 3ms/step - loss: 0.0000e+00 - accuracy: 0.6966 - mse: 1.5345\n",
            "Epoch 40/200\n",
            "6/6 [==============================] - 0s 2ms/step - loss: 0.0000e+00 - accuracy: 0.6966 - mse: 1.5344\n",
            "Epoch 41/200\n",
            "6/6 [==============================] - 0s 3ms/step - loss: 0.0000e+00 - accuracy: 0.6966 - mse: 1.5342\n",
            "Epoch 42/200\n",
            "6/6 [==============================] - 0s 2ms/step - loss: 0.0000e+00 - accuracy: 0.6966 - mse: 1.5341\n",
            "Epoch 43/200\n",
            "6/6 [==============================] - 0s 3ms/step - loss: 0.0000e+00 - accuracy: 0.6966 - mse: 1.5340\n",
            "Epoch 44/200\n",
            "6/6 [==============================] - 0s 2ms/step - loss: 0.0000e+00 - accuracy: 0.6966 - mse: 1.5339\n",
            "Epoch 45/200\n",
            "6/6 [==============================] - 0s 2ms/step - loss: 0.0000e+00 - accuracy: 0.6966 - mse: 1.5338\n",
            "Epoch 46/200\n",
            "6/6 [==============================] - 0s 2ms/step - loss: 0.0000e+00 - accuracy: 0.6966 - mse: 1.5337\n",
            "Epoch 47/200\n",
            "6/6 [==============================] - 0s 3ms/step - loss: 0.0000e+00 - accuracy: 0.6966 - mse: 1.5337\n",
            "Epoch 48/200\n",
            "6/6 [==============================] - 0s 2ms/step - loss: 0.0000e+00 - accuracy: 0.6966 - mse: 1.5336\n",
            "Epoch 49/200\n",
            "6/6 [==============================] - 0s 3ms/step - loss: 0.0000e+00 - accuracy: 0.6966 - mse: 1.5335\n",
            "Epoch 50/200\n",
            "6/6 [==============================] - 0s 4ms/step - loss: 0.0000e+00 - accuracy: 0.6966 - mse: 1.5335\n",
            "Epoch 51/200\n",
            "6/6 [==============================] - 0s 4ms/step - loss: 0.0000e+00 - accuracy: 0.6966 - mse: 1.5334\n",
            "Epoch 52/200\n",
            "6/6 [==============================] - 0s 2ms/step - loss: 0.0000e+00 - accuracy: 0.6966 - mse: 1.5334\n",
            "Epoch 53/200\n",
            "6/6 [==============================] - 0s 2ms/step - loss: 0.0000e+00 - accuracy: 0.6966 - mse: 1.5334\n",
            "Epoch 54/200\n",
            "6/6 [==============================] - 0s 2ms/step - loss: 0.0000e+00 - accuracy: 0.6966 - mse: 1.5333\n",
            "Epoch 55/200\n",
            "6/6 [==============================] - 0s 3ms/step - loss: 0.0000e+00 - accuracy: 0.6966 - mse: 1.5333\n",
            "Epoch 56/200\n",
            "6/6 [==============================] - 0s 3ms/step - loss: 0.0000e+00 - accuracy: 0.6966 - mse: 1.5333\n",
            "Epoch 57/200\n",
            "6/6 [==============================] - 0s 3ms/step - loss: 0.0000e+00 - accuracy: 0.6966 - mse: 1.5332\n",
            "Epoch 58/200\n",
            "6/6 [==============================] - 0s 3ms/step - loss: 0.0000e+00 - accuracy: 0.6966 - mse: 1.5332\n",
            "Epoch 59/200\n",
            "6/6 [==============================] - 0s 2ms/step - loss: 0.0000e+00 - accuracy: 0.6966 - mse: 1.5332\n",
            "Epoch 60/200\n",
            "6/6 [==============================] - 0s 2ms/step - loss: 0.0000e+00 - accuracy: 0.6966 - mse: 1.5332\n",
            "Epoch 61/200\n",
            "6/6 [==============================] - 0s 2ms/step - loss: 0.0000e+00 - accuracy: 0.6966 - mse: 1.5332\n",
            "Epoch 62/200\n",
            "6/6 [==============================] - 0s 2ms/step - loss: 0.0000e+00 - accuracy: 0.6966 - mse: 1.5332\n",
            "Epoch 63/200\n",
            "6/6 [==============================] - 0s 3ms/step - loss: 0.0000e+00 - accuracy: 0.6966 - mse: 1.5331\n",
            "Epoch 64/200\n",
            "6/6 [==============================] - 0s 3ms/step - loss: 0.0000e+00 - accuracy: 0.6966 - mse: 1.5332\n",
            "Epoch 65/200\n",
            "6/6 [==============================] - 0s 2ms/step - loss: 0.0000e+00 - accuracy: 0.6966 - mse: 1.5331\n",
            "Epoch 66/200\n",
            "6/6 [==============================] - 0s 2ms/step - loss: 0.0000e+00 - accuracy: 0.6966 - mse: 1.5331\n",
            "Epoch 67/200\n",
            "6/6 [==============================] - 0s 2ms/step - loss: 0.0000e+00 - accuracy: 0.6966 - mse: 1.5331\n",
            "Epoch 68/200\n",
            "6/6 [==============================] - 0s 2ms/step - loss: 0.0000e+00 - accuracy: 0.6966 - mse: 1.5331\n",
            "Epoch 69/200\n",
            "6/6 [==============================] - 0s 2ms/step - loss: 0.0000e+00 - accuracy: 0.6966 - mse: 1.5331\n",
            "Epoch 70/200\n",
            "6/6 [==============================] - 0s 2ms/step - loss: 0.0000e+00 - accuracy: 0.6966 - mse: 1.5331\n",
            "Epoch 71/200\n",
            "6/6 [==============================] - 0s 3ms/step - loss: 0.0000e+00 - accuracy: 0.6966 - mse: 1.5331\n",
            "Epoch 72/200\n",
            "6/6 [==============================] - 0s 3ms/step - loss: 0.0000e+00 - accuracy: 0.6966 - mse: 1.5331\n",
            "Epoch 73/200\n",
            "6/6 [==============================] - 0s 3ms/step - loss: 0.0000e+00 - accuracy: 0.6966 - mse: 1.5331\n",
            "Epoch 74/200\n",
            "6/6 [==============================] - 0s 2ms/step - loss: 0.0000e+00 - accuracy: 0.6966 - mse: 1.5331\n",
            "Epoch 75/200\n",
            "6/6 [==============================] - 0s 2ms/step - loss: 0.0000e+00 - accuracy: 0.6966 - mse: 1.5331\n",
            "Epoch 76/200\n",
            "6/6 [==============================] - 0s 3ms/step - loss: 0.0000e+00 - accuracy: 0.6966 - mse: 1.5331\n",
            "Epoch 77/200\n",
            "6/6 [==============================] - 0s 3ms/step - loss: 0.0000e+00 - accuracy: 0.6966 - mse: 1.5331\n",
            "Epoch 78/200\n",
            "6/6 [==============================] - 0s 3ms/step - loss: 0.0000e+00 - accuracy: 0.6966 - mse: 1.5331\n",
            "Epoch 79/200\n",
            "6/6 [==============================] - 0s 2ms/step - loss: 0.0000e+00 - accuracy: 0.6966 - mse: 1.5331\n",
            "Epoch 80/200\n",
            "6/6 [==============================] - 0s 2ms/step - loss: 0.0000e+00 - accuracy: 0.6966 - mse: 1.5331\n",
            "Epoch 81/200\n",
            "6/6 [==============================] - 0s 3ms/step - loss: 0.0000e+00 - accuracy: 0.6966 - mse: 1.5331\n",
            "Epoch 82/200\n",
            "6/6 [==============================] - 0s 2ms/step - loss: 0.0000e+00 - accuracy: 0.6966 - mse: 1.5331\n",
            "Epoch 83/200\n",
            "6/6 [==============================] - 0s 2ms/step - loss: 0.0000e+00 - accuracy: 0.6966 - mse: 1.5331\n",
            "Epoch 84/200\n",
            "6/6 [==============================] - 0s 2ms/step - loss: 0.0000e+00 - accuracy: 0.6966 - mse: 1.5331\n",
            "Epoch 85/200\n",
            "6/6 [==============================] - 0s 2ms/step - loss: 0.0000e+00 - accuracy: 0.6966 - mse: 1.5331\n",
            "Epoch 86/200\n",
            "6/6 [==============================] - 0s 2ms/step - loss: 0.0000e+00 - accuracy: 0.6966 - mse: 1.5331\n",
            "Epoch 87/200\n",
            "6/6 [==============================] - 0s 2ms/step - loss: 0.0000e+00 - accuracy: 0.6966 - mse: 1.5330\n",
            "Epoch 88/200\n",
            "6/6 [==============================] - 0s 3ms/step - loss: 0.0000e+00 - accuracy: 0.6966 - mse: 1.5331\n",
            "Epoch 89/200\n",
            "6/6 [==============================] - 0s 3ms/step - loss: 0.0000e+00 - accuracy: 0.6966 - mse: 1.5330\n",
            "Epoch 90/200\n",
            "6/6 [==============================] - 0s 2ms/step - loss: 0.0000e+00 - accuracy: 0.6966 - mse: 1.5330\n",
            "Epoch 91/200\n",
            "6/6 [==============================] - 0s 3ms/step - loss: 0.0000e+00 - accuracy: 0.6966 - mse: 1.5330\n",
            "Epoch 92/200\n",
            "6/6 [==============================] - 0s 2ms/step - loss: 0.0000e+00 - accuracy: 0.6966 - mse: 1.5330\n",
            "Epoch 93/200\n",
            "6/6 [==============================] - 0s 4ms/step - loss: 0.0000e+00 - accuracy: 0.6966 - mse: 1.5330\n",
            "Epoch 94/200\n",
            "6/6 [==============================] - 0s 3ms/step - loss: 0.0000e+00 - accuracy: 0.6966 - mse: 1.5330\n",
            "Epoch 95/200\n",
            "6/6 [==============================] - 0s 2ms/step - loss: 0.0000e+00 - accuracy: 0.6966 - mse: 1.5330\n",
            "Epoch 96/200\n",
            "6/6 [==============================] - 0s 2ms/step - loss: 0.0000e+00 - accuracy: 0.6966 - mse: 1.5330\n",
            "Epoch 97/200\n",
            "6/6 [==============================] - 0s 3ms/step - loss: 0.0000e+00 - accuracy: 0.6966 - mse: 1.5330\n",
            "Epoch 98/200\n",
            "6/6 [==============================] - 0s 2ms/step - loss: 0.0000e+00 - accuracy: 0.6966 - mse: 1.5330\n",
            "Epoch 99/200\n",
            "6/6 [==============================] - 0s 3ms/step - loss: 0.0000e+00 - accuracy: 0.6966 - mse: 1.5330\n",
            "Epoch 100/200\n",
            "6/6 [==============================] - 0s 3ms/step - loss: 0.0000e+00 - accuracy: 0.6966 - mse: 1.5330\n",
            "Epoch 101/200\n",
            "6/6 [==============================] - 0s 2ms/step - loss: 0.0000e+00 - accuracy: 0.6966 - mse: 1.5329\n",
            "Epoch 102/200\n",
            "6/6 [==============================] - 0s 3ms/step - loss: 0.0000e+00 - accuracy: 0.6966 - mse: 1.5329\n",
            "Epoch 103/200\n",
            "6/6 [==============================] - 0s 3ms/step - loss: 0.0000e+00 - accuracy: 0.6966 - mse: 1.5329\n",
            "Epoch 104/200\n",
            "6/6 [==============================] - 0s 2ms/step - loss: 0.0000e+00 - accuracy: 0.6966 - mse: 1.5329\n",
            "Epoch 105/200\n",
            "6/6 [==============================] - 0s 2ms/step - loss: 0.0000e+00 - accuracy: 0.6966 - mse: 1.5329\n",
            "Epoch 106/200\n",
            "6/6 [==============================] - 0s 3ms/step - loss: 0.0000e+00 - accuracy: 0.6966 - mse: 1.5329\n",
            "Epoch 107/200\n",
            "6/6 [==============================] - 0s 2ms/step - loss: 0.0000e+00 - accuracy: 0.6966 - mse: 1.5329\n",
            "Epoch 108/200\n",
            "6/6 [==============================] - 0s 2ms/step - loss: 0.0000e+00 - accuracy: 0.6966 - mse: 1.5328\n",
            "Epoch 109/200\n",
            "6/6 [==============================] - 0s 4ms/step - loss: 0.0000e+00 - accuracy: 0.6966 - mse: 1.5328\n",
            "Epoch 110/200\n",
            "6/6 [==============================] - 0s 3ms/step - loss: 0.0000e+00 - accuracy: 0.6966 - mse: 1.5328\n",
            "Epoch 111/200\n",
            "6/6 [==============================] - 0s 2ms/step - loss: 0.0000e+00 - accuracy: 0.6966 - mse: 1.5328\n",
            "Epoch 112/200\n",
            "6/6 [==============================] - 0s 2ms/step - loss: 0.0000e+00 - accuracy: 0.6966 - mse: 1.5328\n",
            "Epoch 113/200\n",
            "6/6 [==============================] - 0s 3ms/step - loss: 0.0000e+00 - accuracy: 0.6966 - mse: 1.5328\n",
            "Epoch 114/200\n",
            "6/6 [==============================] - 0s 2ms/step - loss: 0.0000e+00 - accuracy: 0.6966 - mse: 1.5328\n",
            "Epoch 115/200\n",
            "6/6 [==============================] - 0s 2ms/step - loss: 0.0000e+00 - accuracy: 0.6966 - mse: 1.5327\n",
            "Epoch 116/200\n",
            "6/6 [==============================] - 0s 2ms/step - loss: 0.0000e+00 - accuracy: 0.6966 - mse: 1.5327\n",
            "Epoch 117/200\n",
            "6/6 [==============================] - 0s 3ms/step - loss: 0.0000e+00 - accuracy: 0.6966 - mse: 1.5327\n",
            "Epoch 118/200\n",
            "6/6 [==============================] - 0s 2ms/step - loss: 0.0000e+00 - accuracy: 0.6966 - mse: 1.5327\n",
            "Epoch 119/200\n",
            "6/6 [==============================] - 0s 3ms/step - loss: 0.0000e+00 - accuracy: 0.6966 - mse: 1.5327\n",
            "Epoch 120/200\n",
            "6/6 [==============================] - 0s 3ms/step - loss: 0.0000e+00 - accuracy: 0.6966 - mse: 1.5327\n",
            "Epoch 121/200\n",
            "6/6 [==============================] - 0s 3ms/step - loss: 0.0000e+00 - accuracy: 0.6966 - mse: 1.5327\n",
            "Epoch 122/200\n",
            "6/6 [==============================] - 0s 3ms/step - loss: 0.0000e+00 - accuracy: 0.6966 - mse: 1.5327\n",
            "Epoch 123/200\n",
            "6/6 [==============================] - 0s 3ms/step - loss: 0.0000e+00 - accuracy: 0.6966 - mse: 1.5327\n",
            "Epoch 124/200\n",
            "6/6 [==============================] - 0s 3ms/step - loss: 0.0000e+00 - accuracy: 0.6966 - mse: 1.5326\n",
            "Epoch 125/200\n",
            "6/6 [==============================] - 0s 3ms/step - loss: 0.0000e+00 - accuracy: 0.6966 - mse: 1.5326\n",
            "Epoch 126/200\n",
            "6/6 [==============================] - 0s 2ms/step - loss: 0.0000e+00 - accuracy: 0.6966 - mse: 1.5326\n",
            "Epoch 127/200\n",
            "6/6 [==============================] - 0s 2ms/step - loss: 0.0000e+00 - accuracy: 0.6966 - mse: 1.5326\n",
            "Epoch 128/200\n",
            "6/6 [==============================] - 0s 2ms/step - loss: 0.0000e+00 - accuracy: 0.6966 - mse: 1.5326\n",
            "Epoch 129/200\n",
            "6/6 [==============================] - 0s 3ms/step - loss: 0.0000e+00 - accuracy: 0.6966 - mse: 1.5326\n",
            "Epoch 130/200\n",
            "6/6 [==============================] - 0s 2ms/step - loss: 0.0000e+00 - accuracy: 0.6966 - mse: 1.5325\n",
            "Epoch 131/200\n",
            "6/6 [==============================] - 0s 2ms/step - loss: 0.0000e+00 - accuracy: 0.6966 - mse: 1.5325\n",
            "Epoch 132/200\n",
            "6/6 [==============================] - 0s 3ms/step - loss: 0.0000e+00 - accuracy: 0.6966 - mse: 1.5325\n",
            "Epoch 133/200\n",
            "6/6 [==============================] - 0s 2ms/step - loss: 0.0000e+00 - accuracy: 0.6966 - mse: 1.5325\n",
            "Epoch 134/200\n",
            "6/6 [==============================] - 0s 2ms/step - loss: 0.0000e+00 - accuracy: 0.6966 - mse: 1.5325\n",
            "Epoch 135/200\n",
            "6/6 [==============================] - 0s 3ms/step - loss: 0.0000e+00 - accuracy: 0.6966 - mse: 1.5325\n",
            "Epoch 136/200\n",
            "6/6 [==============================] - 0s 2ms/step - loss: 0.0000e+00 - accuracy: 0.6966 - mse: 1.5325\n",
            "Epoch 137/200\n",
            "6/6 [==============================] - 0s 3ms/step - loss: 0.0000e+00 - accuracy: 0.6966 - mse: 1.5325\n",
            "Epoch 138/200\n",
            "6/6 [==============================] - 0s 3ms/step - loss: 0.0000e+00 - accuracy: 0.6966 - mse: 1.5324\n",
            "Epoch 139/200\n",
            "6/6 [==============================] - 0s 3ms/step - loss: 0.0000e+00 - accuracy: 0.6966 - mse: 1.5324\n",
            "Epoch 140/200\n",
            "6/6 [==============================] - 0s 3ms/step - loss: 0.0000e+00 - accuracy: 0.6966 - mse: 1.5324\n",
            "Epoch 141/200\n",
            "6/6 [==============================] - 0s 3ms/step - loss: 0.0000e+00 - accuracy: 0.6966 - mse: 1.5324\n",
            "Epoch 142/200\n",
            "6/6 [==============================] - 0s 2ms/step - loss: 0.0000e+00 - accuracy: 0.6966 - mse: 1.5324\n",
            "Epoch 143/200\n",
            "6/6 [==============================] - 0s 2ms/step - loss: 0.0000e+00 - accuracy: 0.6966 - mse: 1.5324\n",
            "Epoch 144/200\n",
            "6/6 [==============================] - 0s 2ms/step - loss: 0.0000e+00 - accuracy: 0.6966 - mse: 1.5324\n",
            "Epoch 145/200\n",
            "6/6 [==============================] - 0s 3ms/step - loss: 0.0000e+00 - accuracy: 0.6966 - mse: 1.5324\n",
            "Epoch 146/200\n",
            "6/6 [==============================] - 0s 2ms/step - loss: 0.0000e+00 - accuracy: 0.6966 - mse: 1.5324\n",
            "Epoch 147/200\n",
            "6/6 [==============================] - 0s 3ms/step - loss: 0.0000e+00 - accuracy: 0.6966 - mse: 1.5323\n",
            "Epoch 148/200\n",
            "6/6 [==============================] - 0s 4ms/step - loss: 0.0000e+00 - accuracy: 0.6966 - mse: 1.5323\n",
            "Epoch 149/200\n",
            "6/6 [==============================] - 0s 2ms/step - loss: 0.0000e+00 - accuracy: 0.6966 - mse: 1.5323\n",
            "Epoch 150/200\n",
            "6/6 [==============================] - 0s 2ms/step - loss: 0.0000e+00 - accuracy: 0.6966 - mse: 1.5323\n",
            "Epoch 151/200\n",
            "6/6 [==============================] - 0s 2ms/step - loss: 0.0000e+00 - accuracy: 0.6966 - mse: 1.5323\n",
            "Epoch 152/200\n",
            "6/6 [==============================] - 0s 2ms/step - loss: 0.0000e+00 - accuracy: 0.6966 - mse: 1.5323\n",
            "Epoch 153/200\n",
            "6/6 [==============================] - 0s 2ms/step - loss: 0.0000e+00 - accuracy: 0.6966 - mse: 1.5323\n",
            "Epoch 154/200\n",
            "6/6 [==============================] - 0s 2ms/step - loss: 0.0000e+00 - accuracy: 0.6966 - mse: 1.5323\n",
            "Epoch 155/200\n",
            "6/6 [==============================] - 0s 3ms/step - loss: 0.0000e+00 - accuracy: 0.6966 - mse: 1.5323\n",
            "Epoch 156/200\n",
            "6/6 [==============================] - 0s 3ms/step - loss: 0.0000e+00 - accuracy: 0.6966 - mse: 1.5322\n",
            "Epoch 157/200\n",
            "6/6 [==============================] - 0s 4ms/step - loss: 0.0000e+00 - accuracy: 0.6966 - mse: 1.5323\n",
            "Epoch 158/200\n",
            "6/6 [==============================] - 0s 2ms/step - loss: 0.0000e+00 - accuracy: 0.6966 - mse: 1.5322\n",
            "Epoch 159/200\n",
            "6/6 [==============================] - 0s 4ms/step - loss: 0.0000e+00 - accuracy: 0.6966 - mse: 1.5322\n",
            "Epoch 160/200\n",
            "6/6 [==============================] - 0s 2ms/step - loss: 0.0000e+00 - accuracy: 0.6966 - mse: 1.5322\n",
            "Epoch 161/200\n",
            "6/6 [==============================] - 0s 2ms/step - loss: 0.0000e+00 - accuracy: 0.6966 - mse: 1.5322\n",
            "Epoch 162/200\n",
            "6/6 [==============================] - 0s 2ms/step - loss: 0.0000e+00 - accuracy: 0.6966 - mse: 1.5322\n",
            "Epoch 163/200\n",
            "6/6 [==============================] - 0s 2ms/step - loss: 0.0000e+00 - accuracy: 0.6966 - mse: 1.5322\n",
            "Epoch 164/200\n",
            "6/6 [==============================] - 0s 2ms/step - loss: 0.0000e+00 - accuracy: 0.6966 - mse: 1.5322\n",
            "Epoch 165/200\n",
            "6/6 [==============================] - 0s 3ms/step - loss: 0.0000e+00 - accuracy: 0.6966 - mse: 1.5322\n",
            "Epoch 166/200\n",
            "6/6 [==============================] - 0s 3ms/step - loss: 0.0000e+00 - accuracy: 0.6966 - mse: 1.5322\n",
            "Epoch 167/200\n",
            "6/6 [==============================] - 0s 3ms/step - loss: 0.0000e+00 - accuracy: 0.6966 - mse: 1.5322\n",
            "Epoch 168/200\n",
            "6/6 [==============================] - 0s 2ms/step - loss: 0.0000e+00 - accuracy: 0.6966 - mse: 1.5322\n",
            "Epoch 169/200\n",
            "6/6 [==============================] - 0s 2ms/step - loss: 0.0000e+00 - accuracy: 0.6966 - mse: 1.5322\n",
            "Epoch 170/200\n",
            "6/6 [==============================] - 0s 3ms/step - loss: 0.0000e+00 - accuracy: 0.6966 - mse: 1.5322\n",
            "Epoch 171/200\n",
            "6/6 [==============================] - 0s 2ms/step - loss: 0.0000e+00 - accuracy: 0.6966 - mse: 1.5322\n",
            "Epoch 172/200\n",
            "6/6 [==============================] - 0s 2ms/step - loss: 0.0000e+00 - accuracy: 0.6966 - mse: 1.5322\n",
            "Epoch 173/200\n",
            "6/6 [==============================] - 0s 3ms/step - loss: 0.0000e+00 - accuracy: 0.6966 - mse: 1.5322\n",
            "Epoch 174/200\n",
            "6/6 [==============================] - 0s 2ms/step - loss: 0.0000e+00 - accuracy: 0.6966 - mse: 1.5322\n",
            "Epoch 175/200\n",
            "6/6 [==============================] - 0s 4ms/step - loss: 0.0000e+00 - accuracy: 0.6966 - mse: 1.5322\n",
            "Epoch 176/200\n",
            "6/6 [==============================] - 0s 2ms/step - loss: 0.0000e+00 - accuracy: 0.6966 - mse: 1.5322\n",
            "Epoch 177/200\n",
            "6/6 [==============================] - 0s 2ms/step - loss: 0.0000e+00 - accuracy: 0.6966 - mse: 1.5322\n",
            "Epoch 178/200\n",
            "6/6 [==============================] - 0s 3ms/step - loss: 0.0000e+00 - accuracy: 0.6966 - mse: 1.5322\n",
            "Epoch 179/200\n",
            "6/6 [==============================] - 0s 2ms/step - loss: 0.0000e+00 - accuracy: 0.6966 - mse: 1.5322\n",
            "Epoch 180/200\n",
            "6/6 [==============================] - 0s 3ms/step - loss: 0.0000e+00 - accuracy: 0.6966 - mse: 1.5322\n",
            "Epoch 181/200\n",
            "6/6 [==============================] - 0s 2ms/step - loss: 0.0000e+00 - accuracy: 0.6966 - mse: 1.5322\n",
            "Epoch 182/200\n",
            "6/6 [==============================] - 0s 2ms/step - loss: 0.0000e+00 - accuracy: 0.6966 - mse: 1.5322\n",
            "Epoch 183/200\n",
            "6/6 [==============================] - 0s 2ms/step - loss: 0.0000e+00 - accuracy: 0.6966 - mse: 1.5322\n",
            "Epoch 184/200\n",
            "6/6 [==============================] - 0s 4ms/step - loss: 0.0000e+00 - accuracy: 0.6966 - mse: 1.5322\n",
            "Epoch 185/200\n",
            "6/6 [==============================] - 0s 2ms/step - loss: 0.0000e+00 - accuracy: 0.6966 - mse: 1.5322\n",
            "Epoch 186/200\n",
            "6/6 [==============================] - 0s 6ms/step - loss: 0.0000e+00 - accuracy: 0.6966 - mse: 1.5322\n",
            "Epoch 187/200\n",
            "6/6 [==============================] - 0s 2ms/step - loss: 0.0000e+00 - accuracy: 0.6966 - mse: 1.5322\n",
            "Epoch 188/200\n",
            "6/6 [==============================] - 0s 2ms/step - loss: 0.0000e+00 - accuracy: 0.6966 - mse: 1.5322\n",
            "Epoch 189/200\n",
            "6/6 [==============================] - 0s 2ms/step - loss: 0.0000e+00 - accuracy: 0.6966 - mse: 1.5322\n",
            "Epoch 190/200\n",
            "6/6 [==============================] - 0s 2ms/step - loss: 0.0000e+00 - accuracy: 0.6966 - mse: 1.5322\n",
            "Epoch 191/200\n",
            "6/6 [==============================] - 0s 3ms/step - loss: 0.0000e+00 - accuracy: 0.6966 - mse: 1.5322\n",
            "Epoch 192/200\n",
            "6/6 [==============================] - 0s 2ms/step - loss: 0.0000e+00 - accuracy: 0.6966 - mse: 1.5322\n",
            "Epoch 193/200\n",
            "6/6 [==============================] - 0s 3ms/step - loss: 0.0000e+00 - accuracy: 0.6966 - mse: 1.5322\n",
            "Epoch 194/200\n",
            "6/6 [==============================] - 0s 2ms/step - loss: 0.0000e+00 - accuracy: 0.6966 - mse: 1.5322\n",
            "Epoch 195/200\n",
            "6/6 [==============================] - 0s 3ms/step - loss: 0.0000e+00 - accuracy: 0.6966 - mse: 1.5322\n",
            "Epoch 196/200\n",
            "6/6 [==============================] - 0s 3ms/step - loss: 0.0000e+00 - accuracy: 0.6966 - mse: 1.5322\n",
            "Epoch 197/200\n",
            "6/6 [==============================] - 0s 4ms/step - loss: 0.0000e+00 - accuracy: 0.6966 - mse: 1.5322\n",
            "Epoch 198/200\n",
            "6/6 [==============================] - 0s 2ms/step - loss: 0.0000e+00 - accuracy: 0.6966 - mse: 1.5322\n",
            "Epoch 199/200\n",
            "6/6 [==============================] - 0s 3ms/step - loss: 0.0000e+00 - accuracy: 0.6966 - mse: 1.5322\n",
            "Epoch 200/200\n",
            "6/6 [==============================] - 0s 3ms/step - loss: 0.0000e+00 - accuracy: 0.6966 - mse: 1.5322\n"
          ],
          "name": "stdout"
        },
        {
          "output_type": "execute_result",
          "data": {
            "text/plain": [
              "<tensorflow.python.keras.callbacks.History at 0x7f700a925850>"
            ]
          },
          "metadata": {
            "tags": []
          },
          "execution_count": 269
        }
      ]
    },
    {
      "cell_type": "code",
      "metadata": {
        "colab": {
          "base_uri": "https://localhost:8080/"
        },
        "id": "3bTPjPkYFySe",
        "outputId": "87c0e0c6-a0e0-4f85-c490-b2f3d4df4a40"
      },
      "source": [
        "y_pred=ann.predict([x_test])"
      ],
      "execution_count": 270,
      "outputs": [
        {
          "output_type": "stream",
          "text": [
            "WARNING:tensorflow:Layers in a Sequential model should only have a single input tensor, but we receive a <class 'tuple'> input: (<tf.Tensor 'IteratorGetNext:0' shape=(None, 9) dtype=float32>,)\n",
            "Consider rewriting this model with the Functional API.\n"
          ],
          "name": "stdout"
        }
      ]
    },
    {
      "cell_type": "code",
      "metadata": {
        "colab": {
          "base_uri": "https://localhost:8080/"
        },
        "id": "J7rj9eVsGAQj",
        "outputId": "55341603-98f3-496c-d0b5-087cc9cb57ef"
      },
      "source": [
        "y_pred"
      ],
      "execution_count": 271,
      "outputs": [
        {
          "output_type": "execute_result",
          "data": {
            "text/plain": [
              "array([[1.        ],\n",
              "       [0.99995613],\n",
              "       [0.98625964],\n",
              "       [1.        ],\n",
              "       [1.        ],\n",
              "       [0.9737953 ],\n",
              "       [1.        ],\n",
              "       [1.        ],\n",
              "       [1.        ],\n",
              "       [1.        ],\n",
              "       [1.        ],\n",
              "       [0.99999756],\n",
              "       [0.9999993 ],\n",
              "       [0.99813306],\n",
              "       [0.99278224],\n",
              "       [1.        ],\n",
              "       [1.        ],\n",
              "       [1.        ],\n",
              "       [0.9999949 ],\n",
              "       [1.        ],\n",
              "       [1.        ],\n",
              "       [0.81744623],\n",
              "       [1.        ],\n",
              "       [0.9916851 ],\n",
              "       [       nan],\n",
              "       [0.99999917],\n",
              "       [1.        ],\n",
              "       [0.7408386 ],\n",
              "       [0.99999905],\n",
              "       [1.        ],\n",
              "       [0.99960196],\n",
              "       [1.        ],\n",
              "       [0.9876322 ],\n",
              "       [1.        ],\n",
              "       [0.999887  ],\n",
              "       [1.        ],\n",
              "       [1.        ],\n",
              "       [1.        ],\n",
              "       [1.        ],\n",
              "       [1.        ],\n",
              "       [1.        ],\n",
              "       [1.        ],\n",
              "       [0.7455225 ],\n",
              "       [0.9999819 ],\n",
              "       [1.        ]], dtype=float32)"
            ]
          },
          "metadata": {
            "tags": []
          },
          "execution_count": 271
        }
      ]
    },
    {
      "cell_type": "code",
      "metadata": {
        "colab": {
          "base_uri": "https://localhost:8080/"
        },
        "id": "dSkJI5P0IwF1",
        "outputId": "b8df2ee6-8517-4e14-a850-58643d48fe05"
      },
      "source": [
        "ann.predict([[5354153, 6348.37, 41055, 48.68, 5904, 49012, 58.11, 488, 0.58]])"
      ],
      "execution_count": 280,
      "outputs": [
        {
          "output_type": "execute_result",
          "data": {
            "text/plain": [
              "array([[0.6936116]], dtype=float32)"
            ]
          },
          "metadata": {
            "tags": []
          },
          "execution_count": 280
        }
      ]
    },
    {
      "cell_type": "code",
      "metadata": {
        "id": "KJe8ac1tB7iI"
      },
      "source": [
        "from sklearn.metrics import confusion_matrix, accuracy_score"
      ],
      "execution_count": 283,
      "outputs": []
    },
    {
      "cell_type": "code",
      "metadata": {
        "colab": {
          "base_uri": "https://localhost:8080/",
          "height": 325
        },
        "id": "Lk2cwdaxFnW8",
        "outputId": "02de1363-7abb-44d7-90de-6b03bbabdbb7"
      },
      "source": [
        "confusion_matrix(y_test, y_pred)"
      ],
      "execution_count": 284,
      "outputs": [
        {
          "output_type": "error",
          "ename": "ValueError",
          "evalue": "ignored",
          "traceback": [
            "\u001b[0;31m---------------------------------------------------------------------------\u001b[0m",
            "\u001b[0;31mValueError\u001b[0m                                Traceback (most recent call last)",
            "\u001b[0;32m<ipython-input-284-430e012b2078>\u001b[0m in \u001b[0;36m<module>\u001b[0;34m()\u001b[0m\n\u001b[0;32m----> 1\u001b[0;31m \u001b[0mconfusion_matrix\u001b[0m\u001b[0;34m(\u001b[0m\u001b[0my_test\u001b[0m\u001b[0;34m,\u001b[0m \u001b[0my_pred\u001b[0m\u001b[0;34m)\u001b[0m\u001b[0;34m\u001b[0m\u001b[0;34m\u001b[0m\u001b[0m\n\u001b[0m",
            "\u001b[0;32m/usr/local/lib/python3.7/dist-packages/sklearn/metrics/_classification.py\u001b[0m in \u001b[0;36mconfusion_matrix\u001b[0;34m(y_true, y_pred, labels, sample_weight, normalize)\u001b[0m\n\u001b[1;32m    266\u001b[0m \u001b[0;34m\u001b[0m\u001b[0m\n\u001b[1;32m    267\u001b[0m     \"\"\"\n\u001b[0;32m--> 268\u001b[0;31m     \u001b[0my_type\u001b[0m\u001b[0;34m,\u001b[0m \u001b[0my_true\u001b[0m\u001b[0;34m,\u001b[0m \u001b[0my_pred\u001b[0m \u001b[0;34m=\u001b[0m \u001b[0m_check_targets\u001b[0m\u001b[0;34m(\u001b[0m\u001b[0my_true\u001b[0m\u001b[0;34m,\u001b[0m \u001b[0my_pred\u001b[0m\u001b[0;34m)\u001b[0m\u001b[0;34m\u001b[0m\u001b[0;34m\u001b[0m\u001b[0m\n\u001b[0m\u001b[1;32m    269\u001b[0m     \u001b[0;32mif\u001b[0m \u001b[0my_type\u001b[0m \u001b[0;32mnot\u001b[0m \u001b[0;32min\u001b[0m \u001b[0;34m(\u001b[0m\u001b[0;34m\"binary\"\u001b[0m\u001b[0;34m,\u001b[0m \u001b[0;34m\"multiclass\"\u001b[0m\u001b[0;34m)\u001b[0m\u001b[0;34m:\u001b[0m\u001b[0;34m\u001b[0m\u001b[0;34m\u001b[0m\u001b[0m\n\u001b[1;32m    270\u001b[0m         \u001b[0;32mraise\u001b[0m \u001b[0mValueError\u001b[0m\u001b[0;34m(\u001b[0m\u001b[0;34m\"%s is not supported\"\u001b[0m \u001b[0;34m%\u001b[0m \u001b[0my_type\u001b[0m\u001b[0;34m)\u001b[0m\u001b[0;34m\u001b[0m\u001b[0;34m\u001b[0m\u001b[0m\n",
            "\u001b[0;32m/usr/local/lib/python3.7/dist-packages/sklearn/metrics/_classification.py\u001b[0m in \u001b[0;36m_check_targets\u001b[0;34m(y_true, y_pred)\u001b[0m\n\u001b[1;32m     80\u001b[0m     \u001b[0mcheck_consistent_length\u001b[0m\u001b[0;34m(\u001b[0m\u001b[0my_true\u001b[0m\u001b[0;34m,\u001b[0m \u001b[0my_pred\u001b[0m\u001b[0;34m)\u001b[0m\u001b[0;34m\u001b[0m\u001b[0;34m\u001b[0m\u001b[0m\n\u001b[1;32m     81\u001b[0m     \u001b[0mtype_true\u001b[0m \u001b[0;34m=\u001b[0m \u001b[0mtype_of_target\u001b[0m\u001b[0;34m(\u001b[0m\u001b[0my_true\u001b[0m\u001b[0;34m)\u001b[0m\u001b[0;34m\u001b[0m\u001b[0;34m\u001b[0m\u001b[0m\n\u001b[0;32m---> 82\u001b[0;31m     \u001b[0mtype_pred\u001b[0m \u001b[0;34m=\u001b[0m \u001b[0mtype_of_target\u001b[0m\u001b[0;34m(\u001b[0m\u001b[0my_pred\u001b[0m\u001b[0;34m)\u001b[0m\u001b[0;34m\u001b[0m\u001b[0;34m\u001b[0m\u001b[0m\n\u001b[0m\u001b[1;32m     83\u001b[0m \u001b[0;34m\u001b[0m\u001b[0m\n\u001b[1;32m     84\u001b[0m     \u001b[0my_type\u001b[0m \u001b[0;34m=\u001b[0m \u001b[0;34m{\u001b[0m\u001b[0mtype_true\u001b[0m\u001b[0;34m,\u001b[0m \u001b[0mtype_pred\u001b[0m\u001b[0;34m}\u001b[0m\u001b[0;34m\u001b[0m\u001b[0;34m\u001b[0m\u001b[0m\n",
            "\u001b[0;32m/usr/local/lib/python3.7/dist-packages/sklearn/utils/multiclass.py\u001b[0m in \u001b[0;36mtype_of_target\u001b[0;34m(y)\u001b[0m\n\u001b[1;32m    282\u001b[0m     \u001b[0;32mif\u001b[0m \u001b[0my\u001b[0m\u001b[0;34m.\u001b[0m\u001b[0mdtype\u001b[0m\u001b[0;34m.\u001b[0m\u001b[0mkind\u001b[0m \u001b[0;34m==\u001b[0m \u001b[0;34m'f'\u001b[0m \u001b[0;32mand\u001b[0m \u001b[0mnp\u001b[0m\u001b[0;34m.\u001b[0m\u001b[0many\u001b[0m\u001b[0;34m(\u001b[0m\u001b[0my\u001b[0m \u001b[0;34m!=\u001b[0m \u001b[0my\u001b[0m\u001b[0;34m.\u001b[0m\u001b[0mastype\u001b[0m\u001b[0;34m(\u001b[0m\u001b[0mint\u001b[0m\u001b[0;34m)\u001b[0m\u001b[0;34m)\u001b[0m\u001b[0;34m:\u001b[0m\u001b[0;34m\u001b[0m\u001b[0;34m\u001b[0m\u001b[0m\n\u001b[1;32m    283\u001b[0m         \u001b[0;31m# [.1, .2, 3] or [[.1, .2, 3]] or [[1., .2]] and not [1., 2., 3.]\u001b[0m\u001b[0;34m\u001b[0m\u001b[0;34m\u001b[0m\u001b[0;34m\u001b[0m\u001b[0m\n\u001b[0;32m--> 284\u001b[0;31m         \u001b[0m_assert_all_finite\u001b[0m\u001b[0;34m(\u001b[0m\u001b[0my\u001b[0m\u001b[0;34m)\u001b[0m\u001b[0;34m\u001b[0m\u001b[0;34m\u001b[0m\u001b[0m\n\u001b[0m\u001b[1;32m    285\u001b[0m         \u001b[0;32mreturn\u001b[0m \u001b[0;34m'continuous'\u001b[0m \u001b[0;34m+\u001b[0m \u001b[0msuffix\u001b[0m\u001b[0;34m\u001b[0m\u001b[0;34m\u001b[0m\u001b[0m\n\u001b[1;32m    286\u001b[0m \u001b[0;34m\u001b[0m\u001b[0m\n",
            "\u001b[0;32m/usr/local/lib/python3.7/dist-packages/sklearn/utils/validation.py\u001b[0m in \u001b[0;36m_assert_all_finite\u001b[0;34m(X, allow_nan, msg_dtype)\u001b[0m\n\u001b[1;32m     58\u001b[0m                     \u001b[0mmsg_err\u001b[0m\u001b[0;34m.\u001b[0m\u001b[0mformat\u001b[0m\u001b[0;34m\u001b[0m\u001b[0;34m\u001b[0m\u001b[0m\n\u001b[1;32m     59\u001b[0m                     (type_err,\n\u001b[0;32m---> 60\u001b[0;31m                      msg_dtype if msg_dtype is not None else X.dtype)\n\u001b[0m\u001b[1;32m     61\u001b[0m             )\n\u001b[1;32m     62\u001b[0m     \u001b[0;31m# for object dtype data, we only check for NaNs (GH-13254)\u001b[0m\u001b[0;34m\u001b[0m\u001b[0;34m\u001b[0m\u001b[0;34m\u001b[0m\u001b[0m\n",
            "\u001b[0;31mValueError\u001b[0m: Input contains NaN, infinity or a value too large for dtype('float32')."
          ]
        }
      ]
    }
  ]
}