{
  "nbformat": 4,
  "nbformat_minor": 0,
  "metadata": {
    "colab": {
      "name": "HACKATHON_TASK.ipynb",
      "provenance": []
    },
    "kernelspec": {
      "name": "python3",
      "display_name": "Python 3"
    },
    "language_info": {
      "name": "python"
    }
  },
  "cells": [
    {
      "cell_type": "code",
      "metadata": {
        "id": "Ad4V_fVrITHb"
      },
      "source": [
        "import pandas as pd \n",
        "import numpy as np\n",
        "import matplotlib.pyplot as plt\n",
        "import seaborn as sns"
      ],
      "execution_count": 1,
      "outputs": []
    },
    {
      "cell_type": "markdown",
      "metadata": {
        "id": "g4FLXk8ukjsj"
      },
      "source": [
        "## Read the dataset"
      ]
    },
    {
      "cell_type": "code",
      "metadata": {
        "id": "D_oic1lbIeVq"
      },
      "source": [
        "df = pd.read_csv('/content/data.csv')"
      ],
      "execution_count": 2,
      "outputs": []
    },
    {
      "cell_type": "code",
      "metadata": {
        "colab": {
          "base_uri": "https://localhost:8080/",
          "height": 424
        },
        "id": "bUovX_4pIeJD",
        "outputId": "27477418-c8e3-46d5-f159-7c37794efae7"
      },
      "source": [
        "df"
      ],
      "execution_count": 4,
      "outputs": [
        {
          "output_type": "execute_result",
          "data": {
            "text/html": [
              "<div>\n",
              "<style scoped>\n",
              "    .dataframe tbody tr th:only-of-type {\n",
              "        vertical-align: middle;\n",
              "    }\n",
              "\n",
              "    .dataframe tbody tr th {\n",
              "        vertical-align: top;\n",
              "    }\n",
              "\n",
              "    .dataframe thead th {\n",
              "        text-align: right;\n",
              "    }\n",
              "</style>\n",
              "<table border=\"1\" class=\"dataframe\">\n",
              "  <thead>\n",
              "    <tr style=\"text-align: right;\">\n",
              "      <th></th>\n",
              "      <th>x1</th>\n",
              "      <th>x2</th>\n",
              "      <th>y</th>\n",
              "    </tr>\n",
              "  </thead>\n",
              "  <tbody>\n",
              "    <tr>\n",
              "      <th>0</th>\n",
              "      <td>-119.366669</td>\n",
              "      <td>1.150000e+02</td>\n",
              "      <td>1</td>\n",
              "    </tr>\n",
              "    <tr>\n",
              "      <th>1</th>\n",
              "      <td>-101.108044</td>\n",
              "      <td>9.777716e+01</td>\n",
              "      <td>1</td>\n",
              "    </tr>\n",
              "    <tr>\n",
              "      <th>2</th>\n",
              "      <td>-130.278658</td>\n",
              "      <td>1.067677e+02</td>\n",
              "      <td>1</td>\n",
              "    </tr>\n",
              "    <tr>\n",
              "      <th>3</th>\n",
              "      <td>-114.703415</td>\n",
              "      <td>1.011955e+02</td>\n",
              "      <td>1</td>\n",
              "    </tr>\n",
              "    <tr>\n",
              "      <th>4</th>\n",
              "      <td>-119.366669</td>\n",
              "      <td>1.150000e+02</td>\n",
              "      <td>1</td>\n",
              "    </tr>\n",
              "    <tr>\n",
              "      <th>...</th>\n",
              "      <td>...</td>\n",
              "      <td>...</td>\n",
              "      <td>...</td>\n",
              "    </tr>\n",
              "    <tr>\n",
              "      <th>2222</th>\n",
              "      <td>98.714112</td>\n",
              "      <td>8.964312e+01</td>\n",
              "      <td>0</td>\n",
              "    </tr>\n",
              "    <tr>\n",
              "      <th>2223</th>\n",
              "      <td>96.633331</td>\n",
              "      <td>9.100000e+01</td>\n",
              "      <td>0</td>\n",
              "    </tr>\n",
              "    <tr>\n",
              "      <th>2224</th>\n",
              "      <td>85.673940</td>\n",
              "      <td>1.038393e+02</td>\n",
              "      <td>0</td>\n",
              "    </tr>\n",
              "    <tr>\n",
              "      <th>2225</th>\n",
              "      <td>78.958862</td>\n",
              "      <td>7.860537e+01</td>\n",
              "      <td>0</td>\n",
              "    </tr>\n",
              "    <tr>\n",
              "      <th>2226</th>\n",
              "      <td>109.624009</td>\n",
              "      <td>1.000000e+08</td>\n",
              "      <td>0</td>\n",
              "    </tr>\n",
              "  </tbody>\n",
              "</table>\n",
              "<p>2227 rows × 3 columns</p>\n",
              "</div>"
            ],
            "text/plain": [
              "              x1            x2  y\n",
              "0    -119.366669  1.150000e+02  1\n",
              "1    -101.108044  9.777716e+01  1\n",
              "2    -130.278658  1.067677e+02  1\n",
              "3    -114.703415  1.011955e+02  1\n",
              "4    -119.366669  1.150000e+02  1\n",
              "...          ...           ... ..\n",
              "2222   98.714112  8.964312e+01  0\n",
              "2223   96.633331  9.100000e+01  0\n",
              "2224   85.673940  1.038393e+02  0\n",
              "2225   78.958862  7.860537e+01  0\n",
              "2226  109.624009  1.000000e+08  0\n",
              "\n",
              "[2227 rows x 3 columns]"
            ]
          },
          "metadata": {},
          "execution_count": 4
        }
      ]
    },
    {
      "cell_type": "markdown",
      "metadata": {
        "id": "LAUrx7_RI_mQ"
      },
      "source": [
        "###**Remove and handle Null Values**"
      ]
    },
    {
      "cell_type": "code",
      "metadata": {
        "colab": {
          "base_uri": "https://localhost:8080/"
        },
        "id": "4hT-H6R3IeBO",
        "outputId": "23e21839-23f3-4857-fbf6-1f3abf39d66d"
      },
      "source": [
        "df.isnull().sum()"
      ],
      "execution_count": 5,
      "outputs": [
        {
          "output_type": "execute_result",
          "data": {
            "text/plain": [
              "x1    5\n",
              "x2    3\n",
              "y     0\n",
              "dtype: int64"
            ]
          },
          "metadata": {},
          "execution_count": 5
        }
      ]
    },
    {
      "cell_type": "code",
      "metadata": {
        "id": "6ZZdyysFId10"
      },
      "source": [
        "df.dropna(inplace=True)"
      ],
      "execution_count": 6,
      "outputs": []
    },
    {
      "cell_type": "code",
      "metadata": {
        "colab": {
          "base_uri": "https://localhost:8080/"
        },
        "id": "OSXZMxG5Idpm",
        "outputId": "3ddb7429-22a7-4183-c895-287d57a7182d"
      },
      "source": [
        "df.isnull().sum()"
      ],
      "execution_count": 7,
      "outputs": [
        {
          "output_type": "execute_result",
          "data": {
            "text/plain": [
              "x1    0\n",
              "x2    0\n",
              "y     0\n",
              "dtype: int64"
            ]
          },
          "metadata": {},
          "execution_count": 7
        }
      ]
    },
    {
      "cell_type": "markdown",
      "metadata": {
        "id": "UlSeyYfXJPDX"
      },
      "source": [
        "Check whether it is balanced or not?"
      ]
    },
    {
      "cell_type": "code",
      "metadata": {
        "colab": {
          "base_uri": "https://localhost:8080/"
        },
        "id": "hnopnD2nIdg5",
        "outputId": "e9949a6f-8b6f-4a97-bb26-33e71097d057"
      },
      "source": [
        "df['y'].value_counts()"
      ],
      "execution_count": 9,
      "outputs": [
        {
          "output_type": "execute_result",
          "data": {
            "text/plain": [
              "0    1238\n",
              "1     981\n",
              "Name: y, dtype: int64"
            ]
          },
          "metadata": {},
          "execution_count": 9
        }
      ]
    },
    {
      "cell_type": "markdown",
      "metadata": {
        "id": "LAe-sG0SJkac"
      },
      "source": [
        "it is slightly imbalanced so,**oversampling** is done"
      ]
    },
    {
      "cell_type": "code",
      "metadata": {
        "id": "oaFwtZNMIdX5"
      },
      "source": [
        "df1 = df[df['y']==1]"
      ],
      "execution_count": 19,
      "outputs": []
    },
    {
      "cell_type": "code",
      "metadata": {
        "colab": {
          "base_uri": "https://localhost:8080/"
        },
        "id": "9FVgmW3JIdLL",
        "outputId": "4df3a567-363a-433b-a346-14dd921fff00"
      },
      "source": [
        "df1.shape"
      ],
      "execution_count": 21,
      "outputs": [
        {
          "output_type": "execute_result",
          "data": {
            "text/plain": [
              "(981, 3)"
            ]
          },
          "metadata": {},
          "execution_count": 21
        }
      ]
    },
    {
      "cell_type": "code",
      "metadata": {
        "colab": {
          "base_uri": "https://localhost:8080/"
        },
        "id": "mGHwRLn1Ob9C",
        "outputId": "daed134a-a61a-46e2-8606-7f2b3027e314"
      },
      "source": [
        "1238-981"
      ],
      "execution_count": 22,
      "outputs": [
        {
          "output_type": "execute_result",
          "data": {
            "text/plain": [
              "257"
            ]
          },
          "metadata": {},
          "execution_count": 22
        }
      ]
    },
    {
      "cell_type": "code",
      "metadata": {
        "id": "ejrnJ_b-IdC_"
      },
      "source": [
        "df1o = df1.sample(257)"
      ],
      "execution_count": 24,
      "outputs": []
    },
    {
      "cell_type": "code",
      "metadata": {
        "id": "MaItDkzwIc7N"
      },
      "source": [
        "df2 = df.copy()"
      ],
      "execution_count": 25,
      "outputs": []
    },
    {
      "cell_type": "code",
      "metadata": {
        "id": "MdFGs0LDIcyL"
      },
      "source": [
        "data = pd.concat([df2,df1o])"
      ],
      "execution_count": 32,
      "outputs": []
    },
    {
      "cell_type": "markdown",
      "metadata": {
        "id": "A7-uuD30kp3R"
      },
      "source": [
        "##Now the data is balanced"
      ]
    },
    {
      "cell_type": "code",
      "metadata": {
        "colab": {
          "base_uri": "https://localhost:8080/",
          "height": 266
        },
        "id": "fJ12NGpSIcpU",
        "outputId": "72f67a25-4457-48c3-ffbc-d7f26585271f"
      },
      "source": [
        "bal_data = data['y'].value_counts()\n",
        "print('distribution of Y in pie chart')\n",
        "plt.pie(bal_data,labels=['0','1'],colors=['red','green'],autopct='%2f%%')\n",
        "plt.show()"
      ],
      "execution_count": 33,
      "outputs": [
        {
          "output_type": "stream",
          "name": "stdout",
          "text": [
            "distribution of Y in pie chart\n"
          ]
        },
        {
          "output_type": "display_data",
          "data": {
            "image/png": "[encoded data removed]",
            "text/plain": [
              "<Figure size 432x288 with 1 Axes>"
            ]
          },
          "metadata": {}
        }
      ]
    },
    {
      "cell_type": "code",
      "metadata": {
        "colab": {
          "base_uri": "https://localhost:8080/",
          "height": 300
        },
        "id": "3K2WRjKxP2rM",
        "outputId": "2a463751-bad4-47aa-ca19-b422142656cd"
      },
      "source": [
        "data.describe()"
      ],
      "execution_count": 34,
      "outputs": [
        {
          "output_type": "execute_result",
          "data": {
            "text/html": [
              "<div>\n",
              "<style scoped>\n",
              "    .dataframe tbody tr th:only-of-type {\n",
              "        vertical-align: middle;\n",
              "    }\n",
              "\n",
              "    .dataframe tbody tr th {\n",
              "        vertical-align: top;\n",
              "    }\n",
              "\n",
              "    .dataframe thead th {\n",
              "        text-align: right;\n",
              "    }\n",
              "</style>\n",
              "<table border=\"1\" class=\"dataframe\">\n",
              "  <thead>\n",
              "    <tr style=\"text-align: right;\">\n",
              "      <th></th>\n",
              "      <th>x1</th>\n",
              "      <th>x2</th>\n",
              "      <th>y</th>\n",
              "    </tr>\n",
              "  </thead>\n",
              "  <tbody>\n",
              "    <tr>\n",
              "      <th>count</th>\n",
              "      <td>2476.000000</td>\n",
              "      <td>2.476000e+03</td>\n",
              "      <td>2476.000000</td>\n",
              "    </tr>\n",
              "    <tr>\n",
              "      <th>mean</th>\n",
              "      <td>-5.893989</td>\n",
              "      <td>8.036959e+04</td>\n",
              "      <td>0.500000</td>\n",
              "    </tr>\n",
              "    <tr>\n",
              "      <th>std</th>\n",
              "      <td>74.990544</td>\n",
              "      <td>2.827497e+06</td>\n",
              "      <td>0.500101</td>\n",
              "    </tr>\n",
              "    <tr>\n",
              "      <th>min</th>\n",
              "      <td>-134.369160</td>\n",
              "      <td>-1.348761e+02</td>\n",
              "      <td>0.000000</td>\n",
              "    </tr>\n",
              "    <tr>\n",
              "      <th>25%</th>\n",
              "      <td>-72.840234</td>\n",
              "      <td>-7.940891e+01</td>\n",
              "      <td>0.000000</td>\n",
              "    </tr>\n",
              "    <tr>\n",
              "      <th>50%</th>\n",
              "      <td>-11.234881</td>\n",
              "      <td>-2.102422e-01</td>\n",
              "      <td>0.500000</td>\n",
              "    </tr>\n",
              "    <tr>\n",
              "      <th>75%</th>\n",
              "      <td>59.304584</td>\n",
              "      <td>6.368618e+01</td>\n",
              "      <td>1.000000</td>\n",
              "    </tr>\n",
              "    <tr>\n",
              "      <th>max</th>\n",
              "      <td>134.508687</td>\n",
              "      <td>1.000000e+08</td>\n",
              "      <td>1.000000</td>\n",
              "    </tr>\n",
              "  </tbody>\n",
              "</table>\n",
              "</div>"
            ],
            "text/plain": [
              "                x1            x2            y\n",
              "count  2476.000000  2.476000e+03  2476.000000\n",
              "mean     -5.893989  8.036959e+04     0.500000\n",
              "std      74.990544  2.827497e+06     0.500101\n",
              "min    -134.369160 -1.348761e+02     0.000000\n",
              "25%     -72.840234 -7.940891e+01     0.000000\n",
              "50%     -11.234881 -2.102422e-01     0.500000\n",
              "75%      59.304584  6.368618e+01     1.000000\n",
              "max     134.508687  1.000000e+08     1.000000"
            ]
          },
          "metadata": {},
          "execution_count": 34
        }
      ]
    },
    {
      "cell_type": "code",
      "metadata": {
        "id": "bA-zGG5uQZLu"
      },
      "source": [
        "x = data.iloc[:,:-1]\n",
        "y = data.iloc[:,-1]"
      ],
      "execution_count": 48,
      "outputs": []
    },
    {
      "cell_type": "code",
      "metadata": {
        "colab": {
          "base_uri": "https://localhost:8080/",
          "height": 206
        },
        "id": "nxSmF3C_QZDc",
        "outputId": "80c41a55-1877-480c-c7ef-1442ac696300"
      },
      "source": [
        "x.head()"
      ],
      "execution_count": 49,
      "outputs": [
        {
          "output_type": "execute_result",
          "data": {
            "text/html": [
              "<div>\n",
              "<style scoped>\n",
              "    .dataframe tbody tr th:only-of-type {\n",
              "        vertical-align: middle;\n",
              "    }\n",
              "\n",
              "    .dataframe tbody tr th {\n",
              "        vertical-align: top;\n",
              "    }\n",
              "\n",
              "    .dataframe thead th {\n",
              "        text-align: right;\n",
              "    }\n",
              "</style>\n",
              "<table border=\"1\" class=\"dataframe\">\n",
              "  <thead>\n",
              "    <tr style=\"text-align: right;\">\n",
              "      <th></th>\n",
              "      <th>x1</th>\n",
              "      <th>x2</th>\n",
              "    </tr>\n",
              "  </thead>\n",
              "  <tbody>\n",
              "    <tr>\n",
              "      <th>0</th>\n",
              "      <td>-119.366669</td>\n",
              "      <td>115.000000</td>\n",
              "    </tr>\n",
              "    <tr>\n",
              "      <th>1</th>\n",
              "      <td>-101.108044</td>\n",
              "      <td>97.777159</td>\n",
              "    </tr>\n",
              "    <tr>\n",
              "      <th>2</th>\n",
              "      <td>-130.278658</td>\n",
              "      <td>106.767654</td>\n",
              "    </tr>\n",
              "    <tr>\n",
              "      <th>3</th>\n",
              "      <td>-114.703415</td>\n",
              "      <td>101.195477</td>\n",
              "    </tr>\n",
              "    <tr>\n",
              "      <th>4</th>\n",
              "      <td>-119.366669</td>\n",
              "      <td>115.000000</td>\n",
              "    </tr>\n",
              "  </tbody>\n",
              "</table>\n",
              "</div>"
            ],
            "text/plain": [
              "           x1          x2\n",
              "0 -119.366669  115.000000\n",
              "1 -101.108044   97.777159\n",
              "2 -130.278658  106.767654\n",
              "3 -114.703415  101.195477\n",
              "4 -119.366669  115.000000"
            ]
          },
          "metadata": {},
          "execution_count": 49
        }
      ]
    },
    {
      "cell_type": "code",
      "metadata": {
        "colab": {
          "base_uri": "https://localhost:8080/"
        },
        "id": "s3dgq8OPQY4U",
        "outputId": "5e6a5d3b-682a-4d1b-8b06-5f7faac50d48"
      },
      "source": [
        "y.tail()"
      ],
      "execution_count": 50,
      "outputs": [
        {
          "output_type": "execute_result",
          "data": {
            "text/plain": [
              "440    1\n",
              "9      1\n",
              "120    1\n",
              "305    1\n",
              "798    1\n",
              "Name: y, dtype: int64"
            ]
          },
          "metadata": {},
          "execution_count": 50
        }
      ]
    },
    {
      "cell_type": "markdown",
      "metadata": {
        "id": "fV9LifgakxXh"
      },
      "source": [
        "### value sare normalized and outliers are removed"
      ]
    },
    {
      "cell_type": "code",
      "metadata": {
        "id": "3Bd4mC15QYs9"
      },
      "source": [
        "from sklearn.preprocessing import StandardScaler\n",
        "sc = StandardScaler()"
      ],
      "execution_count": 52,
      "outputs": []
    },
    {
      "cell_type": "code",
      "metadata": {
        "id": "oKR1juDzQYij"
      },
      "source": [
        "x = sc.fit_transform(x)"
      ],
      "execution_count": 53,
      "outputs": []
    },
    {
      "cell_type": "code",
      "metadata": {
        "colab": {
          "base_uri": "https://localhost:8080/"
        },
        "id": "5iKILe6fQXXJ",
        "outputId": "8cbe26de-d351-46b9-b646-0fa3ecd206d0"
      },
      "source": [
        "x = pd.DataFrame(x)\n",
        "x.head(10)\n",
        "x.rename(columns={0:'x1',1:'x2'},inplace=True)\n",
        "x.shape"
      ],
      "execution_count": 62,
      "outputs": [
        {
          "output_type": "execute_result",
          "data": {
            "text/plain": [
              "(2476, 2)"
            ]
          },
          "metadata": {},
          "execution_count": 62
        }
      ]
    },
    {
      "cell_type": "markdown",
      "metadata": {
        "id": "zpcS4BOWk5eJ"
      },
      "source": [
        "###Split dataset into training and testing"
      ]
    },
    {
      "cell_type": "code",
      "metadata": {
        "id": "qRxpQ5B3VXcf"
      },
      "source": [
        "from sklearn.model_selection import train_test_split\n",
        "x_train,x_test,y_train,y_test = train_test_split(x,y,test_size=0.30)"
      ],
      "execution_count": 68,
      "outputs": []
    },
    {
      "cell_type": "code",
      "metadata": {
        "colab": {
          "base_uri": "https://localhost:8080/",
          "height": 206
        },
        "id": "dc4mBI7uWRf3",
        "outputId": "2b8a2d6e-c1f9-48f9-cac5-20999c8bf92b"
      },
      "source": [
        "x_train.head()"
      ],
      "execution_count": 69,
      "outputs": [
        {
          "output_type": "execute_result",
          "data": {
            "text/html": [
              "<div>\n",
              "<style scoped>\n",
              "    .dataframe tbody tr th:only-of-type {\n",
              "        vertical-align: middle;\n",
              "    }\n",
              "\n",
              "    .dataframe tbody tr th {\n",
              "        vertical-align: top;\n",
              "    }\n",
              "\n",
              "    .dataframe thead th {\n",
              "        text-align: right;\n",
              "    }\n",
              "</style>\n",
              "<table border=\"1\" class=\"dataframe\">\n",
              "  <thead>\n",
              "    <tr style=\"text-align: right;\">\n",
              "      <th></th>\n",
              "      <th>x1</th>\n",
              "      <th>x2</th>\n",
              "    </tr>\n",
              "  </thead>\n",
              "  <tbody>\n",
              "    <tr>\n",
              "      <th>1950</th>\n",
              "      <td>1.602703</td>\n",
              "      <td>-0.028390</td>\n",
              "    </tr>\n",
              "    <tr>\n",
              "      <th>596</th>\n",
              "      <td>0.361778</td>\n",
              "      <td>-0.028422</td>\n",
              "    </tr>\n",
              "    <tr>\n",
              "      <th>1635</th>\n",
              "      <td>-0.480237</td>\n",
              "      <td>-0.028458</td>\n",
              "    </tr>\n",
              "    <tr>\n",
              "      <th>811</th>\n",
              "      <td>-1.405820</td>\n",
              "      <td>-0.028409</td>\n",
              "    </tr>\n",
              "    <tr>\n",
              "      <th>335</th>\n",
              "      <td>0.019449</td>\n",
              "      <td>-0.028440</td>\n",
              "    </tr>\n",
              "  </tbody>\n",
              "</table>\n",
              "</div>"
            ],
            "text/plain": [
              "            x1        x2\n",
              "1950  1.602703 -0.028390\n",
              "596   0.361778 -0.028422\n",
              "1635 -0.480237 -0.028458\n",
              "811  -1.405820 -0.028409\n",
              "335   0.019449 -0.028440"
            ]
          },
          "metadata": {},
          "execution_count": 69
        }
      ]
    },
    {
      "cell_type": "code",
      "metadata": {
        "colab": {
          "base_uri": "https://localhost:8080/"
        },
        "id": "bVpz9ve6WXIC",
        "outputId": "efeb201b-1a79-4139-d37a-d5a560409a6e"
      },
      "source": [
        "y_test.head()"
      ],
      "execution_count": 70,
      "outputs": [
        {
          "output_type": "execute_result",
          "data": {
            "text/plain": [
              "25      1\n",
              "1452    0\n",
              "2176    0\n",
              "2117    0\n",
              "1328    0\n",
              "Name: y, dtype: int64"
            ]
          },
          "metadata": {},
          "execution_count": 70
        }
      ]
    },
    {
      "cell_type": "markdown",
      "metadata": {
        "id": "X3HUNLPtk_-9"
      },
      "source": [
        "Hyperparameter tunning for KNN to pick optimal value k"
      ]
    },
    {
      "cell_type": "code",
      "metadata": {
        "id": "McQht7-EWru7"
      },
      "source": [
        "from sklearn.neighbors import KNeighborsClassifier"
      ],
      "execution_count": 71,
      "outputs": []
    },
    {
      "cell_type": "markdown",
      "metadata": {
        "id": "HvMw9gCLW609"
      },
      "source": [
        "Error curve to find the best K value on parameter"
      ]
    },
    {
      "cell_type": "code",
      "metadata": {
        "colab": {
          "base_uri": "https://localhost:8080/",
          "height": 336
        },
        "id": "GoWM7NZcWW6w",
        "outputId": "1eab0933-60e3-460e-b0cd-f08a63d8c5a5"
      },
      "source": [
        "error1= []\n",
        "error2= []\n",
        "for k in range(8,100):\n",
        "    knn= KNeighborsClassifier(n_neighbors=k)\n",
        "    knn.fit(x_train,y_train)\n",
        "    y_pred1= knn.predict(x_train)\n",
        "    error1.append(np.mean(y_train!= y_pred1))\n",
        "    y_pred2= knn.predict(x_test)\n",
        "    error2.append(np.mean(y_test!= y_pred2))\n",
        "# plt.figure(figsize(10,5))\n",
        "plt.plot(range(8,100),error1,label=\"train\")\n",
        "plt.plot(range(8,100),error2,label=\"test\")\n",
        "plt.xlabel('k Value')\n",
        "plt.ylabel('Error')\n",
        "plt.legend()\n",
        "print(error1)\n",
        "print(error2)\n",
        "plt.show()"
      ],
      "execution_count": 72,
      "outputs": [
        {
          "output_type": "stream",
          "name": "stdout",
          "text": [
            "[0.35603000577034044, 0.345066358915176, 0.3502596653202539, 0.3525678015002885, 0.36468551644547026, 0.36699365262550493, 0.36757068667051357, 0.3658395845354876, 0.37276399307559144, 0.37334102712060013, 0.36526255049047895, 0.3681477207155222, 0.37160992498557416, 0.3762261973456434, 0.38834391229082516, 0.3814195037507213, 0.3929601846508944, 0.3912290825158684, 0.3918061165608771, 0.395268320830929, 0.4021927293710329, 0.4004616272360069, 0.40565493364108485, 0.4039238315060589, 0.40796306982111946, 0.4085401038661281, 0.4166185804962493, 0.4229659549913445, 0.42008078476630123, 0.4275822273514137, 0.42873629544143105, 0.42642815926139643, 0.4293133294864397, 0.42238892094633584, 0.4229659549913445, 0.4270051933064051, 0.4235429890363531, 0.4281592613964224, 0.41950375072129253, 0.4177726485862666, 0.42238892094633584, 0.42642815926139643, 0.4212348528563185, 0.4212348528563185, 0.4212348528563185, 0.4275822273514137, 0.4270051933064051, 0.42469705712637046, 0.42238892094633584, 0.4229659549913445, 0.41604154645124064, 0.41546451240623195, 0.413733410271206, 0.41431044431621467, 0.41315637622619733, 0.4125793421811887, 0.40507789959607615, 0.41315637622619733, 0.4102712060011541, 0.41142527409117136, 0.4039238315060589, 0.4062319676860935, 0.4102712060011541, 0.4062319676860935, 0.4068090017311021, 0.41200230813618005, 0.41604154645124064, 0.40507789959607615, 0.4148874783612233, 0.42008078476630123, 0.42238892094633584, 0.4252740911713791, 0.4270051933064051, 0.4275822273514137, 0.43104443162146566, 0.4298903635314484, 0.4241200230813618, 0.42642815926139643, 0.42642815926139643, 0.4275822273514137, 0.42469705712637046, 0.4235429890363531, 0.42642815926139643, 0.4241200230813618, 0.430467397576457, 0.4316214656664743, 0.42873629544143105, 0.4333525678015003, 0.432198499711483, 0.4333525678015003, 0.4368147720715522, 0.4339296018465089]\n",
            "[0.42934051144010765, 0.4253028263795424, 0.43337819650067294, 0.42934051144010765, 0.4414535666218035, 0.4185733512786003, 0.43741588156123823, 0.4158815612382234, 0.4468371467025572, 0.43741588156123823, 0.43741588156123823, 0.43337819650067294, 0.44549125168236875, 0.44414535666218036, 0.44010767160161507, 0.4158815612382234, 0.4306864064602961, 0.44414535666218036, 0.44549125168236875, 0.44818304172274565, 0.4468371467025572, 0.4522207267833109, 0.4508748317631225, 0.4549125168236878, 0.4468371467025572, 0.4468371467025572, 0.46029609690444145, 0.4629878869448183, 0.46029609690444145, 0.46433378196500674, 0.45625841184387617, 0.458950201884253, 0.46567967698519513, 0.4535666218034993, 0.4535666218034993, 0.46029609690444145, 0.458950201884253, 0.4535666218034993, 0.4549125168236878, 0.4387617765814266, 0.4347240915208614, 0.4360699865410498, 0.423956931359354, 0.42934051144010765, 0.42799461641991926, 0.4360699865410498, 0.4387617765814266, 0.42799461641991926, 0.4427994616419919, 0.43203230148048455, 0.4414535666218035, 0.43741588156123823, 0.43741588156123823, 0.4360699865410498, 0.4306864064602961, 0.43741588156123823, 0.43741588156123823, 0.44010767160161507, 0.43337819650067294, 0.4347240915208614, 0.4199192462987887, 0.42126514131897713, 0.4185733512786003, 0.4158815612382234, 0.4158815612382234, 0.4253028263795424, 0.4306864064602961, 0.4199192462987887, 0.414535666218035, 0.4158815612382234, 0.40915208613728127, 0.41722745625841184, 0.41184387617765816, 0.4104979811574697, 0.423956931359354, 0.4185733512786003, 0.4185733512786003, 0.41722745625841184, 0.414535666218035, 0.41722745625841184, 0.4199192462987887, 0.414535666218035, 0.41318977119784656, 0.4266487213997308, 0.42799461641991926, 0.4306864064602961, 0.43203230148048455, 0.4360699865410498, 0.44010767160161507, 0.4387617765814266, 0.43337819650067294, 0.4360699865410498]\n"
          ]
        },
        {
          "output_type": "display_data",
          "data": {
            "image/png": "[encoded data removed]",
            "text/plain": [
              "<Figure size 432x288 with 1 Axes>"
            ]
          },
          "metadata": {
            "needs_background": "light"
          }
        }
      ]
    },
    {
      "cell_type": "markdown",
      "metadata": {
        "id": "K8wphp3-Yf91"
      },
      "source": [
        "*It is concluded that K value is 50*"
      ]
    },
    {
      "cell_type": "markdown",
      "metadata": {
        "id": "SDJfawtdXcWs"
      },
      "source": [
        "Train different Machine Learning models:\n",
        "####Logistic Regression\n",
        "####SVM with Linear Kernel\n",
        "###SVM with RBF Kernel\n",
        "####Decision Tree\n",
        "####KNN\n"
      ]
    },
    {
      "cell_type": "code",
      "metadata": {
        "id": "NHlrylr-WWiI"
      },
      "source": [
        "from sklearn.linear_model import LogisticRegression\n",
        "from sklearn.svm import SVC\n",
        "from sklearn.tree import DecisionTreeClassifier\n",
        "lr = LogisticRegression()\n",
        "svcl = SVC(kernel='linear')\n",
        "svcr = SVC(kernel='rbf',gamma=10)#80=55.4 low score on high gama\n",
        "dtc = DecisionTreeClassifier(criterion='entropy',max_depth=4,min_samples_split=8) #criterion Gini has overfitting problem so entropy is better \n",
        "knn1 = KNeighborsClassifier(n_neighbors=27) #57 = accuracy 55 so its  reduced then also no change or impact on score"
      ],
      "execution_count": 99,
      "outputs": []
    },
    {
      "cell_type": "code",
      "metadata": {
        "colab": {
          "base_uri": "https://localhost:8080/"
        },
        "id": "ADOx_59fWWTH",
        "outputId": "12b245ae-0ab8-4d55-8313-a107769e86a0"
      },
      "source": [
        "models = [lr,svcl,svcr,dtc,knn1]\n",
        "def model():\n",
        "    for i in models:\n",
        "     print(f'fitting the {i} model')\n",
        "     i.fit(x_train,y_train)\n",
        "model()\n"
      ],
      "execution_count": 100,
      "outputs": [
        {
          "output_type": "stream",
          "name": "stdout",
          "text": [
            "fitting the LogisticRegression(C=1.0, class_weight=None, dual=False, fit_intercept=True,\n",
            "                   intercept_scaling=1, l1_ratio=None, max_iter=100,\n",
            "                   multi_class='auto', n_jobs=None, penalty='l2',\n",
            "                   random_state=None, solver='lbfgs', tol=0.0001, verbose=0,\n",
            "                   warm_start=False) model\n",
            "fitting the SVC(C=1.0, break_ties=False, cache_size=200, class_weight=None, coef0=0.0,\n",
            "    decision_function_shape='ovr', degree=3, gamma='scale', kernel='linear',\n",
            "    max_iter=-1, probability=False, random_state=None, shrinking=True,\n",
            "    tol=0.001, verbose=False) model\n",
            "fitting the SVC(C=1.0, break_ties=False, cache_size=200, class_weight=None, coef0=0.0,\n",
            "    decision_function_shape='ovr', degree=3, gamma=10, kernel='rbf',\n",
            "    max_iter=-1, probability=False, random_state=None, shrinking=True,\n",
            "    tol=0.001, verbose=False) model\n",
            "fitting the DecisionTreeClassifier(ccp_alpha=0.0, class_weight=None, criterion='entropy',\n",
            "                       max_depth=4, max_features=None, max_leaf_nodes=None,\n",
            "                       min_impurity_decrease=0.0, min_impurity_split=None,\n",
            "                       min_samples_leaf=1, min_samples_split=8,\n",
            "                       min_weight_fraction_leaf=0.0, presort='deprecated',\n",
            "                       random_state=None, splitter='best') model\n",
            "fitting the KNeighborsClassifier(algorithm='auto', leaf_size=30, metric='minkowski',\n",
            "                     metric_params=None, n_jobs=None, n_neighbors=27, p=2,\n",
            "                     weights='uniform') model\n"
          ]
        }
      ]
    },
    {
      "cell_type": "markdown",
      "metadata": {
        "id": "DQhfqmoPlJaJ"
      },
      "source": [
        "##prediction on test data"
      ]
    },
    {
      "cell_type": "code",
      "metadata": {
        "id": "eOZw6nzSWWFg"
      },
      "source": [
        "y_predlr = lr.predict(x_test)\n",
        "y_predsvcl = svcl.predict(x_test)\n",
        "y_predsvcr = svcr.predict(x_test)\n",
        "y_preddtc = dtc.predict(x_test)\n",
        "y_predKnn1 = knn1.predict(x_test)"
      ],
      "execution_count": 101,
      "outputs": []
    },
    {
      "cell_type": "markdown",
      "metadata": {
        "id": "QAUlje4GlNC9"
      },
      "source": [
        "###Evaluation part on every model to predict the best Algorithm given"
      ]
    },
    {
      "cell_type": "code",
      "metadata": {
        "id": "Jz-y6q7wcF38"
      },
      "source": [
        "from sklearn.metrics import accuracy_score,confusion_matrix,classification_report"
      ],
      "execution_count": 84,
      "outputs": []
    },
    {
      "cell_type": "code",
      "metadata": {
        "colab": {
          "base_uri": "https://localhost:8080/",
          "height": 1000
        },
        "id": "PLjdrofubKyr",
        "outputId": "688d54f5-8e6a-42f2-f2da-c446cbba88c5"
      },
      "source": [
        "pred = {'Logistic Regression':y_predlr,'Support vector Linear kernal':y_predsvcl,'support vector rbf kernal':y_predsvcr,'Decison tree Classifier':y_preddtc,'Kneighbor Classifier':y_predKnn1}\n",
        "score_model = []\n",
        "for i in pred.keys():\n",
        "  exec(f'ac = accuracy_score(y_test,pred[i])')\n",
        "  print(f'the accuracy score {i}',ac)\n",
        "  score_model.append(ac*100)\n",
        "  print(f'confusion matrix {i}')\n",
        "  exec(f'cm = confusion_matrix(y_test,pred[i])')\n",
        "  print(cm)\n",
        "  print(f'the classification report {i}')\n",
        "  exec(f'cr = classification_report(y_test,pred[i])')\n",
        "  print(cr)\n",
        "plt.figure(1,(20,5))\n",
        "plt.bar(x=pred.keys(),height=score_model,color=['red','blue','green','maroon','yellow'])\n",
        "plt.xlabel('Model')\n",
        "plt.ylabel('Accuracy score')\n",
        "plt.title('To predict best model on accuracy score')\n",
        "plt.show()"
      ],
      "execution_count": 102,
      "outputs": [
        {
          "output_type": "stream",
          "name": "stdout",
          "text": [
            "the accuracy score Logistic Regression 0.5598923283983849\n",
            "confusion matrix Logistic Regression\n",
            "[[199 177]\n",
            " [150 217]]\n",
            "the classification report Logistic Regression\n",
            "              precision    recall  f1-score   support\n",
            "\n",
            "           0       0.57      0.53      0.55       376\n",
            "           1       0.55      0.59      0.57       367\n",
            "\n",
            "    accuracy                           0.56       743\n",
            "   macro avg       0.56      0.56      0.56       743\n",
            "weighted avg       0.56      0.56      0.56       743\n",
            "\n",
            "the accuracy score Support vector Linear kernal 0.5598923283983849\n",
            "confusion matrix Support vector Linear kernal\n",
            "[[199 177]\n",
            " [150 217]]\n",
            "the classification report Support vector Linear kernal\n",
            "              precision    recall  f1-score   support\n",
            "\n",
            "           0       0.57      0.53      0.55       376\n",
            "           1       0.55      0.59      0.57       367\n",
            "\n",
            "    accuracy                           0.56       743\n",
            "   macro avg       0.56      0.56      0.56       743\n",
            "weighted avg       0.56      0.56      0.56       743\n",
            "\n",
            "the accuracy score support vector rbf kernal 0.566621803499327\n",
            "confusion matrix support vector rbf kernal\n",
            "[[202 174]\n",
            " [148 219]]\n",
            "the classification report support vector rbf kernal\n",
            "              precision    recall  f1-score   support\n",
            "\n",
            "           0       0.58      0.54      0.56       376\n",
            "           1       0.56      0.60      0.58       367\n",
            "\n",
            "    accuracy                           0.57       743\n",
            "   macro avg       0.57      0.57      0.57       743\n",
            "weighted avg       0.57      0.57      0.57       743\n",
            "\n",
            "the accuracy score Decison tree Classifier 0.8236877523553163\n",
            "confusion matrix Decison tree Classifier\n",
            "[[290  86]\n",
            " [ 45 322]]\n",
            "the classification report Decison tree Classifier\n",
            "              precision    recall  f1-score   support\n",
            "\n",
            "           0       0.87      0.77      0.82       376\n",
            "           1       0.79      0.88      0.83       367\n",
            "\n",
            "    accuracy                           0.82       743\n",
            "   macro avg       0.83      0.82      0.82       743\n",
            "weighted avg       0.83      0.82      0.82       743\n",
            "\n",
            "the accuracy score Kneighbor Classifier 0.5518169582772544\n",
            "confusion matrix Kneighbor Classifier\n",
            "[[215 161]\n",
            " [172 195]]\n",
            "the classification report Kneighbor Classifier\n",
            "              precision    recall  f1-score   support\n",
            "\n",
            "           0       0.56      0.57      0.56       376\n",
            "           1       0.55      0.53      0.54       367\n",
            "\n",
            "    accuracy                           0.55       743\n",
            "   macro avg       0.55      0.55      0.55       743\n",
            "weighted avg       0.55      0.55      0.55       743\n",
            "\n"
          ]
        },
        {
          "output_type": "display_data",
          "data": {
            "image/png": "[encoded data removed]",
            "text/plain": [
              "<Figure size 1440x360 with 1 Axes>"
            ]
          },
          "metadata": {
            "needs_background": "light"
          }
        }
      ]
    },
    {
      "cell_type": "markdown",
      "metadata": {
        "id": "JqROl2yOhWzb"
      },
      "source": [
        "###the best model is chosen by comparing eachother with their accuracy score is **DECISION TREE CLASSIFIER** it has high accuracy which is shown above graph and moreover than that score precision score is **87& 79** (it show all the positive value is predicted correctly is high."
      ]
    },
    {
      "cell_type": "code",
      "metadata": {
        "colab": {
          "base_uri": "https://localhost:8080/"
        },
        "id": "pSfWOyVMdI5N",
        "outputId": "0037b2fe-d215-42d5-e3ef-f25ebab02c04"
      },
      "source": [
        "print('the training score of decsion tree classifier',dtc.score(x_train,y_train))\n",
        "print('the testing score of decsion tree classifier',dtc.score(x_test,y_test))\n",
        "# it is not facing any overfitting problem on general DTC disadvantages"
      ],
      "execution_count": 106,
      "outputs": [
        {
          "output_type": "stream",
          "name": "stdout",
          "text": [
            "the training score of decsion tree classifier 0.8263127524523947\n",
            "the testing score of decsion tree classifier 0.8236877523553163\n"
          ]
        }
      ]
    },
    {
      "cell_type": "markdown",
      "metadata": {
        "id": "Wra7pOSDjR0s"
      },
      "source": [
        "####Logistic Regression VS Decision tree classifier == high accuracy difference\n",
        "####Svc linear kernel VS Decision tree classifier == confusion matrix is better (misclassification is high)\n",
        "####Svc rbf kernel VS Decision tree classifier ==confusion matrix is better (misclassification is high)\n",
        "####Kneighbors classifier VS Decision tree classifier == precision and recall are poor compare with DTC"
      ]
    },
    {
      "cell_type": "markdown",
      "metadata": {
        "id": "U2_aMUKAibwb"
      },
      "source": [
        "## From the true value **77 & 88** % is predictly correctly by assuming the recall"
      ]
    },
    {
      "cell_type": "markdown",
      "metadata": {
        "id": "AqRPtEIEi370"
      },
      "source": [
        "#Therefore Decision Tree Classifier is prefect model for this dataset"
      ]
    },
    {
      "cell_type": "markdown",
      "metadata": {
        "id": "ashikxabiuGm"
      },
      "source": [
        "#*********************************************************** END ****************************************************************"
      ]
    }
  ]
}