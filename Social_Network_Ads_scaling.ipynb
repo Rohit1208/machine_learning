{
  "nbformat": 4,
  "nbformat_minor": 0,
  "metadata": {
    "kernelspec": {
      "display_name": "Python 3",
      "language": "python",
      "name": "python3"
    },
    "language_info": {
      "codemirror_mode": {
        "name": "ipython",
        "version": 3
      },
      "file_extension": ".py",
      "mimetype": "text/x-python",
      "name": "python",
      "nbconvert_exporter": "python",
      "pygments_lexer": "ipython3",
      "version": "3.7.3"
    },
    "colab": {
      "name": "Social_Network_Ads_scaling.ipynb",
      "provenance": [],
      "collapsed_sections": []
    }
  },
  "cells": [
    {
      "cell_type": "code",
      "metadata": {
        "id": "ANxkMMpejaHm"
      },
      "source": [
        "import pandas as pd\n",
        "import numpy as np\n",
        "import seaborn as sns\n",
        "import matplotlib.pyplot as plt\n"
      ],
      "execution_count": 3,
      "outputs": []
    },
    {
      "cell_type": "markdown",
      "metadata": {
        "id": "FqRyk03njaHz"
      },
      "source": [
        "#### Social_Network_Ads ML Exercise\n",
        "\n",
        "1) Read the dataset 'Social_Network_Ads.csv'<br>\n",
        "2) Remove/handle null values<br>\n",
        "3) Considering 'Age' and 'Estimated Salary' as input features and 'Purchased' as output feature, generate the following models after splitting the dataset into training and test dataset with test_size as 25%.<br>\n",
        "a) Logistic Regression <br>\n",
        "b) Decision Tree <br>\n",
        "c) RandomForest <br>\n",
        "d) KNN<br>\n",
        "and predict the Purchased class label.<br>\n",
        "4) Generate confusion matrix and classification report for each of these models.<br> \n",
        "5) Compute Accuracy score for each of these models.<br>\n",
        "6) Scale the input features using feature Scaling and then repeat question 3, 4 and 5<br>"
      ]
    },
    {
      "cell_type": "code",
      "metadata": {
        "id": "e2SCOmGDjaIX"
      },
      "source": [
        "df = pd.read_csv('/content/Social_Network_Ads(1).csv')"
      ],
      "execution_count": 4,
      "outputs": []
    },
    {
      "cell_type": "code",
      "metadata": {
        "colab": {
          "base_uri": "https://localhost:8080/",
          "height": 363
        },
        "id": "OdPzjydFkh9C",
        "outputId": "7f990928-d056-4682-d7a6-1a9680531749"
      },
      "source": [
        "df.head(10)"
      ],
      "execution_count": 5,
      "outputs": [
        {
          "output_type": "execute_result",
          "data": {
            "text/html": [
              "<div>\n",
              "<style scoped>\n",
              "    .dataframe tbody tr th:only-of-type {\n",
              "        vertical-align: middle;\n",
              "    }\n",
              "\n",
              "    .dataframe tbody tr th {\n",
              "        vertical-align: top;\n",
              "    }\n",
              "\n",
              "    .dataframe thead th {\n",
              "        text-align: right;\n",
              "    }\n",
              "</style>\n",
              "<table border=\"1\" class=\"dataframe\">\n",
              "  <thead>\n",
              "    <tr style=\"text-align: right;\">\n",
              "      <th></th>\n",
              "      <th>User ID</th>\n",
              "      <th>Gender</th>\n",
              "      <th>Age</th>\n",
              "      <th>EstimatedSalary</th>\n",
              "      <th>Purchased</th>\n",
              "    </tr>\n",
              "  </thead>\n",
              "  <tbody>\n",
              "    <tr>\n",
              "      <th>0</th>\n",
              "      <td>15624510</td>\n",
              "      <td>Male</td>\n",
              "      <td>19</td>\n",
              "      <td>19000</td>\n",
              "      <td>0</td>\n",
              "    </tr>\n",
              "    <tr>\n",
              "      <th>1</th>\n",
              "      <td>15810944</td>\n",
              "      <td>Male</td>\n",
              "      <td>35</td>\n",
              "      <td>20000</td>\n",
              "      <td>0</td>\n",
              "    </tr>\n",
              "    <tr>\n",
              "      <th>2</th>\n",
              "      <td>15668575</td>\n",
              "      <td>Female</td>\n",
              "      <td>26</td>\n",
              "      <td>43000</td>\n",
              "      <td>0</td>\n",
              "    </tr>\n",
              "    <tr>\n",
              "      <th>3</th>\n",
              "      <td>15603246</td>\n",
              "      <td>Female</td>\n",
              "      <td>27</td>\n",
              "      <td>57000</td>\n",
              "      <td>0</td>\n",
              "    </tr>\n",
              "    <tr>\n",
              "      <th>4</th>\n",
              "      <td>15804002</td>\n",
              "      <td>Male</td>\n",
              "      <td>19</td>\n",
              "      <td>76000</td>\n",
              "      <td>0</td>\n",
              "    </tr>\n",
              "    <tr>\n",
              "      <th>5</th>\n",
              "      <td>15728773</td>\n",
              "      <td>Male</td>\n",
              "      <td>27</td>\n",
              "      <td>58000</td>\n",
              "      <td>0</td>\n",
              "    </tr>\n",
              "    <tr>\n",
              "      <th>6</th>\n",
              "      <td>15598044</td>\n",
              "      <td>Female</td>\n",
              "      <td>27</td>\n",
              "      <td>84000</td>\n",
              "      <td>0</td>\n",
              "    </tr>\n",
              "    <tr>\n",
              "      <th>7</th>\n",
              "      <td>15694829</td>\n",
              "      <td>Female</td>\n",
              "      <td>32</td>\n",
              "      <td>150000</td>\n",
              "      <td>1</td>\n",
              "    </tr>\n",
              "    <tr>\n",
              "      <th>8</th>\n",
              "      <td>15600575</td>\n",
              "      <td>Male</td>\n",
              "      <td>25</td>\n",
              "      <td>33000</td>\n",
              "      <td>0</td>\n",
              "    </tr>\n",
              "    <tr>\n",
              "      <th>9</th>\n",
              "      <td>15727311</td>\n",
              "      <td>Female</td>\n",
              "      <td>35</td>\n",
              "      <td>65000</td>\n",
              "      <td>0</td>\n",
              "    </tr>\n",
              "  </tbody>\n",
              "</table>\n",
              "</div>"
            ],
            "text/plain": [
              "    User ID  Gender  Age  EstimatedSalary  Purchased\n",
              "0  15624510    Male   19            19000          0\n",
              "1  15810944    Male   35            20000          0\n",
              "2  15668575  Female   26            43000          0\n",
              "3  15603246  Female   27            57000          0\n",
              "4  15804002    Male   19            76000          0\n",
              "5  15728773    Male   27            58000          0\n",
              "6  15598044  Female   27            84000          0\n",
              "7  15694829  Female   32           150000          1\n",
              "8  15600575    Male   25            33000          0\n",
              "9  15727311  Female   35            65000          0"
            ]
          },
          "metadata": {},
          "execution_count": 5
        }
      ]
    },
    {
      "cell_type": "code",
      "metadata": {
        "colab": {
          "base_uri": "https://localhost:8080/"
        },
        "id": "_uH-Lph-oYtY",
        "outputId": "565afcd3-5200-41d1-c1b5-35e5b25e0dc7"
      },
      "source": [
        "df['Gender'].value_counts()"
      ],
      "execution_count": 6,
      "outputs": [
        {
          "output_type": "execute_result",
          "data": {
            "text/plain": [
              "Female    204\n",
              "Male      196\n",
              "Name: Gender, dtype: int64"
            ]
          },
          "metadata": {},
          "execution_count": 6
        }
      ]
    },
    {
      "cell_type": "code",
      "metadata": {
        "colab": {
          "base_uri": "https://localhost:8080/"
        },
        "id": "J_tO-651o6xA",
        "outputId": "6c939e63-cdfc-4b04-9ddc-305308f9b638"
      },
      "source": [
        "df['Purchased'].value_counts()"
      ],
      "execution_count": 7,
      "outputs": [
        {
          "output_type": "execute_result",
          "data": {
            "text/plain": [
              "0    257\n",
              "1    143\n",
              "Name: Purchased, dtype: int64"
            ]
          },
          "metadata": {},
          "execution_count": 7
        }
      ]
    },
    {
      "cell_type": "markdown",
      "metadata": {
        "id": "d_1YS0F_sCEJ"
      },
      "source": [
        "###Remove/handle null values"
      ]
    },
    {
      "cell_type": "code",
      "metadata": {
        "colab": {
          "base_uri": "https://localhost:8080/"
        },
        "id": "Miv01rDun6H6",
        "outputId": "e6636329-07bd-4629-ec24-a2dbd98a7188"
      },
      "source": [
        "df.isnull().sum()"
      ],
      "execution_count": 8,
      "outputs": [
        {
          "output_type": "execute_result",
          "data": {
            "text/plain": [
              "User ID            0\n",
              "Gender             0\n",
              "Age                0\n",
              "EstimatedSalary    0\n",
              "Purchased          0\n",
              "dtype: int64"
            ]
          },
          "metadata": {},
          "execution_count": 8
        }
      ]
    },
    {
      "cell_type": "markdown",
      "metadata": {
        "id": "Z09_N5B0nTNM"
      },
      "source": [
        "##Data visualization"
      ]
    },
    {
      "cell_type": "code",
      "metadata": {
        "colab": {
          "base_uri": "https://localhost:8080/",
          "height": 591
        },
        "id": "eDCEGqLCpVDG",
        "outputId": "e9dc3b59-020d-439b-ae15-1aac1e2cf5d1"
      },
      "source": [
        "sns.boxplot(x=df['Gender'],y=df['Age'])\n",
        "plt.title('Describe the Age of Male and Female')\n",
        "# plt.legend()\n",
        "plt.show()\n",
        "print('....................')\n",
        "sns.violinplot(x=df['Purchased'],y=df['Age'])\n",
        "plt.title('Describe the purchase details of Male and Female')\n",
        "plt.show()"
      ],
      "execution_count": 9,
      "outputs": [
        {
          "output_type": "display_data",
          "data": {
            "image/png": "[encoded data removed]",
            "text/plain": [
              "<Figure size 432x288 with 1 Axes>"
            ]
          },
          "metadata": {
            "needs_background": "light"
          }
        },
        {
          "output_type": "stream",
          "text": [
            "....................\n"
          ],
          "name": "stdout"
        },
        {
          "output_type": "display_data",
          "data": {
            "image/png": "[encoded data removed]",
            "text/plain": [
              "<Figure size 432x288 with 1 Axes>"
            ]
          },
          "metadata": {
            "needs_background": "light"
          }
        }
      ]
    },
    {
      "cell_type": "code",
      "metadata": {
        "colab": {
          "base_uri": "https://localhost:8080/",
          "height": 591
        },
        "id": "Mgm20S4eqvNK",
        "outputId": "e0331eca-f46c-48f8-e98a-01e30f3de563"
      },
      "source": [
        "sns.violinplot(x=df['Gender'],y=df['EstimatedSalary'])\n",
        "plt.title('Salary Analysis')\n",
        "plt.show()\n",
        "print('...................................')\n",
        "sns.boxplot(x=df['Purchased'],y=df['Age'])\n",
        "plt.title('Describe the purchase of Male and Female')\n",
        "# plt.legend()\n",
        "plt.show()"
      ],
      "execution_count": 10,
      "outputs": [
        {
          "output_type": "display_data",
          "data": {
            "image/png": "[encoded data removed]",
            "text/plain": [
              "<Figure size 432x288 with 1 Axes>"
            ]
          },
          "metadata": {
            "needs_background": "light"
          }
        },
        {
          "output_type": "stream",
          "text": [
            "...................................\n"
          ],
          "name": "stdout"
        },
        {
          "output_type": "display_data",
          "data": {
            "image/png": "[encoded data removed]",
            "text/plain": [
              "<Figure size 432x288 with 1 Axes>"
            ]
          },
          "metadata": {
            "needs_background": "light"
          }
        }
      ]
    },
    {
      "cell_type": "markdown",
      "metadata": {
        "id": "8Kg4t2xDsKR7"
      },
      "source": [
        "### Considering 'Age' and 'Estimated Salary' as input features and 'Purchased' as output feature, generate the following models after splitting the dataset into training and test dataset with test_size as 25%."
      ]
    },
    {
      "cell_type": "code",
      "metadata": {
        "id": "EIL6r4ZhkiKS"
      },
      "source": [
        "x = df.iloc[:,2:-1]\n",
        "y = df.iloc[:,-1]"
      ],
      "execution_count": 11,
      "outputs": []
    },
    {
      "cell_type": "code",
      "metadata": {
        "colab": {
          "base_uri": "https://localhost:8080/",
          "height": 206
        },
        "id": "lOhTBGQckiQx",
        "outputId": "3b654431-cc01-4abd-8efa-7d3bf572b3a0"
      },
      "source": [
        "x.head()"
      ],
      "execution_count": 12,
      "outputs": [
        {
          "output_type": "execute_result",
          "data": {
            "text/html": [
              "<div>\n",
              "<style scoped>\n",
              "    .dataframe tbody tr th:only-of-type {\n",
              "        vertical-align: middle;\n",
              "    }\n",
              "\n",
              "    .dataframe tbody tr th {\n",
              "        vertical-align: top;\n",
              "    }\n",
              "\n",
              "    .dataframe thead th {\n",
              "        text-align: right;\n",
              "    }\n",
              "</style>\n",
              "<table border=\"1\" class=\"dataframe\">\n",
              "  <thead>\n",
              "    <tr style=\"text-align: right;\">\n",
              "      <th></th>\n",
              "      <th>Age</th>\n",
              "      <th>EstimatedSalary</th>\n",
              "    </tr>\n",
              "  </thead>\n",
              "  <tbody>\n",
              "    <tr>\n",
              "      <th>0</th>\n",
              "      <td>19</td>\n",
              "      <td>19000</td>\n",
              "    </tr>\n",
              "    <tr>\n",
              "      <th>1</th>\n",
              "      <td>35</td>\n",
              "      <td>20000</td>\n",
              "    </tr>\n",
              "    <tr>\n",
              "      <th>2</th>\n",
              "      <td>26</td>\n",
              "      <td>43000</td>\n",
              "    </tr>\n",
              "    <tr>\n",
              "      <th>3</th>\n",
              "      <td>27</td>\n",
              "      <td>57000</td>\n",
              "    </tr>\n",
              "    <tr>\n",
              "      <th>4</th>\n",
              "      <td>19</td>\n",
              "      <td>76000</td>\n",
              "    </tr>\n",
              "  </tbody>\n",
              "</table>\n",
              "</div>"
            ],
            "text/plain": [
              "   Age  EstimatedSalary\n",
              "0   19            19000\n",
              "1   35            20000\n",
              "2   26            43000\n",
              "3   27            57000\n",
              "4   19            76000"
            ]
          },
          "metadata": {},
          "execution_count": 12
        }
      ]
    },
    {
      "cell_type": "code",
      "metadata": {
        "colab": {
          "base_uri": "https://localhost:8080/"
        },
        "id": "XWT8SYyskiYo",
        "outputId": "1ef03f64-c595-4172-9b02-3e77b1cd8c01"
      },
      "source": [
        "y.head()"
      ],
      "execution_count": 13,
      "outputs": [
        {
          "output_type": "execute_result",
          "data": {
            "text/plain": [
              "0    0\n",
              "1    0\n",
              "2    0\n",
              "3    0\n",
              "4    0\n",
              "Name: Purchased, dtype: int64"
            ]
          },
          "metadata": {},
          "execution_count": 13
        }
      ]
    },
    {
      "cell_type": "code",
      "metadata": {
        "id": "jDTiLL4Ckitn"
      },
      "source": [
        "from sklearn.model_selection import train_test_split"
      ],
      "execution_count": 14,
      "outputs": []
    },
    {
      "cell_type": "code",
      "metadata": {
        "id": "ABzF5adZkjMq"
      },
      "source": [
        "x_train,x_test,y_train,y_test = train_test_split(x,y,test_size=0.25)"
      ],
      "execution_count": 15,
      "outputs": []
    },
    {
      "cell_type": "code",
      "metadata": {
        "colab": {
          "base_uri": "https://localhost:8080/",
          "height": 206
        },
        "id": "ltuUYEoikjbp",
        "outputId": "fb13753e-ef6e-474a-85d0-fc2f52836a9b"
      },
      "source": [
        "x_train.head()"
      ],
      "execution_count": 16,
      "outputs": [
        {
          "output_type": "execute_result",
          "data": {
            "text/html": [
              "<div>\n",
              "<style scoped>\n",
              "    .dataframe tbody tr th:only-of-type {\n",
              "        vertical-align: middle;\n",
              "    }\n",
              "\n",
              "    .dataframe tbody tr th {\n",
              "        vertical-align: top;\n",
              "    }\n",
              "\n",
              "    .dataframe thead th {\n",
              "        text-align: right;\n",
              "    }\n",
              "</style>\n",
              "<table border=\"1\" class=\"dataframe\">\n",
              "  <thead>\n",
              "    <tr style=\"text-align: right;\">\n",
              "      <th></th>\n",
              "      <th>Age</th>\n",
              "      <th>EstimatedSalary</th>\n",
              "    </tr>\n",
              "  </thead>\n",
              "  <tbody>\n",
              "    <tr>\n",
              "      <th>89</th>\n",
              "      <td>35</td>\n",
              "      <td>50000</td>\n",
              "    </tr>\n",
              "    <tr>\n",
              "      <th>238</th>\n",
              "      <td>46</td>\n",
              "      <td>82000</td>\n",
              "    </tr>\n",
              "    <tr>\n",
              "      <th>59</th>\n",
              "      <td>32</td>\n",
              "      <td>117000</td>\n",
              "    </tr>\n",
              "    <tr>\n",
              "      <th>170</th>\n",
              "      <td>21</td>\n",
              "      <td>88000</td>\n",
              "    </tr>\n",
              "    <tr>\n",
              "      <th>3</th>\n",
              "      <td>27</td>\n",
              "      <td>57000</td>\n",
              "    </tr>\n",
              "  </tbody>\n",
              "</table>\n",
              "</div>"
            ],
            "text/plain": [
              "     Age  EstimatedSalary\n",
              "89    35            50000\n",
              "238   46            82000\n",
              "59    32           117000\n",
              "170   21            88000\n",
              "3     27            57000"
            ]
          },
          "metadata": {},
          "execution_count": 16
        }
      ]
    },
    {
      "cell_type": "code",
      "metadata": {
        "colab": {
          "base_uri": "https://localhost:8080/"
        },
        "id": "Nzm9qz5OtfTY",
        "outputId": "1e5bd21a-b477-4ff9-b02b-6eed6494a492"
      },
      "source": [
        "y_test.head()"
      ],
      "execution_count": 17,
      "outputs": [
        {
          "output_type": "execute_result",
          "data": {
            "text/plain": [
              "171    0\n",
              "27     1\n",
              "132    0\n",
              "285    1\n",
              "133    0\n",
              "Name: Purchased, dtype: int64"
            ]
          },
          "metadata": {},
          "execution_count": 17
        }
      ]
    },
    {
      "cell_type": "markdown",
      "metadata": {
        "id": "-qAVKL-utq_Z"
      },
      "source": [
        "**a) Logistic Regression\n",
        "b) Decision Tree\n",
        "c) RandomForest\n",
        "d) KNN\n",
        "and predict the Purchased class label.**"
      ]
    },
    {
      "cell_type": "code",
      "metadata": {
        "id": "T3HVIiHotfLY"
      },
      "source": [
        "from sklearn.linear_model import LogisticRegression\n",
        "from sklearn.tree import DecisionTreeClassifier\n",
        "from sklearn.ensemble import RandomForestClassifier\n",
        "from sklearn.neighbors import KNeighborsClassifier"
      ],
      "execution_count": 18,
      "outputs": []
    },
    {
      "cell_type": "markdown",
      "metadata": {
        "id": "pOgizxifT4ZP"
      },
      "source": [
        "error curve for predicting the K value"
      ]
    },
    {
      "cell_type": "code",
      "metadata": {
        "colab": {
          "base_uri": "https://localhost:8080/",
          "height": 336
        },
        "id": "Of7ImKA0zXNR",
        "outputId": "60e24cb2-9f51-451c-f39c-0f4fec722f40"
      },
      "source": [
        "error1= []\n",
        "error2= []\n",
        "for k in range(1,20):\n",
        "    knn= KNeighborsClassifier(n_neighbors=k)\n",
        "    knn.fit(x_train,y_train)\n",
        "    y_pred1= knn.predict(x_train)\n",
        "    error1.append(np.mean(y_train!= y_pred1))\n",
        "    y_pred2= knn.predict(x_test)\n",
        "    error2.append(np.mean(y_test!= y_pred2))\n",
        "# plt.figure(figsize(10,5))\n",
        "plt.plot(range(1,20),error1,label=\"train\")\n",
        "plt.plot(range(1,20),error2,label=\"test\")\n",
        "plt.xlabel('k Value')\n",
        "plt.ylabel('Error')\n",
        "plt.legend()\n",
        "print(error1)\n",
        "print(error2)\n",
        "plt.show()"
      ],
      "execution_count": 19,
      "outputs": [
        {
          "output_type": "stream",
          "text": [
            "[0.0033333333333333335, 0.11666666666666667, 0.10666666666666667, 0.14, 0.14, 0.17666666666666667, 0.14333333333333334, 0.17666666666666667, 0.18, 0.18333333333333332, 0.18333333333333332, 0.18666666666666668, 0.18666666666666668, 0.18, 0.19333333333333333, 0.17, 0.19333333333333333, 0.21, 0.20666666666666667]\n",
            "[0.17, 0.16, 0.19, 0.18, 0.18, 0.18, 0.14, 0.18, 0.19, 0.21, 0.2, 0.2, 0.18, 0.19, 0.18, 0.21, 0.21, 0.21, 0.19]\n"
          ],
          "name": "stdout"
        },
        {
          "output_type": "display_data",
          "data": {
            "image/png": "[encoded data removed]",
            "text/plain": [
              "<Figure size 432x288 with 1 Axes>"
            ]
          },
          "metadata": {
            "needs_background": "light"
          }
        }
      ]
    },
    {
      "cell_type": "code",
      "metadata": {
        "id": "O6pdMkbBuOMl"
      },
      "source": [
        "lr = LogisticRegression()\n",
        "dtc = DecisionTreeClassifier(criterion='gini',max_depth=4,min_samples_split=2)\n",
        "rf = RandomForestClassifier(criterion='entropy',max_depth=4,min_samples_split=4)\n",
        "knn = KNeighborsClassifier(n_neighbors=7,p=1)"
      ],
      "execution_count": 20,
      "outputs": []
    },
    {
      "cell_type": "code",
      "metadata": {
        "id": "JoUZE_x82VNU"
      },
      "source": [
        "model = [lr.fit(x_train,y_train),dtc.fit(x_train,y_train),rf.fit(x_train,y_train),knn.fit(x_train,y_train),'All the model is fitted']"
      ],
      "execution_count": 21,
      "outputs": []
    },
    {
      "cell_type": "code",
      "metadata": {
        "colab": {
          "base_uri": "https://localhost:8080/",
          "height": 36
        },
        "id": "K35ealV24Fdc",
        "outputId": "82cd2dd2-8aed-4679-c163-0da77eb2c33a"
      },
      "source": [
        "model[4]"
      ],
      "execution_count": 22,
      "outputs": [
        {
          "output_type": "execute_result",
          "data": {
            "application/vnd.google.colaboratory.intrinsic+json": {
              "type": "string"
            },
            "text/plain": [
              "'All the model is fitted'"
            ]
          },
          "metadata": {},
          "execution_count": 22
        }
      ]
    },
    {
      "cell_type": "code",
      "metadata": {
        "colab": {
          "base_uri": "https://localhost:8080/"
        },
        "id": "krImhlLM2idn",
        "outputId": "c047b6c2-a861-4f47-8c9e-74b98500fe1c"
      },
      "source": [
        "for i in model:\n",
        "  print('fitting the model...: ',i)\n",
        "# return i <= model[4]"
      ],
      "execution_count": 23,
      "outputs": [
        {
          "output_type": "stream",
          "text": [
            "fitting the model...:  LogisticRegression(C=1.0, class_weight=None, dual=False, fit_intercept=True,\n",
            "                   intercept_scaling=1, l1_ratio=None, max_iter=100,\n",
            "                   multi_class='auto', n_jobs=None, penalty='l2',\n",
            "                   random_state=None, solver='lbfgs', tol=0.0001, verbose=0,\n",
            "                   warm_start=False)\n",
            "fitting the model...:  DecisionTreeClassifier(ccp_alpha=0.0, class_weight=None, criterion='gini',\n",
            "                       max_depth=4, max_features=None, max_leaf_nodes=None,\n",
            "                       min_impurity_decrease=0.0, min_impurity_split=None,\n",
            "                       min_samples_leaf=1, min_samples_split=2,\n",
            "                       min_weight_fraction_leaf=0.0, presort='deprecated',\n",
            "                       random_state=None, splitter='best')\n",
            "fitting the model...:  RandomForestClassifier(bootstrap=True, ccp_alpha=0.0, class_weight=None,\n",
            "                       criterion='entropy', max_depth=4, max_features='auto',\n",
            "                       max_leaf_nodes=None, max_samples=None,\n",
            "                       min_impurity_decrease=0.0, min_impurity_split=None,\n",
            "                       min_samples_leaf=1, min_samples_split=4,\n",
            "                       min_weight_fraction_leaf=0.0, n_estimators=100,\n",
            "                       n_jobs=None, oob_score=False, random_state=None,\n",
            "                       verbose=0, warm_start=False)\n",
            "fitting the model...:  KNeighborsClassifier(algorithm='auto', leaf_size=30, metric='minkowski',\n",
            "                     metric_params=None, n_jobs=None, n_neighbors=7, p=1,\n",
            "                     weights='uniform')\n",
            "fitting the model...:  All the model is fitted\n"
          ],
          "name": "stdout"
        }
      ]
    },
    {
      "cell_type": "code",
      "metadata": {
        "id": "yzn0WcYj4TSV"
      },
      "source": [
        "y_predlr = lr.predict(x_test)\n",
        "y_preddtc = dtc.predict(x_test)\n",
        "y_predrf = rf.predict(x_test)\n",
        "y_predknn = knn.predict(x_test)\n",
        "Prediction_purchased_class = [y_predlr,y_preddtc,y_predrf,y_predknn]\n",
        "# pred = ['logistic regression','decision tree classifier','random forest classifier','kneighbors classifier']"
      ],
      "execution_count": 24,
      "outputs": []
    },
    {
      "cell_type": "code",
      "metadata": {
        "colab": {
          "base_uri": "https://localhost:8080/"
        },
        "id": "QFnprl1Utex2",
        "outputId": "c5ec8f2d-582a-4d46-d59f-63be9d0e0609"
      },
      "source": [
        "for i in Prediction_purchased_class:\n",
        "  print('Predicting the each model',i)"
      ],
      "execution_count": 25,
      "outputs": [
        {
          "output_type": "stream",
          "text": [
            "Predicting the each model [0 0 0 0 0 0 0 0 0 0 0 0 0 0 0 0 0 0 0 0 0 0 0 0 0 0 0 0 0 0 0 0 0 0 0 0 0\n",
            " 0 0 0 0 0 0 0 0 0 0 0 0 0 0 0 0 0 0 0 0 0 0 0 0 0 0 0 0 0 0 0 0 0 0 0 0 0\n",
            " 0 0 0 0 0 0 0 0 0 0 0 0 0 0 0 0 0 0 0 0 0 0 0 0 0 0]\n",
            "Predicting the each model [1 1 0 1 0 1 0 0 1 1 1 0 0 0 0 1 0 0 0 1 1 0 1 1 1 0 0 0 0 0 0 1 0 0 0 1 0\n",
            " 0 0 1 0 0 0 0 1 1 0 0 1 0 0 1 0 0 1 0 1 0 0 0 1 1 0 0 1 0 0 0 0 1 0 0 1 0\n",
            " 0 1 0 0 0 1 0 1 1 1 1 0 0 0 0 0 1 0 0 1 0 0 1 0 0 0]\n",
            "Predicting the each model [1 1 0 1 0 1 0 0 1 1 1 0 0 0 0 1 0 0 0 1 1 1 1 1 1 0 0 0 0 0 0 1 0 0 0 1 0\n",
            " 0 0 1 0 0 0 0 1 1 0 0 1 0 0 1 0 0 1 0 0 0 0 0 1 1 0 0 1 0 0 0 0 1 0 0 1 0\n",
            " 0 1 0 0 0 1 0 1 1 1 0 0 0 0 0 0 1 0 0 1 0 0 1 0 0 0]\n",
            "Predicting the each model [1 1 0 1 0 1 0 0 1 1 1 0 0 0 0 1 0 0 0 1 0 1 1 0 1 0 0 0 0 0 0 1 0 0 0 1 0\n",
            " 0 0 1 0 0 0 0 1 1 0 0 1 0 0 0 1 0 0 0 0 0 0 0 1 0 0 0 1 0 0 0 0 0 0 0 0 0\n",
            " 0 1 0 0 0 1 0 0 1 1 0 0 0 0 0 0 0 0 0 1 0 0 1 0 0 0]\n"
          ],
          "name": "stdout"
        }
      ]
    },
    {
      "cell_type": "markdown",
      "metadata": {
        "id": "9A9RJKMa_83L"
      },
      "source": [
        "###Generate confusion matrix and classification report for each of these models. Compute Accuracy score for each of these models."
      ]
    },
    {
      "cell_type": "code",
      "metadata": {
        "id": "vSA-3Z8YAYFb"
      },
      "source": [
        "from sklearn.metrics import accuracy_score,confusion_matrix,classification_report"
      ],
      "execution_count": 26,
      "outputs": []
    },
    {
      "cell_type": "code",
      "metadata": {
        "id": "WHtlM3K7DHah"
      },
      "source": [
        "cm =[confusion_matrix(y_test,y_predlr),confusion_matrix(y_test,y_preddtc),confusion_matrix(y_test,y_predrf),confusion_matrix(y_test,y_predknn)]"
      ],
      "execution_count": 27,
      "outputs": []
    },
    {
      "cell_type": "code",
      "metadata": {
        "colab": {
          "base_uri": "https://localhost:8080/"
        },
        "id": "Adg0W5niDdeI",
        "outputId": "3f7c284b-e46e-4f5d-ad33-4bd6b11fc78c"
      },
      "source": [
        "for i in cm:\n",
        "  print('confusion matrix')\n",
        "  print(i)"
      ],
      "execution_count": 63,
      "outputs": [
        {
          "output_type": "stream",
          "text": [
            "confusion matrix\n",
            "[[69  0]\n",
            " [31  0]]\n",
            "confusion matrix\n",
            "[[60  9]\n",
            " [ 4 27]]\n",
            "confusion matrix\n",
            "[[62  7]\n",
            " [ 3 28]]\n",
            "confusion matrix\n",
            "[[64  5]\n",
            " [ 9 22]]\n"
          ],
          "name": "stdout"
        }
      ]
    },
    {
      "cell_type": "code",
      "metadata": {
        "colab": {
          "base_uri": "https://localhost:8080/"
        },
        "id": "Mjeozd2cE_Z5",
        "outputId": "00b34e63-aa58-4da7-ff73-c84d6b7b80cc"
      },
      "source": [
        "cr = [classification_report(y_test,y_predlr),classification_report(y_test,y_preddtc),classification_report(y_test,y_predrf),classification_report(y_test,y_predknn)]"
      ],
      "execution_count": 29,
      "outputs": [
        {
          "output_type": "stream",
          "text": [
            "/usr/local/lib/python3.7/dist-packages/sklearn/metrics/_classification.py:1272: UndefinedMetricWarning: Precision and F-score are ill-defined and being set to 0.0 in labels with no predicted samples. Use `zero_division` parameter to control this behavior.\n",
            "  _warn_prf(average, modifier, msg_start, len(result))\n"
          ],
          "name": "stderr"
        }
      ]
    },
    {
      "cell_type": "code",
      "metadata": {
        "colab": {
          "base_uri": "https://localhost:8080/"
        },
        "id": "FKKVX6qjIQcs",
        "outputId": "ea891a9d-d8a8-4ae5-dec4-d3e72b6e5c83"
      },
      "source": [
        "for i  in cr:\n",
        "  print('the classification report')\n",
        "  print(i)\n"
      ],
      "execution_count": 32,
      "outputs": [
        {
          "output_type": "stream",
          "text": [
            "the classification report\n",
            "              precision    recall  f1-score   support\n",
            "\n",
            "           0       0.69      1.00      0.82        69\n",
            "           1       0.00      0.00      0.00        31\n",
            "\n",
            "    accuracy                           0.69       100\n",
            "   macro avg       0.34      0.50      0.41       100\n",
            "weighted avg       0.48      0.69      0.56       100\n",
            "\n",
            "the classification report\n",
            "              precision    recall  f1-score   support\n",
            "\n",
            "           0       0.94      0.87      0.90        69\n",
            "           1       0.75      0.87      0.81        31\n",
            "\n",
            "    accuracy                           0.87       100\n",
            "   macro avg       0.84      0.87      0.85       100\n",
            "weighted avg       0.88      0.87      0.87       100\n",
            "\n",
            "the classification report\n",
            "              precision    recall  f1-score   support\n",
            "\n",
            "           0       0.95      0.90      0.93        69\n",
            "           1       0.80      0.90      0.85        31\n",
            "\n",
            "    accuracy                           0.90       100\n",
            "   macro avg       0.88      0.90      0.89       100\n",
            "weighted avg       0.91      0.90      0.90       100\n",
            "\n",
            "the classification report\n",
            "              precision    recall  f1-score   support\n",
            "\n",
            "           0       0.88      0.93      0.90        69\n",
            "           1       0.81      0.71      0.76        31\n",
            "\n",
            "    accuracy                           0.86       100\n",
            "   macro avg       0.85      0.82      0.83       100\n",
            "weighted avg       0.86      0.86      0.86       100\n",
            "\n"
          ],
          "name": "stdout"
        }
      ]
    },
    {
      "cell_type": "code",
      "metadata": {
        "id": "u_YEzMcJGtsK"
      },
      "source": [
        "# pred = ['logistic regression','decision tree classifier','random forest classifier','kneighbors classifier']"
      ],
      "execution_count": 126,
      "outputs": []
    },
    {
      "cell_type": "code",
      "metadata": {
        "id": "Zoyn2ushFnAl"
      },
      "source": [
        "# for i in cr:\n",
        "  # for j in pred:\n",
        "    # while j<=j[4]:\n",
        "     print('the classification_report',j)\n",
        "     break\n",
        "return i\n",
        "\n",
        "  # break\n",
        "\n",
        "  # print(i)"
      ],
      "execution_count": null,
      "outputs": []
    },
    {
      "cell_type": "code",
      "metadata": {
        "colab": {
          "base_uri": "https://localhost:8080/"
        },
        "id": "eBiYiRrxteki",
        "outputId": "8f05e1e6-d2ad-4fa0-aa4d-76c38b87d535"
      },
      "source": [
        "print('accuracy score of logistic regression',accuracy_score(y_test,y_predlr))\n",
        "print('accuracy score of Decision tree classifier',accuracy_score(y_test,y_preddtc))\n",
        "print('accuracy score of random forest classifier',accuracy_score(y_test,y_predrf))\n",
        "print('accuracy score of Kneighbors',accuracy_score(y_test,y_predknn))\n"
      ],
      "execution_count": 33,
      "outputs": [
        {
          "output_type": "stream",
          "text": [
            "accuracy score of logistic regression 0.69\n",
            "accuracy score of Decision tree classifier 0.87\n",
            "accuracy score of random forest classifier 0.9\n",
            "accuracy score of Kneighbors 0.86\n"
          ],
          "name": "stdout"
        }
      ]
    },
    {
      "cell_type": "markdown",
      "metadata": {
        "id": "MbImUQx7PsWS"
      },
      "source": [
        "##Scale the input features using feature Scaling"
      ]
    },
    {
      "cell_type": "code",
      "metadata": {
        "id": "qbNxME4BPuBh"
      },
      "source": [
        "from sklearn.preprocessing import StandardScaler"
      ],
      "execution_count": 42,
      "outputs": []
    },
    {
      "cell_type": "code",
      "metadata": {
        "id": "DE19_ohIQAfN"
      },
      "source": [
        "sc = StandardScaler()"
      ],
      "execution_count": 43,
      "outputs": []
    },
    {
      "cell_type": "code",
      "metadata": {
        "id": "VRbdUl59QKuw"
      },
      "source": [
        "x1 = sc.fit_transform(x)"
      ],
      "execution_count": 79,
      "outputs": []
    },
    {
      "cell_type": "code",
      "metadata": {
        "colab": {
          "base_uri": "https://localhost:8080/"
        },
        "id": "Zm4EY8yZQUf4",
        "outputId": "8f44e865-6e10-4d0f-a79f-e1d65874c45d"
      },
      "source": [
        "x1"
      ],
      "execution_count": 80,
      "outputs": [
        {
          "output_type": "execute_result",
          "data": {
            "text/plain": [
              "array([[-1.78179743, -1.49004624],\n",
              "       [-0.25358736, -1.46068138],\n",
              "       [-1.11320552, -0.78528968],\n",
              "       [-1.01769239, -0.37418169],\n",
              "       [-1.78179743,  0.18375059],\n",
              "       [-1.01769239, -0.34481683],\n",
              "       [-1.01769239,  0.41866944],\n",
              "       [-0.54012675,  2.35674998],\n",
              "       [-1.20871865, -1.07893824],\n",
              "       [-0.25358736, -0.13926283],\n",
              "       [-1.11320552,  0.30121002],\n",
              "       [-1.11320552, -0.52100597],\n",
              "       [-1.6862843 ,  0.47739916],\n",
              "       [-0.54012675, -1.51941109],\n",
              "       [-1.87731056,  0.35993973],\n",
              "       [-0.82666613,  0.30121002],\n",
              "       [ 0.89257019, -1.3138571 ],\n",
              "       [ 0.70154394, -1.28449224],\n",
              "       [ 0.79705706, -1.22576253],\n",
              "       [ 0.98808332, -1.19639767],\n",
              "       [ 0.70154394, -1.40195167],\n",
              "       [ 0.89257019, -0.60910054],\n",
              "       [ 0.98808332, -0.84401939],\n",
              "       [ 0.70154394, -1.40195167],\n",
              "       [ 0.79705706, -1.37258681],\n",
              "       [ 0.89257019, -1.46068138],\n",
              "       [ 1.08359645, -1.22576253],\n",
              "       [ 0.89257019, -1.16703281],\n",
              "       [-0.82666613, -0.78528968],\n",
              "       [-0.63563988, -1.51941109],\n",
              "       [-0.63563988,  0.12502088],\n",
              "       [-1.01769239,  1.97500684],\n",
              "       [-1.59077117, -1.5781408 ],\n",
              "       [-0.92217926, -0.75592482],\n",
              "       [-1.01769239,  0.59485858],\n",
              "       [-0.25358736, -1.25512738],\n",
              "       [-0.44461362, -1.22576253],\n",
              "       [-0.73115301, -0.60910054],\n",
              "       [-1.11320552,  0.06629116],\n",
              "       [-1.01769239, -1.13766796],\n",
              "       [-1.01769239, -1.54877595],\n",
              "       [-0.44461362, -0.55037082],\n",
              "       [-0.25358736,  1.123426  ],\n",
              "       [-0.73115301, -1.60750566],\n",
              "       [-0.92217926,  0.41866944],\n",
              "       [-1.39974491, -1.46068138],\n",
              "       [-1.20871865,  0.27184516],\n",
              "       [-1.01769239, -0.46227625],\n",
              "       [-0.73115301,  1.91627713],\n",
              "       [-0.63563988,  0.56549373],\n",
              "       [-1.30423178, -1.1083031 ],\n",
              "       [-1.87731056, -0.75592482],\n",
              "       [-0.82666613,  0.38930459],\n",
              "       [-0.25358736, -1.37258681],\n",
              "       [-1.01769239, -0.34481683],\n",
              "       [-1.30423178, -0.4329114 ],\n",
              "       [-1.39974491, -0.63846539],\n",
              "       [-0.92217926,  0.27184516],\n",
              "       [-1.49525804, -1.51941109],\n",
              "       [-0.54012675,  1.38770971],\n",
              "       [-1.01769239, -1.46068138],\n",
              "       [-1.20871865,  0.50676401],\n",
              "       [-1.39974491, -0.10989798],\n",
              "       [-0.54012675,  1.47580428],\n",
              "       [ 2.03872775,  0.38930459],\n",
              "       [-1.30423178, -0.34481683],\n",
              "       [-1.30423178, -1.49004624],\n",
              "       [-1.39974491,  0.35993973],\n",
              "       [-1.49525804, -0.19799255],\n",
              "       [-0.63563988, -0.05116826],\n",
              "       [-1.20871865,  0.30121002],\n",
              "       [-1.30423178, -1.25512738],\n",
              "       [-1.6862843 , -1.37258681],\n",
              "       [-0.44461362,  1.27025028],\n",
              "       [-0.54012675, -1.51941109],\n",
              "       [-0.34910049,  1.24088543],\n",
              "       [-1.87731056, -0.52100597],\n",
              "       [-1.49525804, -1.25512738],\n",
              "       [-0.92217926,  0.50676401],\n",
              "       [-1.11320552, -1.54877595],\n",
              "       [-0.73115301,  0.30121002],\n",
              "       [ 0.12846516, -0.81465453],\n",
              "       [-1.6862843 , -0.60910054],\n",
              "       [-0.25358736,  0.53612887],\n",
              "       [-0.73115301, -0.2273574 ],\n",
              "       [-0.63563988,  1.41707457],\n",
              "       [-1.30423178, -0.4329114 ],\n",
              "       [-0.92217926,  0.4480343 ],\n",
              "       [-1.11320552,  0.33057487],\n",
              "       [-0.25358736, -0.57973568],\n",
              "       [-1.49525804,  0.33057487],\n",
              "       [-0.73115301,  1.35834485],\n",
              "       [-1.11320552, -1.60750566],\n",
              "       [-0.82666613, -1.22576253],\n",
              "       [-0.82666613,  0.38930459],\n",
              "       [-0.25358736, -0.75592482],\n",
              "       [-0.25358736, -1.3138571 ],\n",
              "       [-0.92217926,  1.56389885],\n",
              "       [-0.25358736,  0.09565602],\n",
              "       [-0.92217926, -0.96147882],\n",
              "       [-1.01769239,  0.53612887],\n",
              "       [-0.92217926, -0.31545197],\n",
              "       [-0.54012675,  0.47739916],\n",
              "       [-0.44461362,  2.32738512],\n",
              "       [-1.78179743, -1.43131652],\n",
              "       [-1.59077117,  0.06629116],\n",
              "       [-1.11320552, -1.02020853],\n",
              "       [-1.01769239,  0.56549373],\n",
              "       [-1.11320552,  0.47739916],\n",
              "       [ 0.03295203,  0.30121002],\n",
              "       [ 0.12846516,  0.03692631],\n",
              "       [-0.0625611 ,  0.03692631],\n",
              "       [ 0.03295203, -0.25672226],\n",
              "       [-0.0625611 , -0.4329114 ],\n",
              "       [ 0.41500455,  0.30121002],\n",
              "       [ 0.22397829, -0.37418169],\n",
              "       [-0.25358736,  0.15438573],\n",
              "       [-0.15807423, -0.52100597],\n",
              "       [ 0.22397829, -0.31545197],\n",
              "       [ 0.31949142, -0.31545197],\n",
              "       [-0.15807423,  0.15438573],\n",
              "       [-0.0625611 ,  0.06629116],\n",
              "       [ 0.22397829,  0.15438573],\n",
              "       [-0.25358736, -0.49164111],\n",
              "       [ 0.31949142, -0.55037082],\n",
              "       [ 0.12846516, -0.25672226],\n",
              "       [ 0.41500455, -0.13926283],\n",
              "       [-1.11320552, -1.1083031 ],\n",
              "       [-0.73115301, -1.54877595],\n",
              "       [-1.11320552,  0.41866944],\n",
              "       [-0.63563988, -0.34481683],\n",
              "       [-0.44461362, -1.13766796],\n",
              "       [-0.73115301,  0.50676401],\n",
              "       [-1.59077117, -0.05116826],\n",
              "       [-0.92217926, -0.4329114 ],\n",
              "       [-1.39974491, -0.19799255],\n",
              "       [-1.6862843 ,  0.35993973],\n",
              "       [-0.73115301,  1.09406114],\n",
              "       [-0.92217926, -0.31545197],\n",
              "       [-1.78179743, -1.3138571 ],\n",
              "       [-1.78179743,  0.4480343 ],\n",
              "       [-1.87731056, -0.05116826],\n",
              "       [-0.25358736, -0.31545197],\n",
              "       [-0.73115301,  0.56549373],\n",
              "       [-0.34910049, -1.3138571 ],\n",
              "       [-1.30423178,  0.56549373],\n",
              "       [-1.01769239,  0.77104772],\n",
              "       [ 0.31949142, -1.16703281],\n",
              "       [-0.82666613, -0.25672226],\n",
              "       [-1.6862843 ,  0.12502088],\n",
              "       [-1.11320552, -1.60750566],\n",
              "       [ 0.31949142, -0.72655996],\n",
              "       [-0.63563988,  0.18375059],\n",
              "       [-0.15807423, -0.57973568],\n",
              "       [ 0.22397829, -0.66783025],\n",
              "       [-0.63563988, -1.60750566],\n",
              "       [ 0.79705706, -0.31545197],\n",
              "       [-0.82666613,  0.15438573],\n",
              "       [-1.11320552, -1.16703281],\n",
              "       [-0.54012675,  1.91627713],\n",
              "       [-0.54012675,  0.88850715],\n",
              "       [-1.20871865,  0.59485858],\n",
              "       [-0.0625611 , -1.07893824],\n",
              "       [-0.25358736, -0.93211396],\n",
              "       [-0.44461362, -0.02180341],\n",
              "       [-1.87731056,  0.47739916],\n",
              "       [-1.49525804, -0.4329114 ],\n",
              "       [-0.25358736,  0.03692631],\n",
              "       [-0.82666613,  2.29802026],\n",
              "       [-0.82666613, -0.66783025],\n",
              "       [-1.59077117,  0.53612887],\n",
              "       [-0.34910049,  1.32898   ],\n",
              "       [-1.11320552,  1.41707457],\n",
              "       [-0.34910049, -0.78528968],\n",
              "       [-0.34910049,  0.06629116],\n",
              "       [-1.39974491, -1.22576253],\n",
              "       [-0.25358736, -0.66783025],\n",
              "       [-1.20871865, -1.40195167],\n",
              "       [-1.30423178, -1.37258681],\n",
              "       [-0.63563988, -1.04957339],\n",
              "       [-1.11320552, -1.5781408 ],\n",
              "       [-0.63563988,  0.03692631],\n",
              "       [-0.54012675,  1.38770971],\n",
              "       [-0.44461362, -0.78528968],\n",
              "       [-0.44461362, -0.28608712],\n",
              "       [-0.63563988, -0.10989798],\n",
              "       [-1.6862843 ,  0.35993973],\n",
              "       [-0.44461362, -0.84401939],\n",
              "       [-0.25358736,  0.06629116],\n",
              "       [-0.92217926, -1.1083031 ],\n",
              "       [-1.30423178,  0.41866944],\n",
              "       [-1.78179743, -1.28449224],\n",
              "       [-0.82666613, -0.78528968],\n",
              "       [-1.78179743,  0.00756145],\n",
              "       [-0.92217926,  0.56549373],\n",
              "       [-0.34910049, -0.78528968],\n",
              "       [-0.73115301,  0.27184516],\n",
              "       [-1.6862843 , -0.99084367],\n",
              "       [-1.11320552,  0.30121002],\n",
              "       [-0.25358736, -1.40195167],\n",
              "       [-0.25358736, -0.9027491 ],\n",
              "       [ 1.08359645,  0.12502088],\n",
              "       [ 0.12846516,  1.88691227],\n",
              "       [ 0.31949142,  0.03692631],\n",
              "       [ 1.94321462,  0.917872  ],\n",
              "       [ 0.89257019, -0.66783025],\n",
              "       [ 1.65667523,  1.76945285],\n",
              "       [ 1.37013584,  1.29961514],\n",
              "       [ 0.22397829,  2.12183112],\n",
              "       [ 0.79705706, -1.40195167],\n",
              "       [ 0.98808332,  0.77104772],\n",
              "       [ 1.37013584,  2.35674998],\n",
              "       [ 2.03872775, -0.81465453],\n",
              "       [-0.25358736, -0.34481683],\n",
              "       [ 0.89257019, -0.78528968],\n",
              "       [ 2.13424088,  1.123426  ],\n",
              "       [ 1.08359645, -0.13926283],\n",
              "       [ 0.22397829,  0.2424803 ],\n",
              "       [ 0.79705706,  0.77104772],\n",
              "       [ 2.03872775,  2.15119598],\n",
              "       [ 0.31949142,  0.30121002],\n",
              "       [-0.25358736,  0.62422344],\n",
              "       [-0.0625611 ,  2.18056084],\n",
              "       [ 2.13424088,  0.94723686],\n",
              "       [-0.25358736, -0.28608712],\n",
              "       [-0.0625611 , -0.49164111],\n",
              "       [-0.15807423,  1.65199342],\n",
              "       [ 1.75218836,  1.85754742],\n",
              "       [ 0.22397829,  0.06629116],\n",
              "       [ 0.41500455,  0.30121002],\n",
              "       [-0.25358736,  2.26865541],\n",
              "       [ 0.12846516, -0.81465453],\n",
              "       [ 0.22397829,  1.09406114],\n",
              "       [ 1.08359645,  0.47739916],\n",
              "       [ 0.03295203,  1.24088543],\n",
              "       [ 0.79705706,  0.27184516],\n",
              "       [ 0.22397829, -0.37418169],\n",
              "       [-0.0625611 ,  0.30121002],\n",
              "       [ 0.79705706,  0.35993973],\n",
              "       [ 1.46564897,  2.15119598],\n",
              "       [ 0.41500455,  2.32738512],\n",
              "       [ 0.03295203, -0.31545197],\n",
              "       [ 1.17910958,  0.53612887],\n",
              "       [ 1.75218836,  1.00596657],\n",
              "       [ 0.31949142,  0.06629116],\n",
              "       [ 1.27462271,  2.23929055],\n",
              "       [-0.25358736, -0.57973568],\n",
              "       [ 1.84770149,  1.53453399],\n",
              "       [ 0.31949142, -0.52100597],\n",
              "       [-0.25358736,  0.80041258],\n",
              "       [ 0.60603081, -0.9027491 ],\n",
              "       [-0.0625611 , -0.52100597],\n",
              "       [ 0.98808332,  1.88691227],\n",
              "       [-0.0625611 ,  2.23929055],\n",
              "       [ 1.17910958, -0.75592482],\n",
              "       [ 1.37013584,  0.59485858],\n",
              "       [ 0.31949142,  0.06629116],\n",
              "       [ 0.22397829, -0.37418169],\n",
              "       [ 1.94321462,  0.74168287],\n",
              "       [ 0.70154394,  1.7988177 ],\n",
              "       [-0.25358736,  0.21311545],\n",
              "       [-0.15807423,  2.18056084],\n",
              "       [ 1.65667523,  1.62262856],\n",
              "       [-0.25358736,  0.06629116],\n",
              "       [ 0.98808332,  0.59485858],\n",
              "       [ 0.41500455,  1.123426  ],\n",
              "       [ 0.22397829,  0.15438573],\n",
              "       [-0.0625611 ,  0.12502088],\n",
              "       [ 0.89257019,  2.18056084],\n",
              "       [ 0.22397829, -0.25672226],\n",
              "       [ 0.51051768,  1.85754742],\n",
              "       [ 2.03872775,  0.18375059],\n",
              "       [ 2.13424088, -0.81465453],\n",
              "       [ 0.12846516,  1.06469629],\n",
              "       [ 1.84770149, -1.28449224],\n",
              "       [ 1.84770149,  0.12502088],\n",
              "       [ 0.03295203,  0.03692631],\n",
              "       [ 1.08359645,  0.53612887],\n",
              "       [ 1.37013584, -0.93211396],\n",
              "       [ 1.17910958, -0.99084367],\n",
              "       [ 2.03872775,  0.53612887],\n",
              "       [-0.25358736, -0.25672226],\n",
              "       [-0.0625611 ,  0.00756145],\n",
              "       [ 1.37013584, -1.43131652],\n",
              "       [ 0.98808332,  2.09246627],\n",
              "       [-0.0625611 ,  0.68295315],\n",
              "       [-0.0625611 , -0.2273574 ],\n",
              "       [ 0.98808332,  2.0043717 ],\n",
              "       [ 0.31949142,  0.27184516],\n",
              "       [-0.0625611 ,  0.2424803 ],\n",
              "       [ 0.12846516,  1.88691227],\n",
              "       [ 1.08359645,  0.56549373],\n",
              "       [ 1.65667523, -0.9027491 ],\n",
              "       [-0.0625611 ,  0.21311545],\n",
              "       [-0.25358736, -0.37418169],\n",
              "       [-0.15807423, -0.19799255],\n",
              "       [ 0.41500455,  0.09565602],\n",
              "       [ 0.51051768,  1.24088543],\n",
              "       [ 0.70154394,  0.27184516],\n",
              "       [ 0.79705706,  1.38770971],\n",
              "       [ 1.94321462, -0.93211396],\n",
              "       [ 0.98808332,  0.12502088],\n",
              "       [-0.0625611 ,  1.97500684],\n",
              "       [-0.0625611 ,  0.27184516],\n",
              "       [ 0.22397829, -0.28608712],\n",
              "       [ 0.41500455, -0.46227625],\n",
              "       [ 1.27462271,  1.88691227],\n",
              "       [ 0.89257019,  1.27025028],\n",
              "       [-0.15807423,  1.62262856],\n",
              "       [ 0.03295203, -0.57973568],\n",
              "       [ 0.41500455,  0.00756145],\n",
              "       [ 0.12846516,  0.77104772],\n",
              "       [ 0.03295203, -0.57973568],\n",
              "       [ 1.08359645,  2.09246627],\n",
              "       [ 0.12846516,  0.27184516],\n",
              "       [ 0.12846516,  0.15438573],\n",
              "       [ 1.5611621 ,  1.00596657],\n",
              "       [-0.25358736, -0.4329114 ],\n",
              "       [ 0.70154394, -1.1083031 ],\n",
              "       [-0.15807423, -0.28608712],\n",
              "       [ 1.37013584,  2.0043717 ],\n",
              "       [ 1.46564897,  0.35993973],\n",
              "       [ 0.31949142, -0.52100597],\n",
              "       [ 0.98808332, -1.16703281],\n",
              "       [ 0.98808332,  1.7988177 ],\n",
              "       [ 0.31949142, -0.28608712],\n",
              "       [ 0.31949142,  0.06629116],\n",
              "       [ 0.41500455,  0.15438573],\n",
              "       [-0.15807423,  1.41707457],\n",
              "       [ 0.89257019,  1.09406114],\n",
              "       [ 0.03295203, -0.55037082],\n",
              "       [ 0.98808332,  1.44643942],\n",
              "       [ 0.41500455, -0.13926283],\n",
              "       [ 0.22397829, -0.13926283],\n",
              "       [ 1.84770149, -0.28608712],\n",
              "       [-0.15807423, -0.46227625],\n",
              "       [ 1.94321462,  2.18056084],\n",
              "       [-0.25358736,  0.27184516],\n",
              "       [ 0.03295203, -0.4329114 ],\n",
              "       [ 0.12846516,  1.53453399],\n",
              "       [ 1.46564897,  1.00596657],\n",
              "       [-0.25358736,  0.15438573],\n",
              "       [ 0.03295203, -0.13926283],\n",
              "       [ 0.89257019, -0.55037082],\n",
              "       [ 0.89257019,  1.03533143],\n",
              "       [ 0.31949142, -0.19799255],\n",
              "       [ 1.46564897,  0.06629116],\n",
              "       [ 1.5611621 ,  1.123426  ],\n",
              "       [ 0.12846516,  0.21311545],\n",
              "       [ 0.03295203, -0.25672226],\n",
              "       [ 0.03295203,  1.27025028],\n",
              "       [-0.0625611 ,  0.15438573],\n",
              "       [ 0.41500455,  0.59485858],\n",
              "       [-0.0625611 , -0.37418169],\n",
              "       [-0.15807423,  0.85914229],\n",
              "       [ 2.13424088, -1.04957339],\n",
              "       [ 1.5611621 ,  0.00756145],\n",
              "       [ 0.31949142,  0.06629116],\n",
              "       [ 0.22397829,  0.03692631],\n",
              "       [ 0.41500455, -0.46227625],\n",
              "       [ 0.51051768,  1.74008799],\n",
              "       [ 1.46564897, -1.04957339],\n",
              "       [ 0.89257019, -0.57973568],\n",
              "       [ 0.41500455,  0.27184516],\n",
              "       [ 0.41500455,  1.00596657],\n",
              "       [ 2.03872775, -1.19639767],\n",
              "       [ 1.94321462, -0.66783025],\n",
              "       [ 0.79705706,  0.53612887],\n",
              "       [ 0.03295203,  0.03692631],\n",
              "       [ 1.5611621 , -1.28449224],\n",
              "       [ 2.13424088, -0.69719511],\n",
              "       [ 2.13424088,  0.38930459],\n",
              "       [ 0.12846516,  0.09565602],\n",
              "       [ 2.03872775,  1.76945285],\n",
              "       [-0.0625611 ,  0.30121002],\n",
              "       [ 0.79705706, -1.1083031 ],\n",
              "       [ 0.79705706,  0.12502088],\n",
              "       [ 0.41500455, -0.49164111],\n",
              "       [ 0.31949142,  0.50676401],\n",
              "       [ 1.94321462, -1.37258681],\n",
              "       [ 0.41500455, -0.16862769],\n",
              "       [ 0.98808332, -1.07893824],\n",
              "       [ 0.60603081,  2.03373655],\n",
              "       [ 1.08359645, -1.22576253],\n",
              "       [ 1.84770149, -1.07893824],\n",
              "       [ 1.75218836, -0.28608712],\n",
              "       [ 1.08359645, -0.9027491 ],\n",
              "       [ 0.12846516,  0.03692631],\n",
              "       [ 0.89257019, -1.04957339],\n",
              "       [ 0.98808332, -1.02020853],\n",
              "       [ 0.98808332, -1.07893824],\n",
              "       [ 0.89257019, -1.37258681],\n",
              "       [ 0.70154394, -0.72655996],\n",
              "       [ 2.13424088, -0.81465453],\n",
              "       [ 0.12846516, -0.31545197],\n",
              "       [ 0.79705706, -0.84401939],\n",
              "       [ 1.27462271, -1.37258681],\n",
              "       [ 1.17910958, -1.46068138],\n",
              "       [-0.15807423, -1.07893824],\n",
              "       [ 1.08359645, -0.99084367]])"
            ]
          },
          "metadata": {},
          "execution_count": 80
        }
      ]
    },
    {
      "cell_type": "code",
      "metadata": {
        "id": "Qh6kAsH7Redp"
      },
      "source": [
        "xs_train,xs_test,ys_train,ys_test = train_test_split(x1,y,test_size=0.25)"
      ],
      "execution_count": 81,
      "outputs": []
    },
    {
      "cell_type": "markdown",
      "metadata": {
        "id": "j0RTNNgFUCaA"
      },
      "source": [
        "error curve for predicting k value"
      ]
    },
    {
      "cell_type": "code",
      "metadata": {
        "colab": {
          "base_uri": "https://localhost:8080/",
          "height": 336
        },
        "id": "zid0LKVGTvp8",
        "outputId": "bce77fc8-7f6b-4917-f45a-1002c102a5e1"
      },
      "source": [
        "error1= []\n",
        "error2= []\n",
        "for k in range(1,20):\n",
        "    knn= KNeighborsClassifier(n_neighbors=k)\n",
        "    knn.fit(xs_train,ys_train)\n",
        "    ys_pred1= knn.predict(xs_train)\n",
        "    error1.append(np.mean(ys_train!= ys_pred1))\n",
        "    ys_pred2= knn.predict(xs_test)\n",
        "    error2.append(np.mean(ys_test!= ys_pred2))\n",
        "# plt.figure(figsize(10,5))\n",
        "plt.plot(range(1,20),error1,label=\"train\")\n",
        "plt.plot(range(1,20),error2,label=\"test\")\n",
        "plt.xlabel('k Value')\n",
        "plt.ylabel('Error')\n",
        "plt.legend()\n",
        "print(error1)\n",
        "print(error2)\n",
        "plt.show()"
      ],
      "execution_count": 50,
      "outputs": [
        {
          "output_type": "stream",
          "text": [
            "[0.006666666666666667, 0.08333333333333333, 0.07666666666666666, 0.08666666666666667, 0.08, 0.09, 0.08333333333333333, 0.09, 0.08333333333333333, 0.09, 0.08666666666666667, 0.09333333333333334, 0.09, 0.09, 0.08666666666666667, 0.09, 0.08666666666666667, 0.09333333333333334, 0.09333333333333334]\n",
            "[0.13, 0.17, 0.09, 0.1, 0.1, 0.11, 0.09, 0.11, 0.1, 0.1, 0.1, 0.12, 0.11, 0.12, 0.1, 0.12, 0.11, 0.11, 0.11]\n"
          ],
          "name": "stdout"
        },
        {
          "output_type": "display_data",
          "data": {
            "image/png": "[encoded data removed]",
            "text/plain": [
              "<Figure size 432x288 with 1 Axes>"
            ]
          },
          "metadata": {
            "needs_background": "light"
          }
        }
      ]
    },
    {
      "cell_type": "code",
      "metadata": {
        "id": "B7l7vrrcUeT3"
      },
      "source": [
        "lrs = LogisticRegression()\n",
        "dtcs = DecisionTreeClassifier(criterion='gini',max_depth=4,min_samples_split=2)\n",
        "rfs = RandomForestClassifier(criterion='entropy',max_depth=4,min_samples_split=4)\n",
        "knns = KNeighborsClassifier(n_neighbors=17,p=1)"
      ],
      "execution_count": 83,
      "outputs": []
    },
    {
      "cell_type": "code",
      "metadata": {
        "id": "ITnDBo04UeMm"
      },
      "source": [
        "model_sc = [lrs.fit(xs_train,ys_train),dtcs.fit(xs_train,ys_train),rfs.fit(xs_train,ys_train),knns.fit(xs_train,ys_train),'All the model is fitted']"
      ],
      "execution_count": 85,
      "outputs": []
    },
    {
      "cell_type": "code",
      "metadata": {
        "colab": {
          "base_uri": "https://localhost:8080/"
        },
        "id": "YOWgMzomUeFS",
        "outputId": "8cdcef57-8efc-4428-c349-34af27070872"
      },
      "source": [
        "for i in model_sc:\n",
        "  print('fitting the model...: ',i)"
      ],
      "execution_count": 86,
      "outputs": [
        {
          "output_type": "stream",
          "text": [
            "fitting the model...:  LogisticRegression(C=1.0, class_weight=None, dual=False, fit_intercept=True,\n",
            "                   intercept_scaling=1, l1_ratio=None, max_iter=100,\n",
            "                   multi_class='auto', n_jobs=None, penalty='l2',\n",
            "                   random_state=None, solver='lbfgs', tol=0.0001, verbose=0,\n",
            "                   warm_start=False)\n",
            "fitting the model...:  DecisionTreeClassifier(ccp_alpha=0.0, class_weight=None, criterion='gini',\n",
            "                       max_depth=4, max_features=None, max_leaf_nodes=None,\n",
            "                       min_impurity_decrease=0.0, min_impurity_split=None,\n",
            "                       min_samples_leaf=1, min_samples_split=2,\n",
            "                       min_weight_fraction_leaf=0.0, presort='deprecated',\n",
            "                       random_state=None, splitter='best')\n",
            "fitting the model...:  RandomForestClassifier(bootstrap=True, ccp_alpha=0.0, class_weight=None,\n",
            "                       criterion='entropy', max_depth=4, max_features='auto',\n",
            "                       max_leaf_nodes=None, max_samples=None,\n",
            "                       min_impurity_decrease=0.0, min_impurity_split=None,\n",
            "                       min_samples_leaf=1, min_samples_split=4,\n",
            "                       min_weight_fraction_leaf=0.0, n_estimators=100,\n",
            "                       n_jobs=None, oob_score=False, random_state=None,\n",
            "                       verbose=0, warm_start=False)\n",
            "fitting the model...:  KNeighborsClassifier(algorithm='auto', leaf_size=30, metric='minkowski',\n",
            "                     metric_params=None, n_jobs=None, n_neighbors=17, p=1,\n",
            "                     weights='uniform')\n",
            "fitting the model...:  All the model is fitted\n"
          ],
          "name": "stdout"
        }
      ]
    },
    {
      "cell_type": "code",
      "metadata": {
        "id": "4WyMMVDrUd9i"
      },
      "source": [
        "y_predlrs = lrs.predict(xs_test)\n",
        "y_preddtcs = dtcs.predict(xs_test)\n",
        "y_predrfs = rfs.predict(xs_test)\n",
        "y_predknns = knns.predict(xs_test)\n",
        "Prediction_purchased_class = [y_predlrs,y_preddtcs,y_predrfs,y_predknns]"
      ],
      "execution_count": 87,
      "outputs": []
    },
    {
      "cell_type": "code",
      "metadata": {
        "colab": {
          "base_uri": "https://localhost:8080/"
        },
        "id": "RdfrF6G2Ud0o",
        "outputId": "242dde2c-6bf2-4904-ad4b-4b6d0bc413b1"
      },
      "source": [
        "for i in Prediction_purchased_class:\n",
        "  print('Predicting the each model',i)"
      ],
      "execution_count": 88,
      "outputs": [
        {
          "output_type": "stream",
          "text": [
            "Predicting the each model [1 1 1 0 1 0 0 0 0 0 0 0 0 0 0 0 0 0 1 0 1 0 0 1 0 1 0 1 0 0 0 0 0 1 0 0 1\n",
            " 1 0 1 0 0 0 0 1 0 0 1 0 1 0 0 0 1 0 0 0 0 0 1 0 0 1 1 0 1 0 1 0 0 1 0 1 0\n",
            " 0 0 0 0 1 0 0 0 0 0 0 0 1 0 1 1 0 1 1 0 0 0 1 1 1 0]\n",
            "Predicting the each model [1 1 1 0 1 0 1 0 0 0 1 0 0 1 0 0 0 0 1 0 1 1 0 1 1 1 0 1 0 0 1 0 0 1 0 0 1\n",
            " 1 0 1 0 0 0 0 1 0 0 1 0 1 1 0 0 1 0 0 0 1 0 1 0 0 1 1 0 1 0 1 0 0 1 0 1 1\n",
            " 1 0 0 1 1 0 0 0 0 1 0 0 1 1 1 1 1 1 1 1 1 0 1 1 1 0]\n",
            "Predicting the each model [1 1 1 0 1 0 1 0 0 0 1 0 0 1 0 0 0 0 1 1 1 1 0 1 1 1 0 1 0 0 1 0 0 1 0 0 1\n",
            " 1 0 1 0 0 0 0 1 0 0 1 0 1 1 0 0 1 0 0 0 1 0 1 0 0 1 1 0 1 1 1 0 0 1 0 1 1\n",
            " 1 0 0 1 1 0 0 0 0 1 0 0 1 1 1 1 1 1 1 1 1 0 1 1 1 0]\n",
            "Predicting the each model [1 1 1 1 1 0 1 0 0 0 1 0 0 1 0 0 0 0 1 0 1 1 0 1 0 1 0 1 0 0 1 0 0 1 0 0 0\n",
            " 1 0 1 0 0 0 0 1 0 0 1 0 1 0 0 0 1 0 0 0 1 0 1 0 0 1 1 0 1 1 1 0 0 1 0 1 1\n",
            " 1 0 0 1 1 0 0 0 0 1 0 0 1 0 1 1 1 1 1 1 1 0 1 1 1 0]\n"
          ],
          "name": "stdout"
        }
      ]
    },
    {
      "cell_type": "markdown",
      "metadata": {
        "id": "bSoMDW1QVaKm"
      },
      "source": [
        "###Generate confusion matrix and classification report for each of these models. Compute Accuracy score for each of these models"
      ]
    },
    {
      "cell_type": "code",
      "metadata": {
        "id": "Kh_yYaKDUdrL"
      },
      "source": [
        "cms =[confusion_matrix(ys_test,y_predlrs),confusion_matrix(ys_test,y_preddtcs),confusion_matrix(ys_test,y_predrfs),confusion_matrix(ys_test,y_predknns)]"
      ],
      "execution_count": 89,
      "outputs": []
    },
    {
      "cell_type": "code",
      "metadata": {
        "colab": {
          "base_uri": "https://localhost:8080/"
        },
        "id": "0ZfffY5rUdgG",
        "outputId": "cb0681eb-f105-4f9a-db60-a5dc200b92a5"
      },
      "source": [
        "for i  in cms:\n",
        "  print('the confusion matrix')\n",
        "  print(i)\n"
      ],
      "execution_count": 90,
      "outputs": [
        {
          "output_type": "stream",
          "text": [
            "the confusion matrix\n",
            "[[53  3]\n",
            " [14 30]]\n",
            "the confusion matrix\n",
            "[[48  8]\n",
            " [ 3 41]]\n",
            "the confusion matrix\n",
            "[[47  9]\n",
            " [ 2 42]]\n",
            "the confusion matrix\n",
            "[[46 10]\n",
            " [ 7 37]]\n"
          ],
          "name": "stdout"
        }
      ]
    },
    {
      "cell_type": "code",
      "metadata": {
        "colab": {
          "base_uri": "https://localhost:8080/"
        },
        "id": "TqhT5slrUdY3",
        "outputId": "9f20afde-6048-4898-9d7e-6bfa548e1cf9"
      },
      "source": [
        "crs = [classification_report(ys_test,y_predlrs),classification_report(ys_test,y_preddtcs),classification_report(ys_test,y_predrfs),classification_report(ys_test,y_predknns)]\n",
        "for i in crs:\n",
        "  print('the classification report')\n",
        "  print(i)"
      ],
      "execution_count": 91,
      "outputs": [
        {
          "output_type": "stream",
          "text": [
            "the classification report\n",
            "              precision    recall  f1-score   support\n",
            "\n",
            "           0       0.79      0.95      0.86        56\n",
            "           1       0.91      0.68      0.78        44\n",
            "\n",
            "    accuracy                           0.83       100\n",
            "   macro avg       0.85      0.81      0.82       100\n",
            "weighted avg       0.84      0.83      0.83       100\n",
            "\n",
            "the classification report\n",
            "              precision    recall  f1-score   support\n",
            "\n",
            "           0       0.94      0.86      0.90        56\n",
            "           1       0.84      0.93      0.88        44\n",
            "\n",
            "    accuracy                           0.89       100\n",
            "   macro avg       0.89      0.89      0.89       100\n",
            "weighted avg       0.90      0.89      0.89       100\n",
            "\n",
            "the classification report\n",
            "              precision    recall  f1-score   support\n",
            "\n",
            "           0       0.96      0.84      0.90        56\n",
            "           1       0.82      0.95      0.88        44\n",
            "\n",
            "    accuracy                           0.89       100\n",
            "   macro avg       0.89      0.90      0.89       100\n",
            "weighted avg       0.90      0.89      0.89       100\n",
            "\n",
            "the classification report\n",
            "              precision    recall  f1-score   support\n",
            "\n",
            "           0       0.87      0.82      0.84        56\n",
            "           1       0.79      0.84      0.81        44\n",
            "\n",
            "    accuracy                           0.83       100\n",
            "   macro avg       0.83      0.83      0.83       100\n",
            "weighted avg       0.83      0.83      0.83       100\n",
            "\n"
          ],
          "name": "stdout"
        }
      ]
    },
    {
      "cell_type": "markdown",
      "metadata": {
        "id": "tjas0h2XXv2d"
      },
      "source": [
        "#with scaling score"
      ]
    },
    {
      "cell_type": "code",
      "metadata": {
        "colab": {
          "base_uri": "https://localhost:8080/"
        },
        "id": "WwMXPCFFUdQn",
        "outputId": "6ff3a042-cd86-4086-ea19-813871ef7f4e"
      },
      "source": [
        "print('accuracy score of logistic regression',accuracy_score(ys_test,y_predlrs))\n",
        "print('accuracy score of Decision tree classifier',accuracy_score(ys_test,y_preddtcs))\n",
        "print('accuracy score of random forest classifier',accuracy_score(ys_test,y_predrfs))\n",
        "print('accuracy score of Kneighbors',accuracy_score(ys_test,y_predknns))"
      ],
      "execution_count": 92,
      "outputs": [
        {
          "output_type": "stream",
          "text": [
            "accuracy score of logistic regression 0.83\n",
            "accuracy score of Decision tree classifier 0.89\n",
            "accuracy score of random forest classifier 0.89\n",
            "accuracy score of Kneighbors 0.83\n"
          ],
          "name": "stdout"
        }
      ]
    },
    {
      "cell_type": "markdown",
      "metadata": {
        "id": "e9ADYYtpXq43"
      },
      "source": [
        "#without Scaling score"
      ]
    },
    {
      "cell_type": "code",
      "metadata": {
        "colab": {
          "base_uri": "https://localhost:8080/"
        },
        "id": "3c5YB9uhUdIy",
        "outputId": "b4a7aba7-9f17-420a-bd71-60bff568ab80"
      },
      "source": [
        "print('accuracy score of logistic regression',accuracy_score(y_test,y_predlr))\n",
        "print('accuracy score of Decision tree classifier',accuracy_score(y_test,y_preddtc))\n",
        "print('accuracy score of random forest classifier',accuracy_score(y_test,y_predrf))\n",
        "print('accuracy score of Kneighbors',accuracy_score(y_test,y_predknn))"
      ],
      "execution_count": 78,
      "outputs": [
        {
          "output_type": "stream",
          "text": [
            "accuracy score of logistic regression 0.69\n",
            "accuracy score of Decision tree classifier 0.87\n",
            "accuracy score of random forest classifier 0.9\n",
            "accuracy score of Kneighbors 0.86\n"
          ],
          "name": "stdout"
        }
      ]
    },
    {
      "cell_type": "markdown",
      "metadata": {
        "id": "O_i9qoYaX5cx"
      },
      "source": [
        "#*============================================End==========================================================*"
      ]
    },
    {
      "cell_type": "code",
      "metadata": {
        "id": "K5yIBqVhYFaS"
      },
      "source": [
        ""
      ],
      "execution_count": null,
      "outputs": []
    }
  ]
}